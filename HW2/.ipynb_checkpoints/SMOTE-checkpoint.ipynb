{
 "cells": [
  {
   "cell_type": "code",
   "execution_count": 70,
   "id": "09eaeb0c-aa18-4dfc-8a73-40cb747ef4eb",
   "metadata": {},
   "outputs": [],
   "source": [
    "import pandas as pd\n",
    "import numpy as np\n",
    "import matplotlib.pyplot as plt\n",
    "import seaborn as sns\n",
    "from imblearn.over_sampling import SMOTE\n",
    "from sklearn.preprocessing import Normalizer\n",
    "from sklearn.model_selection import train_test_split, StratifiedKFold\n",
    "from sklearn import svm\n",
    "from sklearn.metrics import confusion_matrix, accuracy_score, f1_score, precision_score, recall_score"
   ]
  },
  {
   "cell_type": "code",
   "execution_count": 2,
   "id": "11226139-f94f-4f8a-b92b-046795ebd339",
   "metadata": {},
   "outputs": [],
   "source": [
    "data = pd.read_csv('data/dataset.csv')"
   ]
  },
  {
   "cell_type": "code",
   "execution_count": 3,
   "id": "0f806d3b-79e1-4099-ad8d-7b46afe10bf4",
   "metadata": {},
   "outputs": [
    {
     "name": "stdout",
     "output_type": "stream",
     "text": [
      "<class 'pandas.core.frame.DataFrame'>\n",
      "RangeIndex: 43400 entries, 0 to 43399\n",
      "Data columns (total 12 columns):\n",
      " #   Column             Non-Null Count  Dtype  \n",
      "---  ------             --------------  -----  \n",
      " 0   id                 43400 non-null  int64  \n",
      " 1   gender             43400 non-null  object \n",
      " 2   age                43400 non-null  float64\n",
      " 3   hypertension       43400 non-null  int64  \n",
      " 4   heart_disease      43400 non-null  int64  \n",
      " 5   ever_married       43400 non-null  object \n",
      " 6   work_type          43400 non-null  object \n",
      " 7   Residence_type     43400 non-null  object \n",
      " 8   avg_glucose_level  43400 non-null  float64\n",
      " 9   bmi                41938 non-null  float64\n",
      " 10  smoking_status     30108 non-null  object \n",
      " 11  stroke             43400 non-null  int64  \n",
      "dtypes: float64(3), int64(4), object(5)\n",
      "memory usage: 4.0+ MB\n"
     ]
    }
   ],
   "source": [
    "data.info()"
   ]
  },
  {
   "cell_type": "markdown",
   "id": "b1b63587-4151-4795-a79a-ca59662c61a3",
   "metadata": {},
   "source": [
    "from here we can see there are missing values in smoking_status and bmi"
   ]
  },
  {
   "cell_type": "markdown",
   "id": "17a7f5f1-a415-48e4-b99b-6854af697e75",
   "metadata": {},
   "source": [
    "I choose to check what to do with these missed values. Here my options: \n",
    "1. Drop those people from my training set \n",
    "2. Replace the Nan with the mean of the column\n",
    "3. Replace the Nan with the max of the column\n",
    "4. Replace the Nan with the most frequent value of the column"
   ]
  },
  {
   "cell_type": "code",
   "execution_count": 4,
   "id": "da40e869-5018-4f56-a022-cd670433e119",
   "metadata": {},
   "outputs": [],
   "source": [
    "target = data.stroke\n",
    "\n",
    "replacement_map = {\n",
    "    'ever_married':{'Yes':1, 'No':0},\n",
    "    'Residence_type':{'Urban':1, 'Rural':0}\n",
    "}\n",
    "\n",
    "\n",
    "first_x = data.drop(['stroke', 'smoking_status', 'bmi'], axis=1).replace(replacement_map)\n",
    "x = pd.get_dummies(first_x, columns=['work_type', 'gender'])"
   ]
  },
  {
   "cell_type": "code",
   "execution_count": 57,
   "id": "0da90a20-9d0f-4199-9477-a59112178cd1",
   "metadata": {},
   "outputs": [
    {
     "name": "stdout",
     "output_type": "stream",
     "text": [
      "shape of train dataset is x:(34720, 15) and y:(34720,)\n",
      "shape of test dataset is x:(8680, 15) and y:(8680,)\n"
     ]
    }
   ],
   "source": [
    "normalized_x = Normalizer().fit_transform(x)\n",
    "\n",
    "x_train, x_test, y_train, y_test = train_test_split(normalized_x, target, test_size=0.2, random_state=0, stratify=target)\n",
    "print(f'shape of train dataset is x:{x_train.shape} and y:{y_train.shape}')\n",
    "print(f'shape of test dataset is x:{x_test.shape} and y:{y_test.shape}')"
   ]
  },
  {
   "cell_type": "markdown",
   "id": "c4df769d-5a32-4c7d-a011-a599833ba2c3",
   "metadata": {},
   "source": [
    "## SMOTE"
   ]
  },
  {
   "cell_type": "code",
   "execution_count": 62,
   "id": "56fd4081-7c22-43a9-b7bc-932e3498295b",
   "metadata": {},
   "outputs": [],
   "source": [
    "x_resampled, y_resampled = SMOTE().fit_resample(x_train, y_train)"
   ]
  },
  {
   "cell_type": "code",
   "execution_count": 63,
   "id": "0e2f3967-98cc-4718-b7a1-e9d5bbf3db38",
   "metadata": {},
   "outputs": [
    {
     "name": "stdout",
     "output_type": "stream",
     "text": [
      "(68188, 15)\n",
      "(68188,)\n"
     ]
    }
   ],
   "source": [
    "print(x_resampled.shape)\n",
    "print(y_resampled.shape)"
   ]
  },
  {
   "cell_type": "code",
   "execution_count": 64,
   "id": "febcf5be-d65b-4d2f-94cb-fcf506a9c182",
   "metadata": {},
   "outputs": [
    {
     "data": {
      "text/plain": [
       "Text(0.5, 1.0, 'Percentage of Strokes')"
      ]
     },
     "execution_count": 64,
     "metadata": {},
     "output_type": "execute_result"
    },
    {
     "data": {
      "image/png": "[encoded data removed]",
      "text/plain": [
       "<Figure size 640x480 with 1 Axes>"
      ]
     },
     "metadata": {},
     "output_type": "display_data"
    }
   ],
   "source": [
    "(y_resampled.value_counts(normalize=True)*100).plot(kind='bar', color='c')\n",
    "plt.xlabel('Stroke')\n",
    "plt.ylabel('Percentage')\n",
    "plt.title('Percentage of Strokes')"
   ]
  },
  {
   "cell_type": "code",
   "execution_count": 66,
   "id": "ffc3dddd-fac1-462c-a5ce-56b7a16b785b",
   "metadata": {},
   "outputs": [
    {
     "name": "stdout",
     "output_type": "stream",
     "text": [
      "train is 45458 and test is 22730\n",
      "train is 45459 and test is 22729\n",
      "train is 45459 and test is 22729\n"
     ]
    }
   ],
   "source": [
    "x_train_set = []\n",
    "y_train_set = []\n",
    "x_test_set = []\n",
    "y_test_set = []\n",
    "\n",
    "sgkf = StratifiedKFold(n_splits=3, random_state=1, shuffle=True)\n",
    "for train_index, test_index in sgkf.split(x_resampled, y_resampled):\n",
    "    print(f'train is {len(train_index)} and test is {len(test_index)}')\n",
    "    x_train_cv, x_test_cv = x_resampled[train_index], x_resampled[test_index]\n",
    "    y_train_cv, y_test_cv = y_resampled[train_index], y_resampled[test_index]\n",
    "    x_train_set.append(x_train_cv)\n",
    "    x_test_set.append(x_test_cv)\n",
    "    y_train_set.append(y_train_cv)\n",
    "    y_test_set.append(y_test_cv)"
   ]
  },
  {
   "cell_type": "code",
   "execution_count": 68,
   "id": "12d03197-acc7-4225-ab88-21e606ab8ac1",
   "metadata": {},
   "outputs": [
    {
     "data": {
      "image/png": "[encoded data removed]",
      "text/plain": [
       "<Figure size 1500x500 with 3 Axes>"
      ]
     },
     "metadata": {},
     "output_type": "display_data"
    }
   ],
   "source": [
    "# Create a figure and 5 subplots\n",
    "fig, axs = plt.subplots(1, 3, figsize=(15, 5))\n",
    "\n",
    "# Plotting bar plots on each subplot\n",
    "for i, y_train in zip(range(len(axs)),y_train_set):\n",
    "    values = (y_train.value_counts(normalize=True)*100)\n",
    "    values.plot(kind='bar', color='c', ax=axs[i])\n",
    "    axs[i].set_xlabel('Stroke')\n",
    "    axs[i].set_ylabel('Percentage')\n",
    "    axs[i].set_title('Percentage of Strokes')\n",
    "    \n",
    "\n",
    "plt.tight_layout()\n",
    "plt.show()"
   ]
  },
  {
   "cell_type": "code",
   "execution_count": 69,
   "id": "cc3a3c67-cb17-414a-8577-360de49f4e99",
   "metadata": {},
   "outputs": [
    {
     "data": {
      "image/png": "[encoded data removed]",
      "text/plain": [
       "<Figure size 1500x500 with 3 Axes>"
      ]
     },
     "metadata": {},
     "output_type": "display_data"
    }
   ],
   "source": [
    "# Create a figure and 5 subplots\n",
    "fig, axs = plt.subplots(1, 3, figsize=(15, 5))\n",
    "\n",
    "# Plotting bar plots on each subplot\n",
    "for i, y_train in zip(range(len(axs)),y_test_set):\n",
    "    values = (y_train.value_counts(normalize=True)*100)\n",
    "    values.plot(kind='bar', color='c', ax=axs[i])\n",
    "    axs[i].set_xlabel('Stroke')\n",
    "    axs[i].set_ylabel('Percentage')\n",
    "    axs[i].set_title('Percentage of Strokes')\n",
    "    \n",
    "\n",
    "plt.tight_layout()\n",
    "plt.show()"
   ]
  },
  {
   "cell_type": "markdown",
   "id": "a7da3526-20b2-4dad-b742-2a782c037ed6",
   "metadata": {},
   "source": [
    "### We can see that the data is imbalance"
   ]
  },
  {
   "cell_type": "markdown",
   "id": "37f6cc1d-e83c-4fe0-a98a-f953a7abf793",
   "metadata": {},
   "source": [
    "Let's use the imbalnced data technique: in this model I use ADASYN"
   ]
  },
  {
   "cell_type": "markdown",
   "id": "a598e2ed-31f0-474c-a873-5b6c752cd6e2",
   "metadata": {},
   "source": [
    "Let's balance the data with normalization"
   ]
  },
  {
   "cell_type": "code",
   "execution_count": 71,
   "id": "0b274299-2938-4886-bb70-624164468dda",
   "metadata": {},
   "outputs": [
    {
     "name": "stdout",
     "output_type": "stream",
     "text": [
      "f1: 0.0798677139313766\n",
      "precision: 0.6616438356164384\n",
      "recall: 0.04249890013198416\n",
      "f1: 0.07989413613431477\n",
      "precision: 0.6643741403026134\n",
      "recall: 0.0425026399155227\n",
      "f1: 0.07116666666666667\n",
      "precision: 0.6724409448818898\n",
      "recall: 0.037571491421029474\n"
     ]
    }
   ],
   "source": [
    "for train_x, train_y, test_x, test_y in zip(x_train_set, y_train_set, x_test_set, y_test_set):\n",
    "    clf = svm.SVC()\n",
    "    clf.fit(train_x, train_y)\n",
    "    pred = clf.predict(test_x)\n",
    "    f_score = f1_score(test_y, pred)\n",
    "    prec = precision_score(test_y, pred)\n",
    "    rec = recall_score(test_y, pred)\n",
    "    print(f'f1: {f_score}')\n",
    "    print(f'precision: {prec}')\n",
    "    print(f'recall: {rec}')"
   ]
  },
  {
   "cell_type": "markdown",
   "id": "4173cfed-093f-4bf5-8058-0a4a912a4ad7",
   "metadata": {},
   "source": [
    "# It seems like it doesn't work as we want:)"
   ]
  }
 ],
 "metadata": {
  "kernelspec": {
   "display_name": "Python 3 (ipykernel)",
   "language": "python",
   "name": "python3"
  },
  "language_info": {
   "codemirror_mode": {
    "name": "ipython",
    "version": 3
   },
   "file_extension": ".py",
   "mimetype": "text/x-python",
   "name": "python",
   "nbconvert_exporter": "python",
   "pygments_lexer": "ipython3",
   "version": "3.11.4"
  }
 },
 "nbformat": 4,
 "nbformat_minor": 5
}
