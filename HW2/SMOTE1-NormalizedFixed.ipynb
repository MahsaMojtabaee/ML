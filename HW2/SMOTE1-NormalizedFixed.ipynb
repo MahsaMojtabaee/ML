{
 "cells": [
  {
   "cell_type": "markdown",
   "id": "21d0abff-4353-4f7d-83ae-cb762c1b80ae",
   "metadata": {},
   "source": [
    "# smoking_status and bmi = most frequent"
   ]
  },
  {
   "cell_type": "code",
   "execution_count": 38,
   "id": "09eaeb0c-aa18-4dfc-8a73-40cb747ef4eb",
   "metadata": {},
   "outputs": [],
   "source": [
    "import pandas as pd\n",
    "import numpy as np\n",
    "import matplotlib.pyplot as plt\n",
    "import seaborn as sns\n",
    "from imblearn.over_sampling import SMOTE, ADASYN\n",
    "from sklearn.preprocessing import Normalizer\n",
    "from sklearn.model_selection import train_test_split, StratifiedKFold, cross_val_score\n",
    "from sklearn import svm\n",
    "from sklearn.metrics import confusion_matrix, accuracy_score, f1_score, precision_score, recall_score"
   ]
  },
  {
   "cell_type": "code",
   "execution_count": 3,
   "id": "11226139-f94f-4f8a-b92b-046795ebd339",
   "metadata": {},
   "outputs": [],
   "source": [
    "data = pd.read_csv('data/dataset.csv')"
   ]
  },
  {
   "cell_type": "code",
   "execution_count": 4,
   "id": "0f806d3b-79e1-4099-ad8d-7b46afe10bf4",
   "metadata": {},
   "outputs": [
    {
     "name": "stdout",
     "output_type": "stream",
     "text": [
      "<class 'pandas.core.frame.DataFrame'>\n",
      "RangeIndex: 43400 entries, 0 to 43399\n",
      "Data columns (total 12 columns):\n",
      " #   Column             Non-Null Count  Dtype  \n",
      "---  ------             --------------  -----  \n",
      " 0   id                 43400 non-null  int64  \n",
      " 1   gender             43400 non-null  object \n",
      " 2   age                43400 non-null  float64\n",
      " 3   hypertension       43400 non-null  int64  \n",
      " 4   heart_disease      43400 non-null  int64  \n",
      " 5   ever_married       43400 non-null  object \n",
      " 6   work_type          43400 non-null  object \n",
      " 7   Residence_type     43400 non-null  object \n",
      " 8   avg_glucose_level  43400 non-null  float64\n",
      " 9   bmi                41938 non-null  float64\n",
      " 10  smoking_status     30108 non-null  object \n",
      " 11  stroke             43400 non-null  int64  \n",
      "dtypes: float64(3), int64(4), object(5)\n",
      "memory usage: 4.0+ MB\n"
     ]
    }
   ],
   "source": [
    "data.info()"
   ]
  },
  {
   "cell_type": "code",
   "execution_count": 5,
   "id": "2fd17af3-f0a7-403c-9d28-e7051d8a68b5",
   "metadata": {},
   "outputs": [],
   "source": [
    "data.bmi.fillna(data.bmi.mode().iloc[0], inplace=True)\n",
    "data.smoking_status.fillna('never smoked', inplace=True)"
   ]
  },
  {
   "cell_type": "markdown",
   "id": "b29f99e5-da2c-4551-bf74-d4e8cb61e72e",
   "metadata": {},
   "source": [
    "## correlation matrix for numerical data: Pearson"
   ]
  },
  {
   "cell_type": "code",
   "execution_count": 6,
   "id": "164907bd-d7b2-4e14-9d26-0a210bfc7e7f",
   "metadata": {},
   "outputs": [
    {
     "data": {
      "text/html": [
       "<style type=\"text/css\">\n",
       "#T_f55a2_row0_col0, #T_f55a2_row1_col1, #T_f55a2_row2_col2, #T_f55a2_row3_col3, #T_f55a2_row4_col4, #T_f55a2_row5_col5, #T_f55a2_row6_col6 {\n",
       "  background-color: #b40426;\n",
       "  color: #f1f1f1;\n",
       "}\n",
       "#T_f55a2_row0_col1, #T_f55a2_row0_col2, #T_f55a2_row0_col3, #T_f55a2_row0_col4, #T_f55a2_row0_col6, #T_f55a2_row2_col0, #T_f55a2_row6_col0, #T_f55a2_row6_col5 {\n",
       "  background-color: #3b4cc0;\n",
       "  color: #f1f1f1;\n",
       "}\n",
       "#T_f55a2_row0_col5, #T_f55a2_row3_col0 {\n",
       "  background-color: #3c4ec2;\n",
       "  color: #f1f1f1;\n",
       "}\n",
       "#T_f55a2_row1_col0 {\n",
       "  background-color: #3d50c3;\n",
       "  color: #f1f1f1;\n",
       "}\n",
       "#T_f55a2_row1_col2 {\n",
       "  background-color: #93b5fe;\n",
       "  color: #000000;\n",
       "}\n",
       "#T_f55a2_row1_col3 {\n",
       "  background-color: #8badfd;\n",
       "  color: #000000;\n",
       "}\n",
       "#T_f55a2_row1_col4 {\n",
       "  background-color: #81a4fb;\n",
       "  color: #f1f1f1;\n",
       "}\n",
       "#T_f55a2_row1_col5 {\n",
       "  background-color: #abc8fd;\n",
       "  color: #000000;\n",
       "}\n",
       "#T_f55a2_row1_col6, #T_f55a2_row4_col2 {\n",
       "  background-color: #6b8df0;\n",
       "  color: #f1f1f1;\n",
       "}\n",
       "#T_f55a2_row2_col1 {\n",
       "  background-color: #92b4fe;\n",
       "  color: #000000;\n",
       "}\n",
       "#T_f55a2_row2_col3, #T_f55a2_row3_col6 {\n",
       "  background-color: #5d7ce6;\n",
       "  color: #f1f1f1;\n",
       "}\n",
       "#T_f55a2_row2_col4, #T_f55a2_row2_col5, #T_f55a2_row4_col3 {\n",
       "  background-color: #6687ed;\n",
       "  color: #f1f1f1;\n",
       "}\n",
       "#T_f55a2_row2_col6 {\n",
       "  background-color: #506bda;\n",
       "  color: #f1f1f1;\n",
       "}\n",
       "#T_f55a2_row3_col1 {\n",
       "  background-color: #89acfd;\n",
       "  color: #000000;\n",
       "}\n",
       "#T_f55a2_row3_col2 {\n",
       "  background-color: #5e7de7;\n",
       "  color: #f1f1f1;\n",
       "}\n",
       "#T_f55a2_row3_col4 {\n",
       "  background-color: #6282ea;\n",
       "  color: #f1f1f1;\n",
       "}\n",
       "#T_f55a2_row3_col5 {\n",
       "  background-color: #455cce;\n",
       "  color: #f1f1f1;\n",
       "}\n",
       "#T_f55a2_row4_col0 {\n",
       "  background-color: #4055c8;\n",
       "  color: #f1f1f1;\n",
       "}\n",
       "#T_f55a2_row4_col1 {\n",
       "  background-color: #85a8fc;\n",
       "  color: #f1f1f1;\n",
       "}\n",
       "#T_f55a2_row4_col5 {\n",
       "  background-color: #7093f3;\n",
       "  color: #f1f1f1;\n",
       "}\n",
       "#T_f55a2_row4_col6 {\n",
       "  background-color: #516ddb;\n",
       "  color: #f1f1f1;\n",
       "}\n",
       "#T_f55a2_row5_col0 {\n",
       "  background-color: #3f53c6;\n",
       "  color: #f1f1f1;\n",
       "}\n",
       "#T_f55a2_row5_col1 {\n",
       "  background-color: #adc9fd;\n",
       "  color: #000000;\n",
       "}\n",
       "#T_f55a2_row5_col2, #T_f55a2_row6_col1 {\n",
       "  background-color: #688aef;\n",
       "  color: #f1f1f1;\n",
       "}\n",
       "#T_f55a2_row5_col3 {\n",
       "  background-color: #465ecf;\n",
       "  color: #f1f1f1;\n",
       "}\n",
       "#T_f55a2_row5_col4 {\n",
       "  background-color: #6e90f2;\n",
       "  color: #f1f1f1;\n",
       "}\n",
       "#T_f55a2_row5_col6 {\n",
       "  background-color: #3e51c5;\n",
       "  color: #f1f1f1;\n",
       "}\n",
       "#T_f55a2_row6_col2 {\n",
       "  background-color: #4f69d9;\n",
       "  color: #f1f1f1;\n",
       "}\n",
       "#T_f55a2_row6_col3 {\n",
       "  background-color: #5b7ae5;\n",
       "  color: #f1f1f1;\n",
       "}\n",
       "#T_f55a2_row6_col4 {\n",
       "  background-color: #4b64d5;\n",
       "  color: #f1f1f1;\n",
       "}\n",
       "</style>\n",
       "<table id=\"T_f55a2\">\n",
       "  <thead>\n",
       "    <tr>\n",
       "      <th class=\"blank level0\" >&nbsp;</th>\n",
       "      <th id=\"T_f55a2_level0_col0\" class=\"col_heading level0 col0\" >id</th>\n",
       "      <th id=\"T_f55a2_level0_col1\" class=\"col_heading level0 col1\" >age</th>\n",
       "      <th id=\"T_f55a2_level0_col2\" class=\"col_heading level0 col2\" >hypertension</th>\n",
       "      <th id=\"T_f55a2_level0_col3\" class=\"col_heading level0 col3\" >heart_disease</th>\n",
       "      <th id=\"T_f55a2_level0_col4\" class=\"col_heading level0 col4\" >avg_glucose_level</th>\n",
       "      <th id=\"T_f55a2_level0_col5\" class=\"col_heading level0 col5\" >bmi</th>\n",
       "      <th id=\"T_f55a2_level0_col6\" class=\"col_heading level0 col6\" >stroke</th>\n",
       "    </tr>\n",
       "  </thead>\n",
       "  <tbody>\n",
       "    <tr>\n",
       "      <th id=\"T_f55a2_level0_row0\" class=\"row_heading level0 row0\" >id</th>\n",
       "      <td id=\"T_f55a2_row0_col0\" class=\"data row0 col0\" >1.000000</td>\n",
       "      <td id=\"T_f55a2_row0_col1\" class=\"data row0 col1\" >0.012760</td>\n",
       "      <td id=\"T_f55a2_row0_col2\" class=\"data row0 col2\" >0.006571</td>\n",
       "      <td id=\"T_f55a2_row0_col3\" class=\"data row0 col3\" >0.009234</td>\n",
       "      <td id=\"T_f55a2_row0_col4\" class=\"data row0 col4\" >0.024634</td>\n",
       "      <td id=\"T_f55a2_row0_col5\" class=\"data row0 col5\" >0.021039</td>\n",
       "      <td id=\"T_f55a2_row0_col6\" class=\"data row0 col6\" >0.002976</td>\n",
       "    </tr>\n",
       "    <tr>\n",
       "      <th id=\"T_f55a2_level0_row1\" class=\"row_heading level0 row1\" >age</th>\n",
       "      <td id=\"T_f55a2_row1_col0\" class=\"data row1 col0\" >0.012760</td>\n",
       "      <td id=\"T_f55a2_row1_col1\" class=\"data row1 col1\" >1.000000</td>\n",
       "      <td id=\"T_f55a2_row1_col2\" class=\"data row1 col2\" >0.272169</td>\n",
       "      <td id=\"T_f55a2_row1_col3\" class=\"data row1 col3\" >0.250188</td>\n",
       "      <td id=\"T_f55a2_row1_col4\" class=\"data row1 col4\" >0.237627</td>\n",
       "      <td id=\"T_f55a2_row1_col5\" class=\"data row1 col5\" >0.350231</td>\n",
       "      <td id=\"T_f55a2_row1_col6\" class=\"data row1 col6\" >0.156049</td>\n",
       "    </tr>\n",
       "    <tr>\n",
       "      <th id=\"T_f55a2_level0_row2\" class=\"row_heading level0 row2\" >hypertension</th>\n",
       "      <td id=\"T_f55a2_row2_col0\" class=\"data row2 col0\" >0.006571</td>\n",
       "      <td id=\"T_f55a2_row2_col1\" class=\"data row2 col1\" >0.272169</td>\n",
       "      <td id=\"T_f55a2_row2_col2\" class=\"data row2 col2\" >1.000000</td>\n",
       "      <td id=\"T_f55a2_row2_col3\" class=\"data row2 col3\" >0.119777</td>\n",
       "      <td id=\"T_f55a2_row2_col4\" class=\"data row2 col4\" >0.160211</td>\n",
       "      <td id=\"T_f55a2_row2_col5\" class=\"data row2 col5\" >0.151361</td>\n",
       "      <td id=\"T_f55a2_row2_col6\" class=\"data row2 col6\" >0.075332</td>\n",
       "    </tr>\n",
       "    <tr>\n",
       "      <th id=\"T_f55a2_level0_row3\" class=\"row_heading level0 row3\" >heart_disease</th>\n",
       "      <td id=\"T_f55a2_row3_col0\" class=\"data row3 col0\" >0.009234</td>\n",
       "      <td id=\"T_f55a2_row3_col1\" class=\"data row3 col1\" >0.250188</td>\n",
       "      <td id=\"T_f55a2_row3_col2\" class=\"data row3 col2\" >0.119777</td>\n",
       "      <td id=\"T_f55a2_row3_col3\" class=\"data row3 col3\" >1.000000</td>\n",
       "      <td id=\"T_f55a2_row3_col4\" class=\"data row3 col4\" >0.146938</td>\n",
       "      <td id=\"T_f55a2_row3_col5\" class=\"data row3 col5\" >0.051753</td>\n",
       "      <td id=\"T_f55a2_row3_col6\" class=\"data row3 col6\" >0.113763</td>\n",
       "    </tr>\n",
       "    <tr>\n",
       "      <th id=\"T_f55a2_level0_row4\" class=\"row_heading level0 row4\" >avg_glucose_level</th>\n",
       "      <td id=\"T_f55a2_row4_col0\" class=\"data row4 col0\" >0.024634</td>\n",
       "      <td id=\"T_f55a2_row4_col1\" class=\"data row4 col1\" >0.237627</td>\n",
       "      <td id=\"T_f55a2_row4_col2\" class=\"data row4 col2\" >0.160211</td>\n",
       "      <td id=\"T_f55a2_row4_col3\" class=\"data row4 col3\" >0.146938</td>\n",
       "      <td id=\"T_f55a2_row4_col4\" class=\"data row4 col4\" >1.000000</td>\n",
       "      <td id=\"T_f55a2_row4_col5\" class=\"data row4 col5\" >0.181899</td>\n",
       "      <td id=\"T_f55a2_row4_col6\" class=\"data row4 col6\" >0.078917</td>\n",
       "    </tr>\n",
       "    <tr>\n",
       "      <th id=\"T_f55a2_level0_row5\" class=\"row_heading level0 row5\" >bmi</th>\n",
       "      <td id=\"T_f55a2_row5_col0\" class=\"data row5 col0\" >0.021039</td>\n",
       "      <td id=\"T_f55a2_row5_col1\" class=\"data row5 col1\" >0.350231</td>\n",
       "      <td id=\"T_f55a2_row5_col2\" class=\"data row5 col2\" >0.151361</td>\n",
       "      <td id=\"T_f55a2_row5_col3\" class=\"data row5 col3\" >0.051753</td>\n",
       "      <td id=\"T_f55a2_row5_col4\" class=\"data row5 col4\" >0.181899</td>\n",
       "      <td id=\"T_f55a2_row5_col5\" class=\"data row5 col5\" >1.000000</td>\n",
       "      <td id=\"T_f55a2_row5_col6\" class=\"data row5 col6\" >0.016073</td>\n",
       "    </tr>\n",
       "    <tr>\n",
       "      <th id=\"T_f55a2_level0_row6\" class=\"row_heading level0 row6\" >stroke</th>\n",
       "      <td id=\"T_f55a2_row6_col0\" class=\"data row6 col0\" >0.002976</td>\n",
       "      <td id=\"T_f55a2_row6_col1\" class=\"data row6 col1\" >0.156049</td>\n",
       "      <td id=\"T_f55a2_row6_col2\" class=\"data row6 col2\" >0.075332</td>\n",
       "      <td id=\"T_f55a2_row6_col3\" class=\"data row6 col3\" >0.113763</td>\n",
       "      <td id=\"T_f55a2_row6_col4\" class=\"data row6 col4\" >0.078917</td>\n",
       "      <td id=\"T_f55a2_row6_col5\" class=\"data row6 col5\" >0.016073</td>\n",
       "      <td id=\"T_f55a2_row6_col6\" class=\"data row6 col6\" >1.000000</td>\n",
       "    </tr>\n",
       "  </tbody>\n",
       "</table>\n"
      ],
      "text/plain": [
       "<pandas.io.formats.style.Styler at 0x1f6f3eed050>"
      ]
     },
     "execution_count": 6,
     "metadata": {},
     "output_type": "execute_result"
    }
   ],
   "source": [
    "categorical_data = ['gender', 'ever_married', 'work_type', 'Residence_type', 'smoking_status']\n",
    "num_corr = data.drop(categorical_data, axis=1).corr()\n",
    "num_corr.style.background_gradient(cmap='coolwarm')"
   ]
  },
  {
   "cell_type": "code",
   "execution_count": 7,
   "id": "464428f1-f0d9-44e0-b7c0-8ca6e28f9d29",
   "metadata": {},
   "outputs": [],
   "source": [
    "# so we can drop id and bmi since they have very small impact on stroke\n",
    "dropped_data_1 = data.drop(['id', 'bmi'], axis=1)"
   ]
  },
  {
   "cell_type": "markdown",
   "id": "b1b63587-4151-4795-a79a-ca59662c61a3",
   "metadata": {},
   "source": [
    "from here we can see there are missing values in smoking_status and bmi"
   ]
  },
  {
   "cell_type": "markdown",
   "id": "17a7f5f1-a415-48e4-b99b-6854af697e75",
   "metadata": {},
   "source": [
    "I choose to check what to do with these missed values. Here my options: \n",
    "1. Drop those people from my training set \n",
    "2. Replace the Nan with the mean of the column\n",
    "3. Replace the Nan with the max of the column\n",
    "4. Replace the Nan with the most frequent value of the column"
   ]
  },
  {
   "cell_type": "markdown",
   "id": "377d2cb6-2d6e-483b-8993-b181d505cf3d",
   "metadata": {},
   "source": [
    "## correlation matrix for categorical data: Cramer's V"
   ]
  },
  {
   "cell_type": "code",
   "execution_count": 8,
   "id": "8e51275f-0854-44f9-9fe2-537c58c38c3d",
   "metadata": {},
   "outputs": [],
   "source": [
    "import pandas as pd\n",
    "import numpy as np\n",
    "from scipy.stats import chi2_contingency\n",
    "import matplotlib.pyplot as plt\n",
    "import seaborn as sns\n",
    "\n",
    "def cramerV(label,x):\n",
    "    confusion_matrix = pd.crosstab(label, x)\n",
    "    chi2 = chi2_contingency(confusion_matrix)[0]\n",
    "    n = confusion_matrix.sum().sum()\n",
    "    r,k = confusion_matrix.shape\n",
    "    phi2 = chi2/n\n",
    "    phi2corr = max(0,phi2-((k-1)*(r-1))/(n-1))\n",
    "    rcorr = r - ((r - 1) ** 2) / ( n - 1 )\n",
    "    kcorr = k - ((k - 1) ** 2) / ( n - 1 )\n",
    "    try:\n",
    "        if min((kcorr - 1),(rcorr - 1)) == 0:\n",
    "            warnings.warn(\n",
    "            \"Unable to calculate Cramer's V using bias correction. Consider not using bias correction\",RuntimeWarning)\n",
    "            v = 0\n",
    "            print(\"If condition Met: \",v)\n",
    "        else:\n",
    "            v = np.sqrt(phi2corr / min((kcorr - 1), (rcorr - 1)))\n",
    "            print(\"Else condition Met: \",v)\n",
    "    except:\n",
    "        print(\"inside error\")\n",
    "        v = 0\n",
    "    return v\n",
    "def plot_cramer(df):\n",
    "    cramer = pd.DataFrame(index=df.columns,columns=df.columns)\n",
    "    for column_of_interest in df.columns:\n",
    "        try:\n",
    "            temp = {}\n",
    "\n",
    "            columns = df.columns\n",
    "            for j in range(0,len(columns)):\n",
    "                v = cramerV(df[column_of_interest],df[columns[j]])\n",
    "                cramer.loc[column_of_interest,columns[j]] = v\n",
    "                if (column_of_interest==columns[j]):\n",
    "                    pass\n",
    "                else:\n",
    "                    temp[columns[j]] = v\n",
    "            cramer.fillna(value=np.nan,inplace=True)\n",
    "        except:\n",
    "            print('Dropping row:',column_of_interest)\n",
    "            pass\n",
    "    plt.figure(figsize=(7,7))\n",
    "    sns.heatmap(cramer,annot=True,fmt='.2f')\n",
    "\n",
    "    plt.title(\"Cross Correlation plot on Dataframe with CrammerV Correlation Values\")\n",
    "    plt.show()"
   ]
  },
  {
   "cell_type": "code",
   "execution_count": 9,
   "id": "47a82603-c980-4180-945c-331c38ee207f",
   "metadata": {},
   "outputs": [
    {
     "name": "stdout",
     "output_type": "stream",
     "text": [
      "Else condition Met:  0.9999999999999999\n",
      "Else condition Met:  0.030963530214187737\n",
      "Else condition Met:  0.06330708849977167\n",
      "Else condition Met:  0.0\n",
      "Else condition Met:  0.03756532354689769\n",
      "Else condition Met:  0.009317660176099647\n",
      "Else condition Met:  0.030963530214187737\n",
      "Else condition Met:  0.9999497647278632\n",
      "Else condition Met:  0.56834175668848\n",
      "Else condition Met:  0.0\n",
      "Else condition Met:  0.22214436771523005\n",
      "Else condition Met:  0.07157882306692893\n",
      "Else condition Met:  0.06330708849977167\n",
      "Else condition Met:  0.56834175668848\n",
      "Else condition Met:  1.0\n",
      "Else condition Met:  0.0\n",
      "Else condition Met:  0.19354324487915173\n",
      "Else condition Met:  0.07534777542412728\n",
      "Else condition Met:  0.0\n",
      "Else condition Met:  0.0\n",
      "Else condition Met:  0.0\n",
      "Else condition Met:  0.9999539156818897\n",
      "Else condition Met:  0.006039629345240704\n",
      "Else condition Met:  0.0\n",
      "Else condition Met:  0.03756532354689769\n",
      "Else condition Met:  0.22214436771523005\n",
      "Else condition Met:  0.19354324487915173\n",
      "Else condition Met:  0.006039629345240704\n",
      "Else condition Met:  0.9999999999999999\n",
      "Else condition Met:  0.04149138526914493\n",
      "Else condition Met:  0.009317660176099649\n",
      "Else condition Met:  0.07157882306692893\n",
      "Else condition Met:  0.07534777542412728\n",
      "Else condition Met:  0.0\n",
      "Else condition Met:  0.04149138526914492\n",
      "Else condition Met:  0.9993496829991746\n"
     ]
    },
    {
     "data": {
      "image/png": "[encoded data removed]",
      "text/plain": [
       "<Figure size 700x700 with 2 Axes>"
      ]
     },
     "metadata": {},
     "output_type": "display_data"
    }
   ],
   "source": [
    "categorical_data1 = ['gender', 'ever_married', 'work_type', 'Residence_type', 'smoking_status', 'stroke']\n",
    "data1 = dropped_data_1.copy()\n",
    "data1['stroke'] = dropped_data_1['stroke'].replace({0:'No', 1:'Yes'})\n",
    "\n",
    "plot_cramer(data1[categorical_data1])"
   ]
  },
  {
   "cell_type": "code",
   "execution_count": 10,
   "id": "57326bf3-f790-4b0c-ba94-cf357968ac19",
   "metadata": {},
   "outputs": [
    {
     "name": "stdout",
     "output_type": "stream",
     "text": [
      "<class 'pandas.core.frame.DataFrame'>\n",
      "RangeIndex: 43400 entries, 0 to 43399\n",
      "Data columns (total 8 columns):\n",
      " #   Column             Non-Null Count  Dtype  \n",
      "---  ------             --------------  -----  \n",
      " 0   age                43400 non-null  float64\n",
      " 1   hypertension       43400 non-null  int64  \n",
      " 2   heart_disease      43400 non-null  int64  \n",
      " 3   ever_married       43400 non-null  object \n",
      " 4   work_type          43400 non-null  object \n",
      " 5   avg_glucose_level  43400 non-null  float64\n",
      " 6   smoking_status     43400 non-null  object \n",
      " 7   stroke             43400 non-null  int64  \n",
      "dtypes: float64(2), int64(3), object(3)\n",
      "memory usage: 2.6+ MB\n"
     ]
    }
   ],
   "source": [
    "# we can drop Residence and gender\n",
    "final_data = dropped_data_1.drop(['Residence_type', 'gender'], axis=1)\n",
    "final_data.info()"
   ]
  },
  {
   "cell_type": "code",
   "execution_count": 12,
   "id": "28f81537-2324-464d-8c8d-2a5fa3c6a909",
   "metadata": {},
   "outputs": [],
   "source": [
    "target = final_data.stroke\n",
    "\n",
    "replacement_map = {\n",
    "    'ever_married':{'Yes':1, 'No':0},\n",
    "}\n",
    "\n",
    "\n",
    "first_x = final_data.replace(replacement_map)\n",
    "x = pd.get_dummies(first_x, columns=['work_type', 'smoking_status'])"
   ]
  },
  {
   "cell_type": "code",
   "execution_count": 14,
   "id": "1e4cfe1f-6359-4880-a321-4294d023179d",
   "metadata": {},
   "outputs": [],
   "source": [
    "features = x.copy()"
   ]
  },
  {
   "cell_type": "code",
   "execution_count": 23,
   "id": "ee392734-b283-485f-a109-ec9d2dd705c3",
   "metadata": {},
   "outputs": [
    {
     "data": {
      "text/html": [
       "<div>\n",
       "<style scoped>\n",
       "    .dataframe tbody tr th:only-of-type {\n",
       "        vertical-align: middle;\n",
       "    }\n",
       "\n",
       "    .dataframe tbody tr th {\n",
       "        vertical-align: top;\n",
       "    }\n",
       "\n",
       "    .dataframe thead th {\n",
       "        text-align: right;\n",
       "    }\n",
       "</style>\n",
       "<table border=\"1\" class=\"dataframe\">\n",
       "  <thead>\n",
       "    <tr style=\"text-align: right;\">\n",
       "      <th></th>\n",
       "      <th>age</th>\n",
       "      <th>hypertension</th>\n",
       "      <th>heart_disease</th>\n",
       "      <th>ever_married</th>\n",
       "      <th>avg_glucose_level</th>\n",
       "      <th>stroke</th>\n",
       "      <th>work_type_Govt_job</th>\n",
       "      <th>work_type_Never_worked</th>\n",
       "      <th>work_type_Private</th>\n",
       "      <th>work_type_Self-employed</th>\n",
       "      <th>work_type_children</th>\n",
       "      <th>smoking_status_formerly smoked</th>\n",
       "      <th>smoking_status_never smoked</th>\n",
       "      <th>smoking_status_smokes</th>\n",
       "    </tr>\n",
       "  </thead>\n",
       "  <tbody>\n",
       "    <tr>\n",
       "      <th>0</th>\n",
       "      <td>0.031523</td>\n",
       "      <td>0</td>\n",
       "      <td>0</td>\n",
       "      <td>0</td>\n",
       "      <td>0.999503</td>\n",
       "      <td>0</td>\n",
       "      <td>False</td>\n",
       "      <td>False</td>\n",
       "      <td>False</td>\n",
       "      <td>False</td>\n",
       "      <td>True</td>\n",
       "      <td>False</td>\n",
       "      <td>True</td>\n",
       "      <td>False</td>\n",
       "    </tr>\n",
       "    <tr>\n",
       "      <th>1</th>\n",
       "      <td>0.550488</td>\n",
       "      <td>1</td>\n",
       "      <td>0</td>\n",
       "      <td>1</td>\n",
       "      <td>0.834843</td>\n",
       "      <td>0</td>\n",
       "      <td>False</td>\n",
       "      <td>False</td>\n",
       "      <td>True</td>\n",
       "      <td>False</td>\n",
       "      <td>False</td>\n",
       "      <td>False</td>\n",
       "      <td>True</td>\n",
       "      <td>False</td>\n",
       "    </tr>\n",
       "    <tr>\n",
       "      <th>2</th>\n",
       "      <td>0.071957</td>\n",
       "      <td>0</td>\n",
       "      <td>0</td>\n",
       "      <td>0</td>\n",
       "      <td>0.997408</td>\n",
       "      <td>0</td>\n",
       "      <td>False</td>\n",
       "      <td>False</td>\n",
       "      <td>True</td>\n",
       "      <td>False</td>\n",
       "      <td>False</td>\n",
       "      <td>False</td>\n",
       "      <td>True</td>\n",
       "      <td>False</td>\n",
       "    </tr>\n",
       "    <tr>\n",
       "      <th>3</th>\n",
       "      <td>0.711972</td>\n",
       "      <td>0</td>\n",
       "      <td>0</td>\n",
       "      <td>1</td>\n",
       "      <td>0.702208</td>\n",
       "      <td>0</td>\n",
       "      <td>False</td>\n",
       "      <td>False</td>\n",
       "      <td>True</td>\n",
       "      <td>False</td>\n",
       "      <td>False</td>\n",
       "      <td>True</td>\n",
       "      <td>False</td>\n",
       "      <td>False</td>\n",
       "    </tr>\n",
       "    <tr>\n",
       "      <th>4</th>\n",
       "      <td>0.086480</td>\n",
       "      <td>0</td>\n",
       "      <td>0</td>\n",
       "      <td>0</td>\n",
       "      <td>0.996254</td>\n",
       "      <td>0</td>\n",
       "      <td>False</td>\n",
       "      <td>True</td>\n",
       "      <td>False</td>\n",
       "      <td>False</td>\n",
       "      <td>False</td>\n",
       "      <td>False</td>\n",
       "      <td>True</td>\n",
       "      <td>False</td>\n",
       "    </tr>\n",
       "    <tr>\n",
       "      <th>...</th>\n",
       "      <td>...</td>\n",
       "      <td>...</td>\n",
       "      <td>...</td>\n",
       "      <td>...</td>\n",
       "      <td>...</td>\n",
       "      <td>...</td>\n",
       "      <td>...</td>\n",
       "      <td>...</td>\n",
       "      <td>...</td>\n",
       "      <td>...</td>\n",
       "      <td>...</td>\n",
       "      <td>...</td>\n",
       "      <td>...</td>\n",
       "      <td>...</td>\n",
       "    </tr>\n",
       "    <tr>\n",
       "      <th>43395</th>\n",
       "      <td>0.168105</td>\n",
       "      <td>0</td>\n",
       "      <td>0</td>\n",
       "      <td>0</td>\n",
       "      <td>0.985769</td>\n",
       "      <td>0</td>\n",
       "      <td>False</td>\n",
       "      <td>False</td>\n",
       "      <td>False</td>\n",
       "      <td>False</td>\n",
       "      <td>True</td>\n",
       "      <td>False</td>\n",
       "      <td>True</td>\n",
       "      <td>False</td>\n",
       "    </tr>\n",
       "    <tr>\n",
       "      <th>43396</th>\n",
       "      <td>0.253590</td>\n",
       "      <td>0</td>\n",
       "      <td>0</td>\n",
       "      <td>1</td>\n",
       "      <td>0.967312</td>\n",
       "      <td>0</td>\n",
       "      <td>True</td>\n",
       "      <td>False</td>\n",
       "      <td>False</td>\n",
       "      <td>False</td>\n",
       "      <td>False</td>\n",
       "      <td>True</td>\n",
       "      <td>False</td>\n",
       "      <td>False</td>\n",
       "    </tr>\n",
       "    <tr>\n",
       "      <th>43397</th>\n",
       "      <td>0.665612</td>\n",
       "      <td>1</td>\n",
       "      <td>0</td>\n",
       "      <td>1</td>\n",
       "      <td>0.746298</td>\n",
       "      <td>0</td>\n",
       "      <td>False</td>\n",
       "      <td>False</td>\n",
       "      <td>True</td>\n",
       "      <td>False</td>\n",
       "      <td>False</td>\n",
       "      <td>True</td>\n",
       "      <td>False</td>\n",
       "      <td>False</td>\n",
       "    </tr>\n",
       "    <tr>\n",
       "      <th>43398</th>\n",
       "      <td>0.374098</td>\n",
       "      <td>0</td>\n",
       "      <td>0</td>\n",
       "      <td>1</td>\n",
       "      <td>0.927389</td>\n",
       "      <td>0</td>\n",
       "      <td>False</td>\n",
       "      <td>False</td>\n",
       "      <td>True</td>\n",
       "      <td>False</td>\n",
       "      <td>False</td>\n",
       "      <td>False</td>\n",
       "      <td>True</td>\n",
       "      <td>False</td>\n",
       "    </tr>\n",
       "    <tr>\n",
       "      <th>43399</th>\n",
       "      <td>0.718054</td>\n",
       "      <td>0</td>\n",
       "      <td>0</td>\n",
       "      <td>1</td>\n",
       "      <td>0.695987</td>\n",
       "      <td>0</td>\n",
       "      <td>False</td>\n",
       "      <td>False</td>\n",
       "      <td>True</td>\n",
       "      <td>False</td>\n",
       "      <td>False</td>\n",
       "      <td>False</td>\n",
       "      <td>True</td>\n",
       "      <td>False</td>\n",
       "    </tr>\n",
       "  </tbody>\n",
       "</table>\n",
       "<p>43400 rows × 14 columns</p>\n",
       "</div>"
      ],
      "text/plain": [
       "            age  hypertension  heart_disease  ever_married  avg_glucose_level  \\\n",
       "0      0.031523             0              0             0           0.999503   \n",
       "1      0.550488             1              0             1           0.834843   \n",
       "2      0.071957             0              0             0           0.997408   \n",
       "3      0.711972             0              0             1           0.702208   \n",
       "4      0.086480             0              0             0           0.996254   \n",
       "...         ...           ...            ...           ...                ...   \n",
       "43395  0.168105             0              0             0           0.985769   \n",
       "43396  0.253590             0              0             1           0.967312   \n",
       "43397  0.665612             1              0             1           0.746298   \n",
       "43398  0.374098             0              0             1           0.927389   \n",
       "43399  0.718054             0              0             1           0.695987   \n",
       "\n",
       "       stroke  work_type_Govt_job  work_type_Never_worked  work_type_Private  \\\n",
       "0           0               False                   False              False   \n",
       "1           0               False                   False               True   \n",
       "2           0               False                   False               True   \n",
       "3           0               False                   False               True   \n",
       "4           0               False                    True              False   \n",
       "...       ...                 ...                     ...                ...   \n",
       "43395       0               False                   False              False   \n",
       "43396       0                True                   False              False   \n",
       "43397       0               False                   False               True   \n",
       "43398       0               False                   False               True   \n",
       "43399       0               False                   False               True   \n",
       "\n",
       "       work_type_Self-employed  work_type_children  \\\n",
       "0                        False                True   \n",
       "1                        False               False   \n",
       "2                        False               False   \n",
       "3                        False               False   \n",
       "4                        False               False   \n",
       "...                        ...                 ...   \n",
       "43395                    False                True   \n",
       "43396                    False               False   \n",
       "43397                    False               False   \n",
       "43398                    False               False   \n",
       "43399                    False               False   \n",
       "\n",
       "       smoking_status_formerly smoked  smoking_status_never smoked  \\\n",
       "0                               False                         True   \n",
       "1                               False                         True   \n",
       "2                               False                         True   \n",
       "3                                True                        False   \n",
       "4                               False                         True   \n",
       "...                               ...                          ...   \n",
       "43395                           False                         True   \n",
       "43396                            True                        False   \n",
       "43397                            True                        False   \n",
       "43398                           False                         True   \n",
       "43399                           False                         True   \n",
       "\n",
       "       smoking_status_smokes  \n",
       "0                      False  \n",
       "1                      False  \n",
       "2                      False  \n",
       "3                      False  \n",
       "4                      False  \n",
       "...                      ...  \n",
       "43395                  False  \n",
       "43396                  False  \n",
       "43397                  False  \n",
       "43398                  False  \n",
       "43399                  False  \n",
       "\n",
       "[43400 rows x 14 columns]"
      ]
     },
     "execution_count": 23,
     "metadata": {},
     "output_type": "execute_result"
    }
   ],
   "source": [
    "normalized = pd.DataFrame(Normalizer().fit_transform(x[['avg_glucose_level', 'age']]), columns=['avg_glucose_level', 'age'])\n",
    "features.avg_glucose_level = normalized[['avg_glucose_level']]\n",
    "features.age = normalized[['age']]\n",
    "features"
   ]
  },
  {
   "cell_type": "code",
   "execution_count": 24,
   "id": "19529733-d4e4-47e2-b543-c7f85812e7d7",
   "metadata": {},
   "outputs": [
    {
     "name": "stdout",
     "output_type": "stream",
     "text": [
      "<class 'pandas.core.frame.DataFrame'>\n",
      "RangeIndex: 43400 entries, 0 to 43399\n",
      "Data columns (total 14 columns):\n",
      " #   Column                          Non-Null Count  Dtype  \n",
      "---  ------                          --------------  -----  \n",
      " 0   age                             43400 non-null  float64\n",
      " 1   hypertension                    43400 non-null  int64  \n",
      " 2   heart_disease                   43400 non-null  int64  \n",
      " 3   ever_married                    43400 non-null  int64  \n",
      " 4   avg_glucose_level               43400 non-null  float64\n",
      " 5   stroke                          43400 non-null  int64  \n",
      " 6   work_type_Govt_job              43400 non-null  bool   \n",
      " 7   work_type_Never_worked          43400 non-null  bool   \n",
      " 8   work_type_Private               43400 non-null  bool   \n",
      " 9   work_type_Self-employed         43400 non-null  bool   \n",
      " 10  work_type_children              43400 non-null  bool   \n",
      " 11  smoking_status_formerly smoked  43400 non-null  bool   \n",
      " 12  smoking_status_never smoked     43400 non-null  bool   \n",
      " 13  smoking_status_smokes           43400 non-null  bool   \n",
      "dtypes: bool(8), float64(2), int64(4)\n",
      "memory usage: 2.3 MB\n"
     ]
    }
   ],
   "source": [
    "features.info()"
   ]
  },
  {
   "cell_type": "code",
   "execution_count": 25,
   "id": "7356e0f8-05e6-4197-bd1c-8bd5a1baab1c",
   "metadata": {},
   "outputs": [
    {
     "name": "stdout",
     "output_type": "stream",
     "text": [
      "shape of train dataset is x:(34720, 14) and y:(34720,)\n",
      "shape of test dataset is x:(8680, 14) and y:(8680,)\n"
     ]
    }
   ],
   "source": [
    "x_train, x_test, y_train, y_test = train_test_split(features, target, test_size=0.2, random_state=0, stratify=target)\n",
    "print(f'shape of train dataset is x:{x_train.shape} and y:{y_train.shape}')\n",
    "print(f'shape of test dataset is x:{x_test.shape} and y:{y_test.shape}')"
   ]
  },
  {
   "cell_type": "code",
   "execution_count": 30,
   "id": "2a41aadd-1870-4565-8f69-80ff7f7bbf31",
   "metadata": {},
   "outputs": [
    {
     "data": {
      "text/plain": [
       "Text(0.5, 1.0, 'Percentage of Strokes: Train Data Set')"
      ]
     },
     "execution_count": 30,
     "metadata": {},
     "output_type": "execute_result"
    },
    {
     "data": {
      "image/png": "[encoded data removed]",
      "text/plain": [
       "<Figure size 640x480 with 1 Axes>"
      ]
     },
     "metadata": {},
     "output_type": "display_data"
    }
   ],
   "source": [
    "(y_train.value_counts(normalize=True)*100).plot(kind='bar', color='c')\n",
    "plt.xlabel('Stroke')\n",
    "plt.ylabel('Percentage')\n",
    "plt.title('Percentage of Strokes: Train Data Set')"
   ]
  },
  {
   "cell_type": "code",
   "execution_count": 31,
   "id": "37168a83-a40b-43f0-8893-e20c03b53e47",
   "metadata": {},
   "outputs": [
    {
     "data": {
      "text/plain": [
       "Text(0.5, 1.0, 'Percentage of Strokes: Test Data Set')"
      ]
     },
     "execution_count": 31,
     "metadata": {},
     "output_type": "execute_result"
    },
    {
     "data": {
      "image/png": "[encoded data removed]",
      "text/plain": [
       "<Figure size 640x480 with 1 Axes>"
      ]
     },
     "metadata": {},
     "output_type": "display_data"
    }
   ],
   "source": [
    "(y_test.value_counts(normalize=True)*100).plot(kind='bar', color='c')\n",
    "plt.xlabel('Stroke')\n",
    "plt.ylabel('Percentage')\n",
    "plt.title('Percentage of Strokes: Test Data Set')"
   ]
  },
  {
   "cell_type": "markdown",
   "id": "bb084687-71ef-4dc6-82de-de230051c947",
   "metadata": {},
   "source": [
    "## SMOTE"
   ]
  },
  {
   "cell_type": "code",
   "execution_count": 32,
   "id": "059887e5-a16a-42aa-8378-7fb187111ef6",
   "metadata": {},
   "outputs": [],
   "source": [
    "x_resampled, y_resampled = SMOTE().fit_resample(x_train, y_train)"
   ]
  },
  {
   "cell_type": "code",
   "execution_count": 33,
   "id": "fa892e0f-d255-48f0-a80f-625976f190e7",
   "metadata": {},
   "outputs": [
    {
     "name": "stdout",
     "output_type": "stream",
     "text": [
      "(68188, 14)\n",
      "(68188,)\n"
     ]
    }
   ],
   "source": [
    "print(x_resampled.shape)\n",
    "print(y_resampled.shape)"
   ]
  },
  {
   "cell_type": "code",
   "execution_count": 34,
   "id": "5fd4ddaa-ae4c-4a18-85e7-6ed23fb6bd47",
   "metadata": {},
   "outputs": [
    {
     "data": {
      "text/plain": [
       "Text(0.5, 1.0, 'Percentage of Strokes')"
      ]
     },
     "execution_count": 34,
     "metadata": {},
     "output_type": "execute_result"
    },
    {
     "data": {
      "image/png": "[encoded data removed]",
      "text/plain": [
       "<Figure size 640x480 with 1 Axes>"
      ]
     },
     "metadata": {},
     "output_type": "display_data"
    }
   ],
   "source": [
    "(y_resampled.value_counts(normalize=True)*100).plot(kind='bar', color='c')\n",
    "plt.xlabel('Stroke')\n",
    "plt.ylabel('Percentage')\n",
    "plt.title('Percentage of Strokes')"
   ]
  },
  {
   "cell_type": "code",
   "execution_count": 35,
   "id": "ffc3dddd-fac1-462c-a5ce-56b7a16b785b",
   "metadata": {},
   "outputs": [
    {
     "name": "stdout",
     "output_type": "stream",
     "text": [
      "train is 45458 and test is 22730\n",
      "train is 45459 and test is 22729\n",
      "train is 45459 and test is 22729\n"
     ]
    }
   ],
   "source": [
    "x_train_set = []\n",
    "y_train_set = []\n",
    "x_test_set = []\n",
    "y_test_set = []\n",
    "\n",
    "sgkf = StratifiedKFold(n_splits=3, shuffle=False)\n",
    "for train_index, test_index in sgkf.split(x_resampled, y_resampled):\n",
    "    print(f'train is {len(train_index)} and test is {len(test_index)}')\n",
    "    x_train_cv, x_test_cv = x_resampled.loc[train_index], x_resampled.loc[test_index]\n",
    "    y_train_cv, y_test_cv = y_resampled.loc[train_index], y_resampled.loc[test_index]\n",
    "    x_train_set.append(x_train_cv)\n",
    "    x_test_set.append(x_test_cv)\n",
    "    y_train_set.append(y_train_cv)\n",
    "    y_test_set.append(y_test_cv)"
   ]
  },
  {
   "cell_type": "code",
   "execution_count": 36,
   "id": "12d03197-acc7-4225-ab88-21e606ab8ac1",
   "metadata": {},
   "outputs": [
    {
     "name": "stdout",
     "output_type": "stream",
     "text": [
      "stroke\n",
      "0    22729\n",
      "1    22729\n",
      "Name: count, dtype: int64\n",
      "stroke\n",
      "1    22730\n",
      "0    22729\n",
      "Name: count, dtype: int64\n",
      "stroke\n",
      "0    22730\n",
      "1    22729\n",
      "Name: count, dtype: int64\n"
     ]
    },
    {
     "data": {
      "image/png": "[encoded data removed]",
      "text/plain": [
       "<Figure size 1500x500 with 3 Axes>"
      ]
     },
     "metadata": {},
     "output_type": "display_data"
    }
   ],
   "source": [
    "# Create a figure and 5 subplots\n",
    "fig, axs = plt.subplots(1, 3, figsize=(15, 5))\n",
    "\n",
    "# Plotting bar plots on each subplot\n",
    "for i, y_train in zip(range(len(axs)),y_train_set):\n",
    "    values = (y_train.value_counts(normalize=True)*100)\n",
    "    print(y_train.value_counts())\n",
    "    values.plot(kind='bar', color='c', ax=axs[i])\n",
    "    axs[i].set_xlabel('Stroke')\n",
    "    axs[i].set_ylabel('Percentage')\n",
    "    axs[i].set_title('Percentage of Strokes')\n",
    "    \n",
    "\n",
    "plt.tight_layout()\n",
    "plt.show()"
   ]
  },
  {
   "cell_type": "code",
   "execution_count": 37,
   "id": "cc3a3c67-cb17-414a-8577-360de49f4e99",
   "metadata": {},
   "outputs": [
    {
     "name": "stdout",
     "output_type": "stream",
     "text": [
      "stroke\n",
      "0    11365\n",
      "1    11365\n",
      "Name: count, dtype: int64\n",
      "stroke\n",
      "0    11365\n",
      "1    11364\n",
      "Name: count, dtype: int64\n",
      "stroke\n",
      "1    11365\n",
      "0    11364\n",
      "Name: count, dtype: int64\n"
     ]
    },
    {
     "data": {
      "image/png": "[encoded data removed]",
      "text/plain": [
       "<Figure size 1500x500 with 3 Axes>"
      ]
     },
     "metadata": {},
     "output_type": "display_data"
    }
   ],
   "source": [
    "# Create a figure and 5 subplots\n",
    "fig, axs = plt.subplots(1, 3, figsize=(15, 5))\n",
    "\n",
    "# Plotting bar plots on each subplot\n",
    "for i, y_test in zip(range(len(axs)),y_test_set):\n",
    "    print(y_test.value_counts())\n",
    "    values = (y_test.value_counts(normalize=True)*100)\n",
    "    values.plot(kind='bar', color='c', ax=axs[i])\n",
    "    axs[i].set_xlabel('Stroke')\n",
    "    axs[i].set_ylabel('Percentage')\n",
    "    axs[i].set_title('Percentage of Strokes')\n",
    "    \n",
    "\n",
    "plt.tight_layout()\n",
    "plt.show()"
   ]
  },
  {
   "cell_type": "code",
   "execution_count": 29,
   "id": "0b274299-2938-4886-bb70-624164468dda",
   "metadata": {},
   "outputs": [
    {
     "name": "stdout",
     "output_type": "stream",
     "text": [
      "f1: 0.9984136776240417\n",
      "precision: 1.0\n",
      "recall: 0.9968323801143862\n",
      "f1: 0.9988106250825954\n",
      "precision: 1.0\n",
      "recall: 0.997624076029567\n",
      "f1: 0.9983695412682325\n",
      "precision: 1.0\n",
      "recall: 0.9967443906731193\n"
     ]
    }
   ],
   "source": [
    "clf = svm.SVC()\n",
    "for train_x, train_y, test_x, test_y in zip(x_train_set, y_train_set, x_test_set, y_test_set):\n",
    "    clf.fit(train_x, train_y)\n",
    "    pred = clf.predict(test_x)\n",
    "    f_score = f1_score(test_y, pred)\n",
    "    prec = precision_score(test_y, pred)\n",
    "    rec = recall_score(test_y, pred)\n",
    "    print(f'f1: {f_score}')\n",
    "    print(f'precision: {prec}')\n",
    "    print(f'recall: {rec}')"
   ]
  },
  {
   "cell_type": "code",
   "execution_count": null,
   "id": "ba8a9712-03c5-4fea-b91a-40368b198f9b",
   "metadata": {},
   "outputs": [],
   "source": [
    "scores = cross_val_score(clf, x_resampled, y_resampled, cv=sgkf, scoring='roc_auc')\n",
    "print(f'mean of validation score is {scores.mean()} and the std is {scores.std()}')"
   ]
  },
  {
   "cell_type": "code",
   "execution_count": 30,
   "id": "ce03c6d0-87af-4b23-9f5b-26379518510c",
   "metadata": {},
   "outputs": [
    {
     "data": {
      "text/plain": [
       "<Axes: >"
      ]
     },
     "execution_count": 30,
     "metadata": {},
     "output_type": "execute_result"
    },
    {
     "data": {
      "image/png": "[encoded data removed]",
      "text/plain": [
       "<Figure size 640x480 with 2 Axes>"
      ]
     },
     "metadata": {},
     "output_type": "display_data"
    }
   ],
   "source": [
    "cm = confusion_matrix(y_test_set[2], pred)\n",
    "sns.heatmap(cm, annot=True, fmt='d')"
   ]
  },
  {
   "cell_type": "code",
   "execution_count": 39,
   "id": "97fa09dc-9006-476e-ab37-ccf72b889a8f",
   "metadata": {},
   "outputs": [],
   "source": [
    "final_predict = clf.predict(x_test)"
   ]
  },
  {
   "cell_type": "code",
   "execution_count": 40,
   "id": "7287e927-66f6-4bc5-bc84-c51bffca2bfd",
   "metadata": {},
   "outputs": [
    {
     "data": {
      "text/plain": [
       "8680"
      ]
     },
     "execution_count": 40,
     "metadata": {},
     "output_type": "execute_result"
    }
   ],
   "source": [
    "len(final_predict)"
   ]
  },
  {
   "cell_type": "code",
   "execution_count": 41,
   "id": "ccc97d2a-6f3c-457a-a89f-2878c5de0648",
   "metadata": {},
   "outputs": [
    {
     "data": {
      "text/plain": [
       "8680"
      ]
     },
     "execution_count": 41,
     "metadata": {},
     "output_type": "execute_result"
    }
   ],
   "source": [
    "len(y_test)"
   ]
  },
  {
   "cell_type": "code",
   "execution_count": 42,
   "id": "82b42893-a6b8-41b0-bce8-e7474b8e274e",
   "metadata": {},
   "outputs": [
    {
     "name": "stdout",
     "output_type": "stream",
     "text": [
      "f1: 0.9968051118210862\n",
      "precision: 1.0\n",
      "recall: 0.9936305732484076\n"
     ]
    }
   ],
   "source": [
    "f_s = f1_score(y_test, final_predict)\n",
    "pr = precision_score(y_test, final_predict)\n",
    "re = recall_score(y_test, final_predict)\n",
    "print(f'f1: {f_s}')\n",
    "print(f'precision: {pr}')\n",
    "print(f'recall: {re}')"
   ]
  },
  {
   "cell_type": "markdown",
   "id": "e61e5766-0026-470e-b024-2251073b4da0",
   "metadata": {},
   "source": [
    "Let's try other ways"
   ]
  },
  {
   "cell_type": "code",
   "execution_count": 38,
   "id": "7975c57e-ea54-4c07-a2ea-73fd8ba1be68",
   "metadata": {},
   "outputs": [
    {
     "name": "stdout",
     "output_type": "stream",
     "text": [
      "f1: 0.6669992370444275\n",
      "precision: 0.5003742350195923\n",
      "recall: 1.0\n"
     ]
    }
   ],
   "source": [
    "# for train_x, train_y, test_x, test_y in zip(x_train_set, y_train_set, x_test_set, y_test_set):\n",
    "clf = svm.SVC(class_weight={1:20})\n",
    "clf.fit(x_train_set[0], y_train_set[0])\n",
    "pred = clf.predict(x_test_set[0])\n",
    "f_score = f1_score(y_test_set[0], pred)\n",
    "prec = precision_score(y_test_set[0], pred)\n",
    "rec = recall_score(y_test_set[0], pred)\n",
    "print(f'f1: {f_score}')\n",
    "print(f'precision: {prec}')\n",
    "print(f'recall: {rec}')"
   ]
  },
  {
   "cell_type": "code",
   "execution_count": 39,
   "id": "2b50c076-c27f-4310-a634-978c3612b4c5",
   "metadata": {},
   "outputs": [
    {
     "data": {
      "text/plain": [
       "<Axes: >"
      ]
     },
     "execution_count": 39,
     "metadata": {},
     "output_type": "execute_result"
    },
    {
     "data": {
      "image/png": "[encoded data removed]",
      "text/plain": [
       "<Figure size 640x480 with 2 Axes>"
      ]
     },
     "metadata": {},
     "output_type": "display_data"
    }
   ],
   "source": [
    "cm = confusion_matrix(y_test_set[0], pred)\n",
    "sns.heatmap(cm, annot=True, fmt='d')"
   ]
  },
  {
   "cell_type": "code",
   "execution_count": 101,
   "id": "6a1cf7e7-bb08-434c-b1f9-c7a6d1350abe",
   "metadata": {},
   "outputs": [
    {
     "name": "stdout",
     "output_type": "stream",
     "text": [
      "f1: 0.6669992370444275\n",
      "precision: 0.5003742350195923\n",
      "recall: 1.0\n"
     ]
    }
   ],
   "source": [
    "# for train_x, train_y, test_x, test_y in zip(x_train_set, y_train_set, x_test_set, y_test_set):\n",
    "clf = svm.SVC(class_weight={1:10})\n",
    "clf.fit(x_train_set[0], y_train_set[0])\n",
    "pred = clf.predict(x_test_set[0])\n",
    "f_score = f1_score(y_test_set[0], pred)\n",
    "prec = precision_score(y_test_set[0], pred)\n",
    "rec = recall_score(y_test_set[0], pred)\n",
    "print(f'f1: {f_score}')\n",
    "print(f'precision: {prec}')\n",
    "print(f'recall: {rec}')"
   ]
  },
  {
   "cell_type": "code",
   "execution_count": 102,
   "id": "55a5b240-d0de-46fa-9f5a-742701c30a9b",
   "metadata": {},
   "outputs": [
    {
     "data": {
      "text/plain": [
       "<Axes: >"
      ]
     },
     "execution_count": 102,
     "metadata": {},
     "output_type": "execute_result"
    },
    {
     "data": {
      "image/png": "[encoded data removed]",
      "text/plain": [
       "<Figure size 640x480 with 2 Axes>"
      ]
     },
     "metadata": {},
     "output_type": "display_data"
    }
   ],
   "source": [
    "cm = confusion_matrix(y_test_set[0], pred)\n",
    "sns.heatmap(cm, annot=True, fmt='d')"
   ]
  },
  {
   "cell_type": "markdown",
   "id": "d53a8660-73b7-4349-905d-05a13b6054d2",
   "metadata": {},
   "source": [
    "## :))))"
   ]
  },
  {
   "cell_type": "code",
   "execution_count": 43,
   "id": "810ff54a-8676-461a-a106-f79bc8e29d07",
   "metadata": {},
   "outputs": [],
   "source": [
    "classifier = svm.SVC()"
   ]
  },
  {
   "cell_type": "code",
   "execution_count": 44,
   "id": "58f58c84-d848-47fc-a1f5-1d2e1901c421",
   "metadata": {},
   "outputs": [
    {
     "data": {
      "text/html": [
       "<style>#sk-container-id-1 {color: black;}#sk-container-id-1 pre{padding: 0;}#sk-container-id-1 div.sk-toggleable {background-color: white;}#sk-container-id-1 label.sk-toggleable__label {cursor: pointer;display: block;width: 100%;margin-bottom: 0;padding: 0.3em;box-sizing: border-box;text-align: center;}#sk-container-id-1 label.sk-toggleable__label-arrow:before {content: \"▸\";float: left;margin-right: 0.25em;color: #696969;}#sk-container-id-1 label.sk-toggleable__label-arrow:hover:before {color: black;}#sk-container-id-1 div.sk-estimator:hover label.sk-toggleable__label-arrow:before {color: black;}#sk-container-id-1 div.sk-toggleable__content {max-height: 0;max-width: 0;overflow: hidden;text-align: left;background-color: #f0f8ff;}#sk-container-id-1 div.sk-toggleable__content pre {margin: 0.2em;color: black;border-radius: 0.25em;background-color: #f0f8ff;}#sk-container-id-1 input.sk-toggleable__control:checked~div.sk-toggleable__content {max-height: 200px;max-width: 100%;overflow: auto;}#sk-container-id-1 input.sk-toggleable__control:checked~label.sk-toggleable__label-arrow:before {content: \"▾\";}#sk-container-id-1 div.sk-estimator input.sk-toggleable__control:checked~label.sk-toggleable__label {background-color: #d4ebff;}#sk-container-id-1 div.sk-label input.sk-toggleable__control:checked~label.sk-toggleable__label {background-color: #d4ebff;}#sk-container-id-1 input.sk-hidden--visually {border: 0;clip: rect(1px 1px 1px 1px);clip: rect(1px, 1px, 1px, 1px);height: 1px;margin: -1px;overflow: hidden;padding: 0;position: absolute;width: 1px;}#sk-container-id-1 div.sk-estimator {font-family: monospace;background-color: #f0f8ff;border: 1px dotted black;border-radius: 0.25em;box-sizing: border-box;margin-bottom: 0.5em;}#sk-container-id-1 div.sk-estimator:hover {background-color: #d4ebff;}#sk-container-id-1 div.sk-parallel-item::after {content: \"\";width: 100%;border-bottom: 1px solid gray;flex-grow: 1;}#sk-container-id-1 div.sk-label:hover label.sk-toggleable__label {background-color: #d4ebff;}#sk-container-id-1 div.sk-serial::before {content: \"\";position: absolute;border-left: 1px solid gray;box-sizing: border-box;top: 0;bottom: 0;left: 50%;z-index: 0;}#sk-container-id-1 div.sk-serial {display: flex;flex-direction: column;align-items: center;background-color: white;padding-right: 0.2em;padding-left: 0.2em;position: relative;}#sk-container-id-1 div.sk-item {position: relative;z-index: 1;}#sk-container-id-1 div.sk-parallel {display: flex;align-items: stretch;justify-content: center;background-color: white;position: relative;}#sk-container-id-1 div.sk-item::before, #sk-container-id-1 div.sk-parallel-item::before {content: \"\";position: absolute;border-left: 1px solid gray;box-sizing: border-box;top: 0;bottom: 0;left: 50%;z-index: -1;}#sk-container-id-1 div.sk-parallel-item {display: flex;flex-direction: column;z-index: 1;position: relative;background-color: white;}#sk-container-id-1 div.sk-parallel-item:first-child::after {align-self: flex-end;width: 50%;}#sk-container-id-1 div.sk-parallel-item:last-child::after {align-self: flex-start;width: 50%;}#sk-container-id-1 div.sk-parallel-item:only-child::after {width: 0;}#sk-container-id-1 div.sk-dashed-wrapped {border: 1px dashed gray;margin: 0 0.4em 0.5em 0.4em;box-sizing: border-box;padding-bottom: 0.4em;background-color: white;}#sk-container-id-1 div.sk-label label {font-family: monospace;font-weight: bold;display: inline-block;line-height: 1.2em;}#sk-container-id-1 div.sk-label-container {text-align: center;}#sk-container-id-1 div.sk-container {/* jupyter's `normalize.less` sets `[hidden] { display: none; }` but bootstrap.min.css set `[hidden] { display: none !important; }` so we also need the `!important` here to be able to override the default hidden behavior on the sphinx rendered scikit-learn.org. See: https://github.com/scikit-learn/scikit-learn/issues/21755 */display: inline-block !important;position: relative;}#sk-container-id-1 div.sk-text-repr-fallback {display: none;}</style><div id=\"sk-container-id-1\" class=\"sk-top-container\"><div class=\"sk-text-repr-fallback\"><pre>SVC()</pre><b>In a Jupyter environment, please rerun this cell to show the HTML representation or trust the notebook. <br />On GitHub, the HTML representation is unable to render, please try loading this page with nbviewer.org.</b></div><div class=\"sk-container\" hidden><div class=\"sk-item\"><div class=\"sk-estimator sk-toggleable\"><input class=\"sk-toggleable__control sk-hidden--visually\" id=\"sk-estimator-id-1\" type=\"checkbox\" checked><label for=\"sk-estimator-id-1\" class=\"sk-toggleable__label sk-toggleable__label-arrow\">SVC</label><div class=\"sk-toggleable__content\"><pre>SVC()</pre></div></div></div></div></div>"
      ],
      "text/plain": [
       "SVC()"
      ]
     },
     "execution_count": 44,
     "metadata": {},
     "output_type": "execute_result"
    }
   ],
   "source": [
    "classifier.fit(x_train, y_train)"
   ]
  },
  {
   "cell_type": "code",
   "execution_count": 45,
   "id": "00832c66-148f-414d-8a27-a81bcb10b246",
   "metadata": {},
   "outputs": [
    {
     "data": {
      "text/plain": [
       "0.0"
      ]
     },
     "execution_count": 45,
     "metadata": {},
     "output_type": "execute_result"
    }
   ],
   "source": [
    "p = classifier.predict(x_test)\n",
    "f1_score(y_test, p)"
   ]
  },
  {
   "cell_type": "code",
   "execution_count": 47,
   "id": "f12389f8-14dd-4da5-a00e-7d85f0170260",
   "metadata": {},
   "outputs": [],
   "source": [
    "cm = confusion_matrix(y_test, p)"
   ]
  },
  {
   "cell_type": "code",
   "execution_count": 49,
   "id": "1f8bd449-d13b-403f-bf09-b047fc4f98db",
   "metadata": {},
   "outputs": [
    {
     "data": {
      "text/plain": [
       "<Axes: >"
      ]
     },
     "execution_count": 49,
     "metadata": {},
     "output_type": "execute_result"
    },
    {
     "data": {
      "image/png": "[encoded data removed]",
      "text/plain": [
       "<Figure size 640x480 with 2 Axes>"
      ]
     },
     "metadata": {},
     "output_type": "display_data"
    }
   ],
   "source": [
    "sns.heatmap(cm, annot=True)"
   ]
  },
  {
   "cell_type": "code",
   "execution_count": 50,
   "id": "dcda3a02-833d-45d6-b873-ae754ed87959",
   "metadata": {},
   "outputs": [
    {
     "data": {
      "text/html": [
       "<style>#sk-container-id-2 {color: black;}#sk-container-id-2 pre{padding: 0;}#sk-container-id-2 div.sk-toggleable {background-color: white;}#sk-container-id-2 label.sk-toggleable__label {cursor: pointer;display: block;width: 100%;margin-bottom: 0;padding: 0.3em;box-sizing: border-box;text-align: center;}#sk-container-id-2 label.sk-toggleable__label-arrow:before {content: \"▸\";float: left;margin-right: 0.25em;color: #696969;}#sk-container-id-2 label.sk-toggleable__label-arrow:hover:before {color: black;}#sk-container-id-2 div.sk-estimator:hover label.sk-toggleable__label-arrow:before {color: black;}#sk-container-id-2 div.sk-toggleable__content {max-height: 0;max-width: 0;overflow: hidden;text-align: left;background-color: #f0f8ff;}#sk-container-id-2 div.sk-toggleable__content pre {margin: 0.2em;color: black;border-radius: 0.25em;background-color: #f0f8ff;}#sk-container-id-2 input.sk-toggleable__control:checked~div.sk-toggleable__content {max-height: 200px;max-width: 100%;overflow: auto;}#sk-container-id-2 input.sk-toggleable__control:checked~label.sk-toggleable__label-arrow:before {content: \"▾\";}#sk-container-id-2 div.sk-estimator input.sk-toggleable__control:checked~label.sk-toggleable__label {background-color: #d4ebff;}#sk-container-id-2 div.sk-label input.sk-toggleable__control:checked~label.sk-toggleable__label {background-color: #d4ebff;}#sk-container-id-2 input.sk-hidden--visually {border: 0;clip: rect(1px 1px 1px 1px);clip: rect(1px, 1px, 1px, 1px);height: 1px;margin: -1px;overflow: hidden;padding: 0;position: absolute;width: 1px;}#sk-container-id-2 div.sk-estimator {font-family: monospace;background-color: #f0f8ff;border: 1px dotted black;border-radius: 0.25em;box-sizing: border-box;margin-bottom: 0.5em;}#sk-container-id-2 div.sk-estimator:hover {background-color: #d4ebff;}#sk-container-id-2 div.sk-parallel-item::after {content: \"\";width: 100%;border-bottom: 1px solid gray;flex-grow: 1;}#sk-container-id-2 div.sk-label:hover label.sk-toggleable__label {background-color: #d4ebff;}#sk-container-id-2 div.sk-serial::before {content: \"\";position: absolute;border-left: 1px solid gray;box-sizing: border-box;top: 0;bottom: 0;left: 50%;z-index: 0;}#sk-container-id-2 div.sk-serial {display: flex;flex-direction: column;align-items: center;background-color: white;padding-right: 0.2em;padding-left: 0.2em;position: relative;}#sk-container-id-2 div.sk-item {position: relative;z-index: 1;}#sk-container-id-2 div.sk-parallel {display: flex;align-items: stretch;justify-content: center;background-color: white;position: relative;}#sk-container-id-2 div.sk-item::before, #sk-container-id-2 div.sk-parallel-item::before {content: \"\";position: absolute;border-left: 1px solid gray;box-sizing: border-box;top: 0;bottom: 0;left: 50%;z-index: -1;}#sk-container-id-2 div.sk-parallel-item {display: flex;flex-direction: column;z-index: 1;position: relative;background-color: white;}#sk-container-id-2 div.sk-parallel-item:first-child::after {align-self: flex-end;width: 50%;}#sk-container-id-2 div.sk-parallel-item:last-child::after {align-self: flex-start;width: 50%;}#sk-container-id-2 div.sk-parallel-item:only-child::after {width: 0;}#sk-container-id-2 div.sk-dashed-wrapped {border: 1px dashed gray;margin: 0 0.4em 0.5em 0.4em;box-sizing: border-box;padding-bottom: 0.4em;background-color: white;}#sk-container-id-2 div.sk-label label {font-family: monospace;font-weight: bold;display: inline-block;line-height: 1.2em;}#sk-container-id-2 div.sk-label-container {text-align: center;}#sk-container-id-2 div.sk-container {/* jupyter's `normalize.less` sets `[hidden] { display: none; }` but bootstrap.min.css set `[hidden] { display: none !important; }` so we also need the `!important` here to be able to override the default hidden behavior on the sphinx rendered scikit-learn.org. See: https://github.com/scikit-learn/scikit-learn/issues/21755 */display: inline-block !important;position: relative;}#sk-container-id-2 div.sk-text-repr-fallback {display: none;}</style><div id=\"sk-container-id-2\" class=\"sk-top-container\"><div class=\"sk-text-repr-fallback\"><pre>SVC()</pre><b>In a Jupyter environment, please rerun this cell to show the HTML representation or trust the notebook. <br />On GitHub, the HTML representation is unable to render, please try loading this page with nbviewer.org.</b></div><div class=\"sk-container\" hidden><div class=\"sk-item\"><div class=\"sk-estimator sk-toggleable\"><input class=\"sk-toggleable__control sk-hidden--visually\" id=\"sk-estimator-id-2\" type=\"checkbox\" checked><label for=\"sk-estimator-id-2\" class=\"sk-toggleable__label sk-toggleable__label-arrow\">SVC</label><div class=\"sk-toggleable__content\"><pre>SVC()</pre></div></div></div></div></div>"
      ],
      "text/plain": [
       "SVC()"
      ]
     },
     "execution_count": 50,
     "metadata": {},
     "output_type": "execute_result"
    }
   ],
   "source": [
    "classifier_1 = svm.SVC()\n",
    "classifier_1.fit(x_train, y_train)"
   ]
  },
  {
   "cell_type": "code",
   "execution_count": 52,
   "id": "112f98c7-d422-4206-ac1d-34db5dfdf452",
   "metadata": {},
   "outputs": [],
   "source": [
    "cv = StratifiedKFold(n_splits=2)"
   ]
  },
  {
   "cell_type": "code",
   "execution_count": null,
   "id": "10494962-fac0-4126-a98d-40e8a93f8786",
   "metadata": {},
   "outputs": [],
   "source": [
    "for train, test in cv.split(x_train, y_train):\n",
    "    "
   ]
  }
 ],
 "metadata": {
  "kernelspec": {
   "display_name": "Python 3 (ipykernel)",
   "language": "python",
   "name": "python3"
  },
  "language_info": {
   "codemirror_mode": {
    "name": "ipython",
    "version": 3
   },
   "file_extension": ".py",
   "mimetype": "text/x-python",
   "name": "python",
   "nbconvert_exporter": "python",
   "pygments_lexer": "ipython3",
   "version": "3.11.4"
  }
 },
 "nbformat": 4,
 "nbformat_minor": 5
}
