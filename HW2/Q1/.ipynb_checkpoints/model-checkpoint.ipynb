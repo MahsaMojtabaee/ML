{
 "cells": [
  {
   "cell_type": "code",
   "execution_count": 1,
   "id": "09eaeb0c-aa18-4dfc-8a73-40cb747ef4eb",
   "metadata": {},
   "outputs": [],
   "source": [
    "import pandas as pd\n",
    "import numpy as np\n",
    "import matplotlib.pyplot as plt\n",
    "import seaborn as sns\n",
    "from imblearn.over_sampling import SMOTE, ADASYN\n",
    "from sklearn.preprocessing import Normalizer\n",
    "from sklearn.model_selection import train_test_split, StratifiedKFold, cross_val_score\n",
    "from sklearn import svm\n",
    "from sklearn.metrics import confusion_matrix, accuracy_score, f1_score, precision_score, recall_score"
   ]
  },
  {
   "cell_type": "code",
   "execution_count": 2,
   "id": "11226139-f94f-4f8a-b92b-046795ebd339",
   "metadata": {},
   "outputs": [],
   "source": [
    "data = pd.read_csv('data/dataset.csv')"
   ]
  },
  {
   "cell_type": "markdown",
   "id": "7d6089ac-1d03-4e45-935b-2e1af43487e4",
   "metadata": {},
   "source": [
    "# Preprocessing"
   ]
  },
  {
   "cell_type": "code",
   "execution_count": 3,
   "id": "0f806d3b-79e1-4099-ad8d-7b46afe10bf4",
   "metadata": {},
   "outputs": [
    {
     "name": "stdout",
     "output_type": "stream",
     "text": [
      "<class 'pandas.core.frame.DataFrame'>\n",
      "RangeIndex: 43400 entries, 0 to 43399\n",
      "Data columns (total 12 columns):\n",
      " #   Column             Non-Null Count  Dtype  \n",
      "---  ------             --------------  -----  \n",
      " 0   id                 43400 non-null  int64  \n",
      " 1   gender             43400 non-null  object \n",
      " 2   age                43400 non-null  float64\n",
      " 3   hypertension       43400 non-null  int64  \n",
      " 4   heart_disease      43400 non-null  int64  \n",
      " 5   ever_married       43400 non-null  object \n",
      " 6   work_type          43400 non-null  object \n",
      " 7   Residence_type     43400 non-null  object \n",
      " 8   avg_glucose_level  43400 non-null  float64\n",
      " 9   bmi                41938 non-null  float64\n",
      " 10  smoking_status     30108 non-null  object \n",
      " 11  stroke             43400 non-null  int64  \n",
      "dtypes: float64(3), int64(4), object(5)\n",
      "memory usage: 4.0+ MB\n"
     ]
    }
   ],
   "source": [
    "data.info()"
   ]
  },
  {
   "cell_type": "markdown",
   "id": "73d7e516-41c6-49b1-a069-ac92554480e2",
   "metadata": {},
   "source": [
    "from here we can see there are missing values in smoking_status and bmi"
   ]
  },
  {
   "cell_type": "markdown",
   "id": "9ca74ee4-b281-4b7b-9c33-b528cc098ec7",
   "metadata": {},
   "source": [
    "I choose to check what to do with these missed values. Here my options: \n",
    "1. Drop those people from my training set \n",
    "2. Replace the Nan with the mean of the column\n",
    "3. Replace the Nan with the max of the column\n",
    "4. Replace the Nan with the most frequent value of the column"
   ]
  },
  {
   "cell_type": "markdown",
   "id": "922c954d-5bdd-4b96-80ef-c1e21c6de8fd",
   "metadata": {},
   "source": [
    "### Fill Nan values in the 'bmi' and 'smoking_status' columns with most frequent values: mode[0]"
   ]
  },
  {
   "cell_type": "code",
   "execution_count": 4,
   "id": "2fd17af3-f0a7-403c-9d28-e7051d8a68b5",
   "metadata": {},
   "outputs": [],
   "source": [
    "data.bmi.fillna(data.bmi.mode().iloc[0], inplace=True)\n",
    "data.smoking_status.fillna('never smoked', inplace=True)"
   ]
  },
  {
   "cell_type": "markdown",
   "id": "b29f99e5-da2c-4551-bf74-d4e8cb61e72e",
   "metadata": {},
   "source": [
    "## correlation matrix for numerical data: Pearson"
   ]
  },
  {
   "cell_type": "code",
   "execution_count": 5,
   "id": "164907bd-d7b2-4e14-9d26-0a210bfc7e7f",
   "metadata": {},
   "outputs": [
    {
     "data": {
      "text/html": [
       "<style type=\"text/css\">\n",
       "#T_35e18_row0_col0, #T_35e18_row1_col1, #T_35e18_row2_col2, #T_35e18_row3_col3, #T_35e18_row4_col4, #T_35e18_row5_col5, #T_35e18_row6_col6 {\n",
       "  background-color: #b40426;\n",
       "  color: #f1f1f1;\n",
       "}\n",
       "#T_35e18_row0_col1, #T_35e18_row0_col2, #T_35e18_row0_col3, #T_35e18_row0_col4, #T_35e18_row0_col6, #T_35e18_row2_col0, #T_35e18_row6_col0, #T_35e18_row6_col5 {\n",
       "  background-color: #3b4cc0;\n",
       "  color: #f1f1f1;\n",
       "}\n",
       "#T_35e18_row0_col5, #T_35e18_row3_col0 {\n",
       "  background-color: #3c4ec2;\n",
       "  color: #f1f1f1;\n",
       "}\n",
       "#T_35e18_row1_col0 {\n",
       "  background-color: #3d50c3;\n",
       "  color: #f1f1f1;\n",
       "}\n",
       "#T_35e18_row1_col2 {\n",
       "  background-color: #93b5fe;\n",
       "  color: #000000;\n",
       "}\n",
       "#T_35e18_row1_col3 {\n",
       "  background-color: #8badfd;\n",
       "  color: #000000;\n",
       "}\n",
       "#T_35e18_row1_col4 {\n",
       "  background-color: #81a4fb;\n",
       "  color: #f1f1f1;\n",
       "}\n",
       "#T_35e18_row1_col5 {\n",
       "  background-color: #abc8fd;\n",
       "  color: #000000;\n",
       "}\n",
       "#T_35e18_row1_col6, #T_35e18_row4_col2 {\n",
       "  background-color: #6b8df0;\n",
       "  color: #f1f1f1;\n",
       "}\n",
       "#T_35e18_row2_col1 {\n",
       "  background-color: #92b4fe;\n",
       "  color: #000000;\n",
       "}\n",
       "#T_35e18_row2_col3, #T_35e18_row3_col6 {\n",
       "  background-color: #5d7ce6;\n",
       "  color: #f1f1f1;\n",
       "}\n",
       "#T_35e18_row2_col4, #T_35e18_row2_col5, #T_35e18_row4_col3 {\n",
       "  background-color: #6687ed;\n",
       "  color: #f1f1f1;\n",
       "}\n",
       "#T_35e18_row2_col6 {\n",
       "  background-color: #506bda;\n",
       "  color: #f1f1f1;\n",
       "}\n",
       "#T_35e18_row3_col1 {\n",
       "  background-color: #89acfd;\n",
       "  color: #000000;\n",
       "}\n",
       "#T_35e18_row3_col2 {\n",
       "  background-color: #5e7de7;\n",
       "  color: #f1f1f1;\n",
       "}\n",
       "#T_35e18_row3_col4 {\n",
       "  background-color: #6282ea;\n",
       "  color: #f1f1f1;\n",
       "}\n",
       "#T_35e18_row3_col5 {\n",
       "  background-color: #455cce;\n",
       "  color: #f1f1f1;\n",
       "}\n",
       "#T_35e18_row4_col0 {\n",
       "  background-color: #4055c8;\n",
       "  color: #f1f1f1;\n",
       "}\n",
       "#T_35e18_row4_col1 {\n",
       "  background-color: #85a8fc;\n",
       "  color: #f1f1f1;\n",
       "}\n",
       "#T_35e18_row4_col5 {\n",
       "  background-color: #7093f3;\n",
       "  color: #f1f1f1;\n",
       "}\n",
       "#T_35e18_row4_col6 {\n",
       "  background-color: #516ddb;\n",
       "  color: #f1f1f1;\n",
       "}\n",
       "#T_35e18_row5_col0 {\n",
       "  background-color: #3f53c6;\n",
       "  color: #f1f1f1;\n",
       "}\n",
       "#T_35e18_row5_col1 {\n",
       "  background-color: #adc9fd;\n",
       "  color: #000000;\n",
       "}\n",
       "#T_35e18_row5_col2, #T_35e18_row6_col1 {\n",
       "  background-color: #688aef;\n",
       "  color: #f1f1f1;\n",
       "}\n",
       "#T_35e18_row5_col3 {\n",
       "  background-color: #465ecf;\n",
       "  color: #f1f1f1;\n",
       "}\n",
       "#T_35e18_row5_col4 {\n",
       "  background-color: #6e90f2;\n",
       "  color: #f1f1f1;\n",
       "}\n",
       "#T_35e18_row5_col6 {\n",
       "  background-color: #3e51c5;\n",
       "  color: #f1f1f1;\n",
       "}\n",
       "#T_35e18_row6_col2 {\n",
       "  background-color: #4f69d9;\n",
       "  color: #f1f1f1;\n",
       "}\n",
       "#T_35e18_row6_col3 {\n",
       "  background-color: #5b7ae5;\n",
       "  color: #f1f1f1;\n",
       "}\n",
       "#T_35e18_row6_col4 {\n",
       "  background-color: #4b64d5;\n",
       "  color: #f1f1f1;\n",
       "}\n",
       "</style>\n",
       "<table id=\"T_35e18\">\n",
       "  <thead>\n",
       "    <tr>\n",
       "      <th class=\"blank level0\" >&nbsp;</th>\n",
       "      <th id=\"T_35e18_level0_col0\" class=\"col_heading level0 col0\" >id</th>\n",
       "      <th id=\"T_35e18_level0_col1\" class=\"col_heading level0 col1\" >age</th>\n",
       "      <th id=\"T_35e18_level0_col2\" class=\"col_heading level0 col2\" >hypertension</th>\n",
       "      <th id=\"T_35e18_level0_col3\" class=\"col_heading level0 col3\" >heart_disease</th>\n",
       "      <th id=\"T_35e18_level0_col4\" class=\"col_heading level0 col4\" >avg_glucose_level</th>\n",
       "      <th id=\"T_35e18_level0_col5\" class=\"col_heading level0 col5\" >bmi</th>\n",
       "      <th id=\"T_35e18_level0_col6\" class=\"col_heading level0 col6\" >stroke</th>\n",
       "    </tr>\n",
       "  </thead>\n",
       "  <tbody>\n",
       "    <tr>\n",
       "      <th id=\"T_35e18_level0_row0\" class=\"row_heading level0 row0\" >id</th>\n",
       "      <td id=\"T_35e18_row0_col0\" class=\"data row0 col0\" >1.000000</td>\n",
       "      <td id=\"T_35e18_row0_col1\" class=\"data row0 col1\" >0.012760</td>\n",
       "      <td id=\"T_35e18_row0_col2\" class=\"data row0 col2\" >0.006571</td>\n",
       "      <td id=\"T_35e18_row0_col3\" class=\"data row0 col3\" >0.009234</td>\n",
       "      <td id=\"T_35e18_row0_col4\" class=\"data row0 col4\" >0.024634</td>\n",
       "      <td id=\"T_35e18_row0_col5\" class=\"data row0 col5\" >0.021039</td>\n",
       "      <td id=\"T_35e18_row0_col6\" class=\"data row0 col6\" >0.002976</td>\n",
       "    </tr>\n",
       "    <tr>\n",
       "      <th id=\"T_35e18_level0_row1\" class=\"row_heading level0 row1\" >age</th>\n",
       "      <td id=\"T_35e18_row1_col0\" class=\"data row1 col0\" >0.012760</td>\n",
       "      <td id=\"T_35e18_row1_col1\" class=\"data row1 col1\" >1.000000</td>\n",
       "      <td id=\"T_35e18_row1_col2\" class=\"data row1 col2\" >0.272169</td>\n",
       "      <td id=\"T_35e18_row1_col3\" class=\"data row1 col3\" >0.250188</td>\n",
       "      <td id=\"T_35e18_row1_col4\" class=\"data row1 col4\" >0.237627</td>\n",
       "      <td id=\"T_35e18_row1_col5\" class=\"data row1 col5\" >0.350231</td>\n",
       "      <td id=\"T_35e18_row1_col6\" class=\"data row1 col6\" >0.156049</td>\n",
       "    </tr>\n",
       "    <tr>\n",
       "      <th id=\"T_35e18_level0_row2\" class=\"row_heading level0 row2\" >hypertension</th>\n",
       "      <td id=\"T_35e18_row2_col0\" class=\"data row2 col0\" >0.006571</td>\n",
       "      <td id=\"T_35e18_row2_col1\" class=\"data row2 col1\" >0.272169</td>\n",
       "      <td id=\"T_35e18_row2_col2\" class=\"data row2 col2\" >1.000000</td>\n",
       "      <td id=\"T_35e18_row2_col3\" class=\"data row2 col3\" >0.119777</td>\n",
       "      <td id=\"T_35e18_row2_col4\" class=\"data row2 col4\" >0.160211</td>\n",
       "      <td id=\"T_35e18_row2_col5\" class=\"data row2 col5\" >0.151361</td>\n",
       "      <td id=\"T_35e18_row2_col6\" class=\"data row2 col6\" >0.075332</td>\n",
       "    </tr>\n",
       "    <tr>\n",
       "      <th id=\"T_35e18_level0_row3\" class=\"row_heading level0 row3\" >heart_disease</th>\n",
       "      <td id=\"T_35e18_row3_col0\" class=\"data row3 col0\" >0.009234</td>\n",
       "      <td id=\"T_35e18_row3_col1\" class=\"data row3 col1\" >0.250188</td>\n",
       "      <td id=\"T_35e18_row3_col2\" class=\"data row3 col2\" >0.119777</td>\n",
       "      <td id=\"T_35e18_row3_col3\" class=\"data row3 col3\" >1.000000</td>\n",
       "      <td id=\"T_35e18_row3_col4\" class=\"data row3 col4\" >0.146938</td>\n",
       "      <td id=\"T_35e18_row3_col5\" class=\"data row3 col5\" >0.051753</td>\n",
       "      <td id=\"T_35e18_row3_col6\" class=\"data row3 col6\" >0.113763</td>\n",
       "    </tr>\n",
       "    <tr>\n",
       "      <th id=\"T_35e18_level0_row4\" class=\"row_heading level0 row4\" >avg_glucose_level</th>\n",
       "      <td id=\"T_35e18_row4_col0\" class=\"data row4 col0\" >0.024634</td>\n",
       "      <td id=\"T_35e18_row4_col1\" class=\"data row4 col1\" >0.237627</td>\n",
       "      <td id=\"T_35e18_row4_col2\" class=\"data row4 col2\" >0.160211</td>\n",
       "      <td id=\"T_35e18_row4_col3\" class=\"data row4 col3\" >0.146938</td>\n",
       "      <td id=\"T_35e18_row4_col4\" class=\"data row4 col4\" >1.000000</td>\n",
       "      <td id=\"T_35e18_row4_col5\" class=\"data row4 col5\" >0.181899</td>\n",
       "      <td id=\"T_35e18_row4_col6\" class=\"data row4 col6\" >0.078917</td>\n",
       "    </tr>\n",
       "    <tr>\n",
       "      <th id=\"T_35e18_level0_row5\" class=\"row_heading level0 row5\" >bmi</th>\n",
       "      <td id=\"T_35e18_row5_col0\" class=\"data row5 col0\" >0.021039</td>\n",
       "      <td id=\"T_35e18_row5_col1\" class=\"data row5 col1\" >0.350231</td>\n",
       "      <td id=\"T_35e18_row5_col2\" class=\"data row5 col2\" >0.151361</td>\n",
       "      <td id=\"T_35e18_row5_col3\" class=\"data row5 col3\" >0.051753</td>\n",
       "      <td id=\"T_35e18_row5_col4\" class=\"data row5 col4\" >0.181899</td>\n",
       "      <td id=\"T_35e18_row5_col5\" class=\"data row5 col5\" >1.000000</td>\n",
       "      <td id=\"T_35e18_row5_col6\" class=\"data row5 col6\" >0.016073</td>\n",
       "    </tr>\n",
       "    <tr>\n",
       "      <th id=\"T_35e18_level0_row6\" class=\"row_heading level0 row6\" >stroke</th>\n",
       "      <td id=\"T_35e18_row6_col0\" class=\"data row6 col0\" >0.002976</td>\n",
       "      <td id=\"T_35e18_row6_col1\" class=\"data row6 col1\" >0.156049</td>\n",
       "      <td id=\"T_35e18_row6_col2\" class=\"data row6 col2\" >0.075332</td>\n",
       "      <td id=\"T_35e18_row6_col3\" class=\"data row6 col3\" >0.113763</td>\n",
       "      <td id=\"T_35e18_row6_col4\" class=\"data row6 col4\" >0.078917</td>\n",
       "      <td id=\"T_35e18_row6_col5\" class=\"data row6 col5\" >0.016073</td>\n",
       "      <td id=\"T_35e18_row6_col6\" class=\"data row6 col6\" >1.000000</td>\n",
       "    </tr>\n",
       "  </tbody>\n",
       "</table>\n"
      ],
      "text/plain": [
       "<pandas.io.formats.style.Styler at 0x16fcfcc5e90>"
      ]
     },
     "execution_count": 5,
     "metadata": {},
     "output_type": "execute_result"
    }
   ],
   "source": [
    "categorical_data = ['gender', 'ever_married', 'work_type', 'Residence_type', 'smoking_status']\n",
    "num_corr = data.drop(categorical_data, axis=1).corr()\n",
    "num_corr.style.background_gradient(cmap='coolwarm')"
   ]
  },
  {
   "cell_type": "code",
   "execution_count": 7,
   "id": "464428f1-f0d9-44e0-b7c0-8ca6e28f9d29",
   "metadata": {},
   "outputs": [],
   "source": [
    "# so we can drop id and bmi since they have very small impact on stroke\n",
    "dropped_data_1 = data.drop(['id', 'bmi'], axis=1)"
   ]
  },
  {
   "cell_type": "markdown",
   "id": "377d2cb6-2d6e-483b-8993-b181d505cf3d",
   "metadata": {},
   "source": [
    "## correlation matrix for categorical data: Cramer's V"
   ]
  },
  {
   "cell_type": "code",
   "execution_count": 8,
   "id": "8e51275f-0854-44f9-9fe2-537c58c38c3d",
   "metadata": {},
   "outputs": [],
   "source": [
    "import pandas as pd\n",
    "import numpy as np\n",
    "from scipy.stats import chi2_contingency\n",
    "import matplotlib.pyplot as plt\n",
    "import seaborn as sns\n",
    "\n",
    "def cramerV(label,x):\n",
    "    confusion_matrix = pd.crosstab(label, x)\n",
    "    chi2 = chi2_contingency(confusion_matrix)[0]\n",
    "    n = confusion_matrix.sum().sum()\n",
    "    r,k = confusion_matrix.shape\n",
    "    phi2 = chi2/n\n",
    "    phi2corr = max(0,phi2-((k-1)*(r-1))/(n-1))\n",
    "    rcorr = r - ((r - 1) ** 2) / ( n - 1 )\n",
    "    kcorr = k - ((k - 1) ** 2) / ( n - 1 )\n",
    "    try:\n",
    "        if min((kcorr - 1),(rcorr - 1)) == 0:\n",
    "            warnings.warn(\n",
    "            \"Unable to calculate Cramer's V using bias correction. Consider not using bias correction\",RuntimeWarning)\n",
    "            v = 0\n",
    "            print(\"If condition Met: \",v)\n",
    "        else:\n",
    "            v = np.sqrt(phi2corr / min((kcorr - 1), (rcorr - 1)))\n",
    "            print(\"Else condition Met: \",v)\n",
    "    except:\n",
    "        print(\"inside error\")\n",
    "        v = 0\n",
    "    return v\n",
    "def plot_cramer(df):\n",
    "    cramer = pd.DataFrame(index=df.columns,columns=df.columns)\n",
    "    for column_of_interest in df.columns:\n",
    "        try:\n",
    "            temp = {}\n",
    "\n",
    "            columns = df.columns\n",
    "            for j in range(0,len(columns)):\n",
    "                v = cramerV(df[column_of_interest],df[columns[j]])\n",
    "                cramer.loc[column_of_interest,columns[j]] = v\n",
    "                if (column_of_interest==columns[j]):\n",
    "                    pass\n",
    "                else:\n",
    "                    temp[columns[j]] = v\n",
    "            cramer.fillna(value=np.nan,inplace=True)\n",
    "        except:\n",
    "            print('Dropping row:',column_of_interest)\n",
    "            pass\n",
    "    plt.figure(figsize=(7,7))\n",
    "    sns.heatmap(cramer,annot=True,fmt='.2f')\n",
    "\n",
    "    plt.title(\"Cross Correlation plot on Dataframe with CrammerV Correlation Values\")\n",
    "    plt.show()"
   ]
  },
  {
   "cell_type": "code",
   "execution_count": 9,
   "id": "47a82603-c980-4180-945c-331c38ee207f",
   "metadata": {},
   "outputs": [
    {
     "name": "stdout",
     "output_type": "stream",
     "text": [
      "Else condition Met:  0.9999999999999999\n",
      "Else condition Met:  0.030963530214187737\n",
      "Else condition Met:  0.06330708849977167\n",
      "Else condition Met:  0.0\n",
      "Else condition Met:  0.03756532354689769\n",
      "Else condition Met:  0.009317660176099647\n",
      "Else condition Met:  0.030963530214187737\n",
      "Else condition Met:  0.9999497647278632\n",
      "Else condition Met:  0.56834175668848\n",
      "Else condition Met:  0.0\n",
      "Else condition Met:  0.22214436771523005\n",
      "Else condition Met:  0.07157882306692893\n",
      "Else condition Met:  0.06330708849977167\n",
      "Else condition Met:  0.56834175668848\n",
      "Else condition Met:  1.0\n",
      "Else condition Met:  0.0\n",
      "Else condition Met:  0.19354324487915173\n",
      "Else condition Met:  0.07534777542412728\n",
      "Else condition Met:  0.0\n",
      "Else condition Met:  0.0\n",
      "Else condition Met:  0.0\n",
      "Else condition Met:  0.9999539156818897\n",
      "Else condition Met:  0.006039629345240704\n",
      "Else condition Met:  0.0\n",
      "Else condition Met:  0.03756532354689769\n",
      "Else condition Met:  0.22214436771523005\n",
      "Else condition Met:  0.19354324487915173\n",
      "Else condition Met:  0.006039629345240704\n",
      "Else condition Met:  0.9999999999999999\n",
      "Else condition Met:  0.04149138526914493\n",
      "Else condition Met:  0.009317660176099649\n",
      "Else condition Met:  0.07157882306692893\n",
      "Else condition Met:  0.07534777542412728\n",
      "Else condition Met:  0.0\n",
      "Else condition Met:  0.04149138526914492\n",
      "Else condition Met:  0.9993496829991746\n"
     ]
    },
    {
     "data": {
      "image/png": "[encoded data removed]",
      "text/plain": [
       "<Figure size 700x700 with 2 Axes>"
      ]
     },
     "metadata": {},
     "output_type": "display_data"
    }
   ],
   "source": [
    "categorical_data1 = ['gender', 'ever_married', 'work_type', 'Residence_type', 'smoking_status', 'stroke']\n",
    "data1 = dropped_data_1.copy()\n",
    "data1['stroke'] = dropped_data_1['stroke'].replace({0:'No', 1:'Yes'})\n",
    "\n",
    "plot_cramer(data1[categorical_data1])"
   ]
  },
  {
   "cell_type": "code",
   "execution_count": 10,
   "id": "57326bf3-f790-4b0c-ba94-cf357968ac19",
   "metadata": {},
   "outputs": [
    {
     "name": "stdout",
     "output_type": "stream",
     "text": [
      "<class 'pandas.core.frame.DataFrame'>\n",
      "RangeIndex: 43400 entries, 0 to 43399\n",
      "Data columns (total 8 columns):\n",
      " #   Column             Non-Null Count  Dtype  \n",
      "---  ------             --------------  -----  \n",
      " 0   age                43400 non-null  float64\n",
      " 1   hypertension       43400 non-null  int64  \n",
      " 2   heart_disease      43400 non-null  int64  \n",
      " 3   ever_married       43400 non-null  object \n",
      " 4   work_type          43400 non-null  object \n",
      " 5   avg_glucose_level  43400 non-null  float64\n",
      " 6   smoking_status     43400 non-null  object \n",
      " 7   stroke             43400 non-null  int64  \n",
      "dtypes: float64(2), int64(3), object(3)\n",
      "memory usage: 2.6+ MB\n"
     ]
    }
   ],
   "source": [
    "# we can drop Residence and gender\n",
    "final_data = dropped_data_1.drop(['Residence_type', 'gender'], axis=1)\n",
    "final_data.info()"
   ]
  },
  {
   "cell_type": "markdown",
   "id": "e66dc7be-243b-4d18-80c2-5c1eb9b7617b",
   "metadata": {},
   "source": [
    "## Replace Binary Data with 0s and 1s \n",
    "## One-Hot Encoding for multi-class Categoricals"
   ]
  },
  {
   "cell_type": "code",
   "execution_count": 13,
   "id": "28f81537-2324-464d-8c8d-2a5fa3c6a909",
   "metadata": {},
   "outputs": [],
   "source": [
    "target = final_data.stroke\n",
    "\n",
    "replacement_map = {\n",
    "    'ever_married':{'Yes':1, 'No':0},\n",
    "}\n",
    "\n",
    "\n",
    "first_x = final_data.replace(replacement_map)\n",
    "x = pd.get_dummies(first_x, columns=['work_type', 'smoking_status'])"
   ]
  },
  {
   "cell_type": "code",
   "execution_count": 14,
   "id": "1e4cfe1f-6359-4880-a321-4294d023179d",
   "metadata": {},
   "outputs": [],
   "source": [
    "features = x.copy()"
   ]
  },
  {
   "cell_type": "markdown",
   "id": "d9564127-129a-4cc2-8173-8ae958d14629",
   "metadata": {},
   "source": [
    "## Normalize Continuous Numericals"
   ]
  },
  {
   "cell_type": "code",
   "execution_count": 15,
   "id": "ee392734-b283-485f-a109-ec9d2dd705c3",
   "metadata": {},
   "outputs": [
    {
     "data": {
      "text/html": [
       "<div>\n",
       "<style scoped>\n",
       "    .dataframe tbody tr th:only-of-type {\n",
       "        vertical-align: middle;\n",
       "    }\n",
       "\n",
       "    .dataframe tbody tr th {\n",
       "        vertical-align: top;\n",
       "    }\n",
       "\n",
       "    .dataframe thead th {\n",
       "        text-align: right;\n",
       "    }\n",
       "</style>\n",
       "<table border=\"1\" class=\"dataframe\">\n",
       "  <thead>\n",
       "    <tr style=\"text-align: right;\">\n",
       "      <th></th>\n",
       "      <th>age</th>\n",
       "      <th>hypertension</th>\n",
       "      <th>heart_disease</th>\n",
       "      <th>ever_married</th>\n",
       "      <th>avg_glucose_level</th>\n",
       "      <th>stroke</th>\n",
       "      <th>work_type_Govt_job</th>\n",
       "      <th>work_type_Never_worked</th>\n",
       "      <th>work_type_Private</th>\n",
       "      <th>work_type_Self-employed</th>\n",
       "      <th>work_type_children</th>\n",
       "      <th>smoking_status_formerly smoked</th>\n",
       "      <th>smoking_status_never smoked</th>\n",
       "      <th>smoking_status_smokes</th>\n",
       "    </tr>\n",
       "  </thead>\n",
       "  <tbody>\n",
       "    <tr>\n",
       "      <th>0</th>\n",
       "      <td>0.031523</td>\n",
       "      <td>0</td>\n",
       "      <td>0</td>\n",
       "      <td>0</td>\n",
       "      <td>0.999503</td>\n",
       "      <td>0</td>\n",
       "      <td>False</td>\n",
       "      <td>False</td>\n",
       "      <td>False</td>\n",
       "      <td>False</td>\n",
       "      <td>True</td>\n",
       "      <td>False</td>\n",
       "      <td>True</td>\n",
       "      <td>False</td>\n",
       "    </tr>\n",
       "    <tr>\n",
       "      <th>1</th>\n",
       "      <td>0.550488</td>\n",
       "      <td>1</td>\n",
       "      <td>0</td>\n",
       "      <td>1</td>\n",
       "      <td>0.834843</td>\n",
       "      <td>0</td>\n",
       "      <td>False</td>\n",
       "      <td>False</td>\n",
       "      <td>True</td>\n",
       "      <td>False</td>\n",
       "      <td>False</td>\n",
       "      <td>False</td>\n",
       "      <td>True</td>\n",
       "      <td>False</td>\n",
       "    </tr>\n",
       "    <tr>\n",
       "      <th>2</th>\n",
       "      <td>0.071957</td>\n",
       "      <td>0</td>\n",
       "      <td>0</td>\n",
       "      <td>0</td>\n",
       "      <td>0.997408</td>\n",
       "      <td>0</td>\n",
       "      <td>False</td>\n",
       "      <td>False</td>\n",
       "      <td>True</td>\n",
       "      <td>False</td>\n",
       "      <td>False</td>\n",
       "      <td>False</td>\n",
       "      <td>True</td>\n",
       "      <td>False</td>\n",
       "    </tr>\n",
       "    <tr>\n",
       "      <th>3</th>\n",
       "      <td>0.711972</td>\n",
       "      <td>0</td>\n",
       "      <td>0</td>\n",
       "      <td>1</td>\n",
       "      <td>0.702208</td>\n",
       "      <td>0</td>\n",
       "      <td>False</td>\n",
       "      <td>False</td>\n",
       "      <td>True</td>\n",
       "      <td>False</td>\n",
       "      <td>False</td>\n",
       "      <td>True</td>\n",
       "      <td>False</td>\n",
       "      <td>False</td>\n",
       "    </tr>\n",
       "    <tr>\n",
       "      <th>4</th>\n",
       "      <td>0.086480</td>\n",
       "      <td>0</td>\n",
       "      <td>0</td>\n",
       "      <td>0</td>\n",
       "      <td>0.996254</td>\n",
       "      <td>0</td>\n",
       "      <td>False</td>\n",
       "      <td>True</td>\n",
       "      <td>False</td>\n",
       "      <td>False</td>\n",
       "      <td>False</td>\n",
       "      <td>False</td>\n",
       "      <td>True</td>\n",
       "      <td>False</td>\n",
       "    </tr>\n",
       "    <tr>\n",
       "      <th>...</th>\n",
       "      <td>...</td>\n",
       "      <td>...</td>\n",
       "      <td>...</td>\n",
       "      <td>...</td>\n",
       "      <td>...</td>\n",
       "      <td>...</td>\n",
       "      <td>...</td>\n",
       "      <td>...</td>\n",
       "      <td>...</td>\n",
       "      <td>...</td>\n",
       "      <td>...</td>\n",
       "      <td>...</td>\n",
       "      <td>...</td>\n",
       "      <td>...</td>\n",
       "    </tr>\n",
       "    <tr>\n",
       "      <th>43395</th>\n",
       "      <td>0.168105</td>\n",
       "      <td>0</td>\n",
       "      <td>0</td>\n",
       "      <td>0</td>\n",
       "      <td>0.985769</td>\n",
       "      <td>0</td>\n",
       "      <td>False</td>\n",
       "      <td>False</td>\n",
       "      <td>False</td>\n",
       "      <td>False</td>\n",
       "      <td>True</td>\n",
       "      <td>False</td>\n",
       "      <td>True</td>\n",
       "      <td>False</td>\n",
       "    </tr>\n",
       "    <tr>\n",
       "      <th>43396</th>\n",
       "      <td>0.253590</td>\n",
       "      <td>0</td>\n",
       "      <td>0</td>\n",
       "      <td>1</td>\n",
       "      <td>0.967312</td>\n",
       "      <td>0</td>\n",
       "      <td>True</td>\n",
       "      <td>False</td>\n",
       "      <td>False</td>\n",
       "      <td>False</td>\n",
       "      <td>False</td>\n",
       "      <td>True</td>\n",
       "      <td>False</td>\n",
       "      <td>False</td>\n",
       "    </tr>\n",
       "    <tr>\n",
       "      <th>43397</th>\n",
       "      <td>0.665612</td>\n",
       "      <td>1</td>\n",
       "      <td>0</td>\n",
       "      <td>1</td>\n",
       "      <td>0.746298</td>\n",
       "      <td>0</td>\n",
       "      <td>False</td>\n",
       "      <td>False</td>\n",
       "      <td>True</td>\n",
       "      <td>False</td>\n",
       "      <td>False</td>\n",
       "      <td>True</td>\n",
       "      <td>False</td>\n",
       "      <td>False</td>\n",
       "    </tr>\n",
       "    <tr>\n",
       "      <th>43398</th>\n",
       "      <td>0.374098</td>\n",
       "      <td>0</td>\n",
       "      <td>0</td>\n",
       "      <td>1</td>\n",
       "      <td>0.927389</td>\n",
       "      <td>0</td>\n",
       "      <td>False</td>\n",
       "      <td>False</td>\n",
       "      <td>True</td>\n",
       "      <td>False</td>\n",
       "      <td>False</td>\n",
       "      <td>False</td>\n",
       "      <td>True</td>\n",
       "      <td>False</td>\n",
       "    </tr>\n",
       "    <tr>\n",
       "      <th>43399</th>\n",
       "      <td>0.718054</td>\n",
       "      <td>0</td>\n",
       "      <td>0</td>\n",
       "      <td>1</td>\n",
       "      <td>0.695987</td>\n",
       "      <td>0</td>\n",
       "      <td>False</td>\n",
       "      <td>False</td>\n",
       "      <td>True</td>\n",
       "      <td>False</td>\n",
       "      <td>False</td>\n",
       "      <td>False</td>\n",
       "      <td>True</td>\n",
       "      <td>False</td>\n",
       "    </tr>\n",
       "  </tbody>\n",
       "</table>\n",
       "<p>43400 rows × 14 columns</p>\n",
       "</div>"
      ],
      "text/plain": [
       "            age  hypertension  heart_disease  ever_married  avg_glucose_level  \\\n",
       "0      0.031523             0              0             0           0.999503   \n",
       "1      0.550488             1              0             1           0.834843   \n",
       "2      0.071957             0              0             0           0.997408   \n",
       "3      0.711972             0              0             1           0.702208   \n",
       "4      0.086480             0              0             0           0.996254   \n",
       "...         ...           ...            ...           ...                ...   \n",
       "43395  0.168105             0              0             0           0.985769   \n",
       "43396  0.253590             0              0             1           0.967312   \n",
       "43397  0.665612             1              0             1           0.746298   \n",
       "43398  0.374098             0              0             1           0.927389   \n",
       "43399  0.718054             0              0             1           0.695987   \n",
       "\n",
       "       stroke  work_type_Govt_job  work_type_Never_worked  work_type_Private  \\\n",
       "0           0               False                   False              False   \n",
       "1           0               False                   False               True   \n",
       "2           0               False                   False               True   \n",
       "3           0               False                   False               True   \n",
       "4           0               False                    True              False   \n",
       "...       ...                 ...                     ...                ...   \n",
       "43395       0               False                   False              False   \n",
       "43396       0                True                   False              False   \n",
       "43397       0               False                   False               True   \n",
       "43398       0               False                   False               True   \n",
       "43399       0               False                   False               True   \n",
       "\n",
       "       work_type_Self-employed  work_type_children  \\\n",
       "0                        False                True   \n",
       "1                        False               False   \n",
       "2                        False               False   \n",
       "3                        False               False   \n",
       "4                        False               False   \n",
       "...                        ...                 ...   \n",
       "43395                    False                True   \n",
       "43396                    False               False   \n",
       "43397                    False               False   \n",
       "43398                    False               False   \n",
       "43399                    False               False   \n",
       "\n",
       "       smoking_status_formerly smoked  smoking_status_never smoked  \\\n",
       "0                               False                         True   \n",
       "1                               False                         True   \n",
       "2                               False                         True   \n",
       "3                                True                        False   \n",
       "4                               False                         True   \n",
       "...                               ...                          ...   \n",
       "43395                           False                         True   \n",
       "43396                            True                        False   \n",
       "43397                            True                        False   \n",
       "43398                           False                         True   \n",
       "43399                           False                         True   \n",
       "\n",
       "       smoking_status_smokes  \n",
       "0                      False  \n",
       "1                      False  \n",
       "2                      False  \n",
       "3                      False  \n",
       "4                      False  \n",
       "...                      ...  \n",
       "43395                  False  \n",
       "43396                  False  \n",
       "43397                  False  \n",
       "43398                  False  \n",
       "43399                  False  \n",
       "\n",
       "[43400 rows x 14 columns]"
      ]
     },
     "execution_count": 15,
     "metadata": {},
     "output_type": "execute_result"
    }
   ],
   "source": [
    "normalized = pd.DataFrame(Normalizer().fit_transform(x[['avg_glucose_level', 'age']]), columns=['avg_glucose_level', 'age'])\n",
    "features.avg_glucose_level = normalized[['avg_glucose_level']]\n",
    "features.age = normalized[['age']]\n",
    "features"
   ]
  },
  {
   "cell_type": "code",
   "execution_count": 16,
   "id": "19529733-d4e4-47e2-b543-c7f85812e7d7",
   "metadata": {},
   "outputs": [
    {
     "name": "stdout",
     "output_type": "stream",
     "text": [
      "<class 'pandas.core.frame.DataFrame'>\n",
      "RangeIndex: 43400 entries, 0 to 43399\n",
      "Data columns (total 14 columns):\n",
      " #   Column                          Non-Null Count  Dtype  \n",
      "---  ------                          --------------  -----  \n",
      " 0   age                             43400 non-null  float64\n",
      " 1   hypertension                    43400 non-null  int64  \n",
      " 2   heart_disease                   43400 non-null  int64  \n",
      " 3   ever_married                    43400 non-null  int64  \n",
      " 4   avg_glucose_level               43400 non-null  float64\n",
      " 5   stroke                          43400 non-null  int64  \n",
      " 6   work_type_Govt_job              43400 non-null  bool   \n",
      " 7   work_type_Never_worked          43400 non-null  bool   \n",
      " 8   work_type_Private               43400 non-null  bool   \n",
      " 9   work_type_Self-employed         43400 non-null  bool   \n",
      " 10  work_type_children              43400 non-null  bool   \n",
      " 11  smoking_status_formerly smoked  43400 non-null  bool   \n",
      " 12  smoking_status_never smoked     43400 non-null  bool   \n",
      " 13  smoking_status_smokes           43400 non-null  bool   \n",
      "dtypes: bool(8), float64(2), int64(4)\n",
      "memory usage: 2.3 MB\n"
     ]
    }
   ],
   "source": [
    "features.info()"
   ]
  },
  {
   "cell_type": "markdown",
   "id": "cbdfef26-fbb9-455c-be0e-6fce0cdcd951",
   "metadata": {},
   "source": [
    "# Check For Any Imbalanced Data in Target"
   ]
  },
  {
   "cell_type": "code",
   "execution_count": 27,
   "id": "32f69476-50bc-4b10-a413-3553dc6a010b",
   "metadata": {},
   "outputs": [
    {
     "data": {
      "text/plain": [
       "<Axes: xlabel='stroke'>"
      ]
     },
     "execution_count": 27,
     "metadata": {},
     "output_type": "execute_result"
    },
    {
     "data": {
      "image/png": "[encoded data removed]",
      "text/plain": [
       "<Figure size 640x480 with 1 Axes>"
      ]
     },
     "metadata": {},
     "output_type": "display_data"
    }
   ],
   "source": [
    "(target.value_counts(normalize=True)*100).plot(kind='bar')"
   ]
  },
  {
   "cell_type": "code",
   "execution_count": 48,
   "id": "2301b2ca-80c0-4d7b-ba5c-8a8771e578e5",
   "metadata": {},
   "outputs": [
    {
     "data": {
      "text/plain": [
       "stroke\n",
       "0    42617\n",
       "1      783\n",
       "Name: count, dtype: int64"
      ]
     },
     "execution_count": 48,
     "metadata": {},
     "output_type": "execute_result"
    }
   ],
   "source": [
    "target.value_counts()"
   ]
  },
  {
   "cell_type": "markdown",
   "id": "f9c1e09f-729f-4073-921f-a85245191e79",
   "metadata": {},
   "source": [
    "# Cross Validation Without Train and Test Split\n",
    "## With SMOTE"
   ]
  },
  {
   "cell_type": "code",
   "execution_count": 38,
   "id": "ffc3dddd-fac1-462c-a5ce-56b7a16b785b",
   "metadata": {},
   "outputs": [
    {
     "name": "stdout",
     "output_type": "stream",
     "text": [
      "train is 34720 and test is 8680\n",
      "train is 34720 and test is 8680\n",
      "train is 34720 and test is 8680\n",
      "train is 34720 and test is 8680\n",
      "train is 34720 and test is 8680\n"
     ]
    },
    {
     "data": {
      "image/png": "[encoded data removed]",
      "text/plain": [
       "<Figure size 1500x500 with 15 Axes>"
      ]
     },
     "metadata": {},
     "output_type": "display_data"
    }
   ],
   "source": [
    "f1_scores_set = []\n",
    "recall_scores_set = []\n",
    "precision_scores_set = []\n",
    "accuracy_scores_set = []\n",
    "confusion_matrices = []\n",
    "clf = svm.SVC()\n",
    "sgkf = StratifiedKFold(n_splits=5, shuffle=False)\n",
    "i = 0\n",
    "j = 0\n",
    "_, axs = plt.subplots(nrows=5, ncols=3, figsize=(15,5))\n",
    "for train_index, test_index in sgkf.split(features, target):\n",
    "    print(f'train is {len(train_index)} and test is {len(test_index)}')\n",
    "    x_train_cv, x_test_cv = features.iloc[train_index], features.iloc[test_index]\n",
    "    y_train_cv, y_test_cv = target.iloc[train_index], target.iloc[test_index]\n",
    "\n",
    "    (y_train_cv.value_counts(normalize=True)*100).plot(kind='bar', ax=axs[i,j])\n",
    "    axs[i,j].set_xlabel('Smoke Percentage in Train Set')\n",
    "    j+=1\n",
    "\n",
    "    (y_test_cv.value_counts(normalize=True)*100).plot(kind='bar', ax=axs[i,j])\n",
    "    axs[i, j].set_xlabel('Smoke Percentage in Test Set')\n",
    "    j+=1\n",
    "    \n",
    "    # Smote for train data\n",
    "    x_resampled, y_resampled = SMOTE().fit_resample(x_train_cv, y_train_cv)\n",
    "    \n",
    "    (y_resampled.value_counts(normalize=True)*100).plot(kind='bar', ax=axs[i,j])\n",
    "    axs[i,j].set_xlabel('Smoke Percentage in Resampled Train Set')\n",
    "    j%=2\n",
    "    i+=1\n",
    "    \n",
    "    clf.fit(x_resampled, y_resampled)\n",
    "    predicted = clf.predict(x_test_cv)\n",
    "    f1 = f1_score(y_test_cv, predicted)\n",
    "    pr = precision_score(y_test_cv, predicted)\n",
    "    re = recall_score(y_test_cv, predicted)\n",
    "    cm = confusion_matrix(y_test_cv, predicted)\n",
    "    f1_scores_set.append(f1)\n",
    "    precision_scores_set.append(pr)\n",
    "    recall_scores_set.append(re)\n",
    "    confusion_matrices.append(cm)"
   ]
  },
  {
   "cell_type": "code",
   "execution_count": 39,
   "id": "708400e7-bcff-4eae-a092-e4688cc126ec",
   "metadata": {},
   "outputs": [
    {
     "name": "stdout",
     "output_type": "stream",
     "text": [
      "avg f1 score is 1.0\n",
      "avg precision score is 1.0\n",
      "avg f1 recall is 1.0\n"
     ]
    }
   ],
   "source": [
    "print(f'avg f1 score is {pd.Series(f1_scores_set).mean()}')\n",
    "print(f'avg precision score is {pd.Series(precision_scores_set).mean()}')\n",
    "print(f'avg f1 recall is {pd.Series(recall_scores_set).mean()}')\n",
    "# print(f'avg f1 score is {f1_scores_set.mean()}')"
   ]
  },
  {
   "cell_type": "markdown",
   "id": "6566524c-f1ba-40e0-b664-23459a6ea0e7",
   "metadata": {},
   "source": [
    "# Cross Validation With Test and Train Split\n",
    "## With SMOTE"
   ]
  },
  {
   "cell_type": "code",
   "execution_count": 59,
   "id": "a68ad5d7-3d25-4c3b-a9f5-9191a1cc8055",
   "metadata": {},
   "outputs": [],
   "source": [
    "x_train, x_test, y_train, y_test = train_test_split(features, target, test_size=0.3)"
   ]
  },
  {
   "cell_type": "code",
   "execution_count": 60,
   "id": "4fda634f-fbf8-4f95-a415-454579c782c1",
   "metadata": {},
   "outputs": [
    {
     "data": {
      "text/plain": [
       "stroke\n",
       "0    42617\n",
       "1      783\n",
       "Name: count, dtype: int64"
      ]
     },
     "execution_count": 60,
     "metadata": {},
     "output_type": "execute_result"
    }
   ],
   "source": [
    "target.value_counts()"
   ]
  },
  {
   "cell_type": "code",
   "execution_count": 61,
   "id": "f3ed8fbc-25ed-4c11-979d-2b1c908274f5",
   "metadata": {},
   "outputs": [
    {
     "data": {
      "text/plain": [
       "stroke\n",
       "0    29844\n",
       "1      536\n",
       "Name: count, dtype: int64"
      ]
     },
     "execution_count": 61,
     "metadata": {},
     "output_type": "execute_result"
    }
   ],
   "source": [
    "y_train.value_counts()"
   ]
  },
  {
   "cell_type": "code",
   "execution_count": 62,
   "id": "3f5d3081-f4ce-41c8-b9e5-cc2fae572008",
   "metadata": {},
   "outputs": [
    {
     "data": {
      "text/plain": [
       "stroke\n",
       "0    12773\n",
       "1      247\n",
       "Name: count, dtype: int64"
      ]
     },
     "execution_count": 62,
     "metadata": {},
     "output_type": "execute_result"
    }
   ],
   "source": [
    "y_test.value_counts()"
   ]
  },
  {
   "cell_type": "code",
   "execution_count": 63,
   "id": "7404418d-437a-4d8e-a143-26bb09b13362",
   "metadata": {},
   "outputs": [
    {
     "name": "stdout",
     "output_type": "stream",
     "text": [
      "train is 34720 and test is 8680\n",
      "train is 34720 and test is 8680\n",
      "train is 34720 and test is 8680\n",
      "train is 34720 and test is 8680\n",
      "train is 34720 and test is 8680\n"
     ]
    }
   ],
   "source": [
    "# x_train_set = []\n",
    "# y_train_set = []\n",
    "# x_test_set = []\n",
    "# y_test_set = []\n",
    "splitted_f1_scores_set = []\n",
    "splitted_recall_scores_set = []\n",
    "splitted_precision_scores_set = []\n",
    "splitted_accuracy_scores_set = []\n",
    "splitted_confusion_matrices = []\n",
    "splitted_clf = svm.SVC()\n",
    "splitted_sgkf = StratifiedKFold(n_splits=5, shuffle=False)\n",
    "for splitted_train_index, splitted_test_index in splitted_sgkf.split(x_train, y_train):\n",
    "    print(f'train is {len(train_index)} and test is {len(test_index)}')\n",
    "    splitted_x_train_cv, splitted_x_test_cv = x_train.iloc[splitted_train_index], x_train.iloc[splitted_test_index]\n",
    "    splitted_y_train_cv, splitted_y_test_cv = y_train.iloc[splitted_train_index], y_train.iloc[splitted_test_index]\n",
    "    # Smote for train data\n",
    "    splitted_x_resampled, splitted_y_resampled = SMOTE().fit_resample(splitted_x_train_cv, splitted_y_train_cv)\n",
    "    splitted_clf.fit(splitted_x_resampled, splitted_y_resampled)\n",
    "    splitted_predicted = splitted_clf.predict(splitted_x_test_cv)\n",
    "    splitted_f1 = f1_score(splitted_y_test_cv, splitted_predicted)\n",
    "    splitted_pr = precision_score(splitted_y_test_cv, splitted_predicted)\n",
    "    splitted_re = recall_score(splitted_y_test_cv, splitted_predicted)\n",
    "    splitted_cm = confusion_matrix(splitted_y_test_cv, splitted_predicted)\n",
    "    splitted_f1_scores_set.append(splitted_f1)\n",
    "    splitted_precision_scores_set.append(splitted_pr)\n",
    "    splitted_recall_scores_set.append(splitted_re)\n",
    "    splitted_confusion_matrices.append(splitted_cm)"
   ]
  },
  {
   "cell_type": "code",
   "execution_count": 64,
   "id": "22a3152b-e5bb-4231-8008-1a5fbb5646c2",
   "metadata": {},
   "outputs": [
    {
     "name": "stdout",
     "output_type": "stream",
     "text": [
      "avg f1 score is 1.0\n",
      "avg precision score is 1.0\n",
      "avg f1 recall is 1.0\n"
     ]
    }
   ],
   "source": [
    "print(f'avg f1 score is {pd.Series(splitted_f1_scores_set).mean()}')\n",
    "print(f'avg precision score is {pd.Series(splitted_precision_scores_set).mean()}')\n",
    "print(f'avg f1 recall is {pd.Series(splitted_recall_scores_set).mean()}')"
   ]
  },
  {
   "cell_type": "code",
   "execution_count": 65,
   "id": "41be848a-e922-444a-9d48-b5057b180b13",
   "metadata": {},
   "outputs": [
    {
     "data": {
      "text/plain": [
       "stroke\n",
       "0    12773\n",
       "1      247\n",
       "Name: count, dtype: int64"
      ]
     },
     "execution_count": 65,
     "metadata": {},
     "output_type": "execute_result"
    }
   ],
   "source": [
    "y_test.value_counts()"
   ]
  },
  {
   "cell_type": "code",
   "execution_count": 66,
   "id": "5fcff4f1-b342-4f4b-bb22-322fcdcb0668",
   "metadata": {},
   "outputs": [],
   "source": [
    "final_pred = splitted_clf.predict(x_test)\n",
    "con = confusion_matrix(y_test, final_pred)"
   ]
  },
  {
   "cell_type": "code",
   "execution_count": 67,
   "id": "6bbc4964-8c64-48b8-8d1c-1c9f7a6b83b5",
   "metadata": {},
   "outputs": [
    {
     "data": {
      "text/plain": [
       "0    12773\n",
       "1      247\n",
       "Name: count, dtype: int64"
      ]
     },
     "execution_count": 67,
     "metadata": {},
     "output_type": "execute_result"
    }
   ],
   "source": [
    "pd.DataFrame(final_pred).value_counts()"
   ]
  },
  {
   "cell_type": "code",
   "execution_count": 68,
   "id": "ad881095-b7c5-43b4-9c06-9ef7a605c011",
   "metadata": {},
   "outputs": [
    {
     "data": {
      "text/plain": [
       "array([[12773,     0],\n",
       "       [    0,   247]], dtype=int64)"
      ]
     },
     "execution_count": 68,
     "metadata": {},
     "output_type": "execute_result"
    }
   ],
   "source": [
    "con"
   ]
  },
  {
   "cell_type": "code",
   "execution_count": 69,
   "id": "95cb9fca-88f1-488f-bf17-27fb0644e48f",
   "metadata": {},
   "outputs": [
    {
     "data": {
      "text/plain": [
       "<Axes: >"
      ]
     },
     "execution_count": 69,
     "metadata": {},
     "output_type": "execute_result"
    },
    {
     "data": {
      "image/png": "[encoded data removed]",
      "text/plain": [
       "<Figure size 640x480 with 2 Axes>"
      ]
     },
     "metadata": {},
     "output_type": "display_data"
    }
   ],
   "source": [
    "sns.heatmap(con, annot=True, fmt='d')"
   ]
  },
  {
   "cell_type": "code",
   "execution_count": 70,
   "id": "a83fc905-46af-4eec-adf1-46da8b450f04",
   "metadata": {},
   "outputs": [],
   "source": [
    "f_cl = svm.SVC()"
   ]
  },
  {
   "cell_type": "code",
   "execution_count": 73,
   "id": "f22acba8-4544-4d6d-ae9e-7dd93c85a53d",
   "metadata": {},
   "outputs": [
    {
     "data": {
      "text/html": [
       "<style>#sk-container-id-3 {color: black;}#sk-container-id-3 pre{padding: 0;}#sk-container-id-3 div.sk-toggleable {background-color: white;}#sk-container-id-3 label.sk-toggleable__label {cursor: pointer;display: block;width: 100%;margin-bottom: 0;padding: 0.3em;box-sizing: border-box;text-align: center;}#sk-container-id-3 label.sk-toggleable__label-arrow:before {content: \"▸\";float: left;margin-right: 0.25em;color: #696969;}#sk-container-id-3 label.sk-toggleable__label-arrow:hover:before {color: black;}#sk-container-id-3 div.sk-estimator:hover label.sk-toggleable__label-arrow:before {color: black;}#sk-container-id-3 div.sk-toggleable__content {max-height: 0;max-width: 0;overflow: hidden;text-align: left;background-color: #f0f8ff;}#sk-container-id-3 div.sk-toggleable__content pre {margin: 0.2em;color: black;border-radius: 0.25em;background-color: #f0f8ff;}#sk-container-id-3 input.sk-toggleable__control:checked~div.sk-toggleable__content {max-height: 200px;max-width: 100%;overflow: auto;}#sk-container-id-3 input.sk-toggleable__control:checked~label.sk-toggleable__label-arrow:before {content: \"▾\";}#sk-container-id-3 div.sk-estimator input.sk-toggleable__control:checked~label.sk-toggleable__label {background-color: #d4ebff;}#sk-container-id-3 div.sk-label input.sk-toggleable__control:checked~label.sk-toggleable__label {background-color: #d4ebff;}#sk-container-id-3 input.sk-hidden--visually {border: 0;clip: rect(1px 1px 1px 1px);clip: rect(1px, 1px, 1px, 1px);height: 1px;margin: -1px;overflow: hidden;padding: 0;position: absolute;width: 1px;}#sk-container-id-3 div.sk-estimator {font-family: monospace;background-color: #f0f8ff;border: 1px dotted black;border-radius: 0.25em;box-sizing: border-box;margin-bottom: 0.5em;}#sk-container-id-3 div.sk-estimator:hover {background-color: #d4ebff;}#sk-container-id-3 div.sk-parallel-item::after {content: \"\";width: 100%;border-bottom: 1px solid gray;flex-grow: 1;}#sk-container-id-3 div.sk-label:hover label.sk-toggleable__label {background-color: #d4ebff;}#sk-container-id-3 div.sk-serial::before {content: \"\";position: absolute;border-left: 1px solid gray;box-sizing: border-box;top: 0;bottom: 0;left: 50%;z-index: 0;}#sk-container-id-3 div.sk-serial {display: flex;flex-direction: column;align-items: center;background-color: white;padding-right: 0.2em;padding-left: 0.2em;position: relative;}#sk-container-id-3 div.sk-item {position: relative;z-index: 1;}#sk-container-id-3 div.sk-parallel {display: flex;align-items: stretch;justify-content: center;background-color: white;position: relative;}#sk-container-id-3 div.sk-item::before, #sk-container-id-3 div.sk-parallel-item::before {content: \"\";position: absolute;border-left: 1px solid gray;box-sizing: border-box;top: 0;bottom: 0;left: 50%;z-index: -1;}#sk-container-id-3 div.sk-parallel-item {display: flex;flex-direction: column;z-index: 1;position: relative;background-color: white;}#sk-container-id-3 div.sk-parallel-item:first-child::after {align-self: flex-end;width: 50%;}#sk-container-id-3 div.sk-parallel-item:last-child::after {align-self: flex-start;width: 50%;}#sk-container-id-3 div.sk-parallel-item:only-child::after {width: 0;}#sk-container-id-3 div.sk-dashed-wrapped {border: 1px dashed gray;margin: 0 0.4em 0.5em 0.4em;box-sizing: border-box;padding-bottom: 0.4em;background-color: white;}#sk-container-id-3 div.sk-label label {font-family: monospace;font-weight: bold;display: inline-block;line-height: 1.2em;}#sk-container-id-3 div.sk-label-container {text-align: center;}#sk-container-id-3 div.sk-container {/* jupyter's `normalize.less` sets `[hidden] { display: none; }` but bootstrap.min.css set `[hidden] { display: none !important; }` so we also need the `!important` here to be able to override the default hidden behavior on the sphinx rendered scikit-learn.org. See: https://github.com/scikit-learn/scikit-learn/issues/21755 */display: inline-block !important;position: relative;}#sk-container-id-3 div.sk-text-repr-fallback {display: none;}</style><div id=\"sk-container-id-3\" class=\"sk-top-container\"><div class=\"sk-text-repr-fallback\"><pre>SVC()</pre><b>In a Jupyter environment, please rerun this cell to show the HTML representation or trust the notebook. <br />On GitHub, the HTML representation is unable to render, please try loading this page with nbviewer.org.</b></div><div class=\"sk-container\" hidden><div class=\"sk-item\"><div class=\"sk-estimator sk-toggleable\"><input class=\"sk-toggleable__control sk-hidden--visually\" id=\"sk-estimator-id-3\" type=\"checkbox\" checked><label for=\"sk-estimator-id-3\" class=\"sk-toggleable__label sk-toggleable__label-arrow\">SVC</label><div class=\"sk-toggleable__content\"><pre>SVC()</pre></div></div></div></div></div>"
      ],
      "text/plain": [
       "SVC()"
      ]
     },
     "execution_count": 73,
     "metadata": {},
     "output_type": "execute_result"
    }
   ],
   "source": [
    "f_cl.fit(x_train, y_train)"
   ]
  },
  {
   "cell_type": "code",
   "execution_count": 74,
   "id": "10298268-031e-4538-be5d-61a70547db8e",
   "metadata": {},
   "outputs": [],
   "source": [
    "p = f_cl.predict(x_test)"
   ]
  },
  {
   "cell_type": "code",
   "execution_count": 75,
   "id": "eff48d69-e19a-4d03-b301-adcdb6d2f5fd",
   "metadata": {},
   "outputs": [],
   "source": [
    "c = confusion_matrix(y_test, p)"
   ]
  },
  {
   "cell_type": "code",
   "execution_count": 76,
   "id": "1a3670ce-a837-48ca-a4d1-4128d3ddbc6d",
   "metadata": {},
   "outputs": [
    {
     "data": {
      "text/plain": [
       "array([[12773,     0],\n",
       "       [    0,   247]], dtype=int64)"
      ]
     },
     "execution_count": 76,
     "metadata": {},
     "output_type": "execute_result"
    }
   ],
   "source": [
    "c"
   ]
  },
  {
   "cell_type": "code",
   "execution_count": null,
   "id": "3a8e5007-9d92-4a44-93ff-5c9b9db3ac48",
   "metadata": {},
   "outputs": [],
   "source": []
  }
 ],
 "metadata": {
  "kernelspec": {
   "display_name": "Python 3 (ipykernel)",
   "language": "python",
   "name": "python3"
  },
  "language_info": {
   "codemirror_mode": {
    "name": "ipython",
    "version": 3
   },
   "file_extension": ".py",
   "mimetype": "text/x-python",
   "name": "python",
   "nbconvert_exporter": "python",
   "pygments_lexer": "ipython3",
   "version": "3.11.4"
  }
 },
 "nbformat": 4,
 "nbformat_minor": 5
}
