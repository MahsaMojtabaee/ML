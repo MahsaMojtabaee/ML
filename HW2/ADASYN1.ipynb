{
 "cells": [
  {
   "cell_type": "markdown",
   "id": "21d0abff-4353-4f7d-83ae-cb762c1b80ae",
   "metadata": {},
   "source": [
    "# smoking_status and bmi = most frequent"
   ]
  },
  {
   "cell_type": "code",
   "execution_count": 1,
   "id": "09eaeb0c-aa18-4dfc-8a73-40cb747ef4eb",
   "metadata": {},
   "outputs": [],
   "source": [
    "import pandas as pd\n",
    "import numpy as np\n",
    "import matplotlib.pyplot as plt\n",
    "import seaborn as sns\n",
    "from imblearn.over_sampling import SMOTE, ADASYN\n",
    "from sklearn.preprocessing import Normalizer\n",
    "from sklearn.model_selection import train_test_split, StratifiedKFold\n",
    "from sklearn import svm\n",
    "from sklearn.metrics import confusion_matrix, accuracy_score, f1_score, precision_score, recall_score"
   ]
  },
  {
   "cell_type": "code",
   "execution_count": 2,
   "id": "11226139-f94f-4f8a-b92b-046795ebd339",
   "metadata": {},
   "outputs": [],
   "source": [
    "data = pd.read_csv('data/dataset.csv')"
   ]
  },
  {
   "cell_type": "code",
   "execution_count": 3,
   "id": "0f806d3b-79e1-4099-ad8d-7b46afe10bf4",
   "metadata": {},
   "outputs": [
    {
     "name": "stdout",
     "output_type": "stream",
     "text": [
      "<class 'pandas.core.frame.DataFrame'>\n",
      "RangeIndex: 43400 entries, 0 to 43399\n",
      "Data columns (total 12 columns):\n",
      " #   Column             Non-Null Count  Dtype  \n",
      "---  ------             --------------  -----  \n",
      " 0   id                 43400 non-null  int64  \n",
      " 1   gender             43400 non-null  object \n",
      " 2   age                43400 non-null  float64\n",
      " 3   hypertension       43400 non-null  int64  \n",
      " 4   heart_disease      43400 non-null  int64  \n",
      " 5   ever_married       43400 non-null  object \n",
      " 6   work_type          43400 non-null  object \n",
      " 7   Residence_type     43400 non-null  object \n",
      " 8   avg_glucose_level  43400 non-null  float64\n",
      " 9   bmi                41938 non-null  float64\n",
      " 10  smoking_status     30108 non-null  object \n",
      " 11  stroke             43400 non-null  int64  \n",
      "dtypes: float64(3), int64(4), object(5)\n",
      "memory usage: 4.0+ MB\n"
     ]
    }
   ],
   "source": [
    "data.info()"
   ]
  },
  {
   "cell_type": "markdown",
   "id": "b1b63587-4151-4795-a79a-ca59662c61a3",
   "metadata": {},
   "source": [
    "from here we can see there are missing values in smoking_status and bmi"
   ]
  },
  {
   "cell_type": "markdown",
   "id": "17a7f5f1-a415-48e4-b99b-6854af697e75",
   "metadata": {},
   "source": [
    "I choose to check what to do with these missed values. Here my options: \n",
    "1. Drop those people from my training set \n",
    "2. Replace the Nan with the mean of the column\n",
    "3. Replace the Nan with the max of the column\n",
    "4. Replace the Nan with the most frequent value of the column"
   ]
  },
  {
   "cell_type": "code",
   "execution_count": 4,
   "id": "8e51275f-0854-44f9-9fe2-537c58c38c3d",
   "metadata": {},
   "outputs": [],
   "source": [
    "data.smoking_status.fillna('never smoked', inplace=True)"
   ]
  },
  {
   "cell_type": "code",
   "execution_count": 5,
   "id": "47a82603-c980-4180-945c-331c38ee207f",
   "metadata": {},
   "outputs": [],
   "source": [
    "data.bmi.fillna(data.bmi.mode().iloc[0], inplace=True)"
   ]
  },
  {
   "cell_type": "code",
   "execution_count": 6,
   "id": "2d0a98c8-b17b-4520-a002-feb90f8812c9",
   "metadata": {},
   "outputs": [],
   "source": [
    "target = data.stroke\n",
    "\n",
    "replacement_map = {\n",
    "    'ever_married':{'Yes':1, 'No':0},\n",
    "    'Residence_type':{'Urban':1, 'Rural':0}\n",
    "}\n",
    "\n",
    "\n",
    "first_x = data.drop(['stroke', 'id'], axis=1).replace(replacement_map)\n",
    "x = pd.get_dummies(first_x, columns=['work_type', 'gender', 'smoking_status'])"
   ]
  },
  {
   "cell_type": "code",
   "execution_count": 7,
   "id": "19529733-d4e4-47e2-b543-c7f85812e7d7",
   "metadata": {},
   "outputs": [
    {
     "name": "stdout",
     "output_type": "stream",
     "text": [
      "<class 'pandas.core.frame.DataFrame'>\n",
      "RangeIndex: 43400 entries, 0 to 43399\n",
      "Data columns (total 12 columns):\n",
      " #   Column             Non-Null Count  Dtype  \n",
      "---  ------             --------------  -----  \n",
      " 0   id                 43400 non-null  int64  \n",
      " 1   gender             43400 non-null  object \n",
      " 2   age                43400 non-null  float64\n",
      " 3   hypertension       43400 non-null  int64  \n",
      " 4   heart_disease      43400 non-null  int64  \n",
      " 5   ever_married       43400 non-null  object \n",
      " 6   work_type          43400 non-null  object \n",
      " 7   Residence_type     43400 non-null  object \n",
      " 8   avg_glucose_level  43400 non-null  float64\n",
      " 9   bmi                43400 non-null  float64\n",
      " 10  smoking_status     43400 non-null  object \n",
      " 11  stroke             43400 non-null  int64  \n",
      "dtypes: float64(3), int64(4), object(5)\n",
      "memory usage: 4.0+ MB\n"
     ]
    }
   ],
   "source": [
    "data.info()"
   ]
  },
  {
   "cell_type": "code",
   "execution_count": 13,
   "id": "7356e0f8-05e6-4197-bd1c-8bd5a1baab1c",
   "metadata": {},
   "outputs": [
    {
     "name": "stdout",
     "output_type": "stream",
     "text": [
      "shape of train dataset is x:(34720, 15) and y:(34720,)\n",
      "shape of test dataset is x:(8680, 15) and y:(8680,)\n"
     ]
    }
   ],
   "source": [
    "normalized_x = Normalizer().fit_transform(x)\n",
    "\n",
    "x_train, x_test, y_train, y_test = train_test_split(normalized_x, target, test_size=0.2, random_state=0, stratify=target)\n",
    "print(f'shape of train dataset is x:{x_train.shape} and y:{y_train.shape}')\n",
    "print(f'shape of test dataset is x:{x_test.shape} and y:{y_test.shape}')"
   ]
  },
  {
   "cell_type": "markdown",
   "id": "de09d618-1656-4fac-ade4-626ff8f6490a",
   "metadata": {},
   "source": [
    "## DASYN"
   ]
  },
  {
   "cell_type": "code",
   "execution_count": 14,
   "id": "059887e5-a16a-42aa-8378-7fb187111ef6",
   "metadata": {},
   "outputs": [],
   "source": [
    "x_resampled, y_resampled = ADASYN().fit_resample(x_train, y_train)"
   ]
  },
  {
   "cell_type": "code",
   "execution_count": 15,
   "id": "fa892e0f-d255-48f0-a80f-625976f190e7",
   "metadata": {},
   "outputs": [
    {
     "name": "stdout",
     "output_type": "stream",
     "text": [
      "(67918, 15)\n",
      "(67918,)\n"
     ]
    }
   ],
   "source": [
    "print(x_resampled.shape)\n",
    "print(y_resampled.shape)"
   ]
  },
  {
   "cell_type": "code",
   "execution_count": 16,
   "id": "5fd4ddaa-ae4c-4a18-85e7-6ed23fb6bd47",
   "metadata": {},
   "outputs": [
    {
     "data": {
      "text/plain": [
       "Text(0.5, 1.0, 'Percentage of Strokes')"
      ]
     },
     "execution_count": 16,
     "metadata": {},
     "output_type": "execute_result"
    },
    {
     "data": {
      "image/png": "[encoded data removed]",
      "text/plain": [
       "<Figure size 640x480 with 1 Axes>"
      ]
     },
     "metadata": {},
     "output_type": "display_data"
    }
   ],
   "source": [
    "(y_resampled.value_counts(normalize=True)*100).plot(kind='bar', color='c')\n",
    "plt.xlabel('Stroke')\n",
    "plt.ylabel('Percentage')\n",
    "plt.title('Percentage of Strokes')"
   ]
  },
  {
   "cell_type": "code",
   "execution_count": null,
   "id": "0e7b1059-1167-4dd0-a24e-9bb579cc4112",
   "metadata": {},
   "outputs": [],
   "source": []
  },
  {
   "cell_type": "code",
   "execution_count": 17,
   "id": "ffc3dddd-fac1-462c-a5ce-56b7a16b785b",
   "metadata": {},
   "outputs": [
    {
     "name": "stdout",
     "output_type": "stream",
     "text": [
      "train is 45278 and test is 22640\n",
      "train is 45279 and test is 22639\n",
      "train is 45279 and test is 22639\n"
     ]
    }
   ],
   "source": [
    "x_train_set = []\n",
    "y_train_set = []\n",
    "x_test_set = []\n",
    "y_test_set = []\n",
    "\n",
    "sgkf = StratifiedKFold(n_splits=3, random_state=1, shuffle=True)\n",
    "for train_index, test_index in sgkf.split(x_resampled, y_resampled):\n",
    "    print(f'train is {len(train_index)} and test is {len(test_index)}')\n",
    "    x_train_cv, x_test_cv = x_resampled[train_index], x_resampled[test_index]\n",
    "    y_train_cv, y_test_cv = y_resampled[train_index], y_resampled[test_index]\n",
    "    x_train_set.append(x_train_cv)\n",
    "    x_test_set.append(x_test_cv)\n",
    "    y_train_set.append(y_train_cv)\n",
    "    y_test_set.append(y_test_cv)"
   ]
  },
  {
   "cell_type": "code",
   "execution_count": 18,
   "id": "12d03197-acc7-4225-ab88-21e606ab8ac1",
   "metadata": {},
   "outputs": [
    {
     "name": "stdout",
     "output_type": "stream",
     "text": [
      "stroke\n",
      "0    22729\n",
      "1    22549\n",
      "Name: count, dtype: int64\n",
      "stroke\n",
      "0    22729\n",
      "1    22550\n",
      "Name: count, dtype: int64\n",
      "stroke\n",
      "0    22730\n",
      "1    22549\n",
      "Name: count, dtype: int64\n"
     ]
    },
    {
     "data": {
      "image/png": "[encoded data removed]",
      "text/plain": [
       "<Figure size 1500x500 with 3 Axes>"
      ]
     },
     "metadata": {},
     "output_type": "display_data"
    }
   ],
   "source": [
    "# Create a figure and 5 subplots\n",
    "fig, axs = plt.subplots(1, 3, figsize=(15, 5))\n",
    "\n",
    "# Plotting bar plots on each subplot\n",
    "for i, y_train in zip(range(len(axs)),y_train_set):\n",
    "    values = (y_train.value_counts(normalize=True)*100)\n",
    "    print(y_train.value_counts())\n",
    "    values.plot(kind='bar', color='c', ax=axs[i])\n",
    "    axs[i].set_xlabel('Stroke')\n",
    "    axs[i].set_ylabel('Percentage')\n",
    "    axs[i].set_title('Percentage of Strokes')\n",
    "    \n",
    "\n",
    "plt.tight_layout()\n",
    "plt.show()"
   ]
  },
  {
   "cell_type": "code",
   "execution_count": 19,
   "id": "cc3a3c67-cb17-414a-8577-360de49f4e99",
   "metadata": {},
   "outputs": [
    {
     "name": "stdout",
     "output_type": "stream",
     "text": [
      "stroke\n",
      "0    11365\n",
      "1    11275\n",
      "Name: count, dtype: int64\n",
      "stroke\n",
      "0    11365\n",
      "1    11274\n",
      "Name: count, dtype: int64\n",
      "stroke\n",
      "0    11364\n",
      "1    11275\n",
      "Name: count, dtype: int64\n"
     ]
    },
    {
     "data": {
      "image/png": "[encoded data removed]",
      "text/plain": [
       "<Figure size 1500x500 with 3 Axes>"
      ]
     },
     "metadata": {},
     "output_type": "display_data"
    }
   ],
   "source": [
    "# Create a figure and 5 subplots\n",
    "fig, axs = plt.subplots(1, 3, figsize=(15, 5))\n",
    "\n",
    "# Plotting bar plots on each subplot\n",
    "for i, y_test in zip(range(len(axs)),y_test_set):\n",
    "    print(y_test.value_counts())\n",
    "    values = (y_test.value_counts(normalize=True)*100)\n",
    "    values.plot(kind='bar', color='c', ax=axs[i])\n",
    "    axs[i].set_xlabel('Stroke')\n",
    "    axs[i].set_ylabel('Percentage')\n",
    "    axs[i].set_title('Percentage of Strokes')\n",
    "    \n",
    "\n",
    "plt.tight_layout()\n",
    "plt.show()"
   ]
  },
  {
   "cell_type": "markdown",
   "id": "a7da3526-20b2-4dad-b742-2a782c037ed6",
   "metadata": {},
   "source": [
    "### We can see that the data is imbalance"
   ]
  },
  {
   "cell_type": "markdown",
   "id": "37f6cc1d-e83c-4fe0-a98a-f953a7abf793",
   "metadata": {},
   "source": [
    "Let's use the imbalnced data technique: in this model I use ADASYN"
   ]
  },
  {
   "cell_type": "markdown",
   "id": "a598e2ed-31f0-474c-a873-5b6c752cd6e2",
   "metadata": {},
   "source": [
    "Let's balance the data with normalization"
   ]
  },
  {
   "cell_type": "code",
   "execution_count": 20,
   "id": "0b274299-2938-4886-bb70-624164468dda",
   "metadata": {},
   "outputs": [],
   "source": [
    "# for train_x, train_y, test_x, test_y in zip(x_train_set, y_train_set, x_test_set, y_test_set):\n",
    "#     print(train_y)\n",
    "#     clf = svm.SVC()\n",
    "#     clf.fit(train_x, train_y)\n",
    "#     pred = clf.predict(test_x)\n",
    "#     f_score = f1_score(test_y, pred)\n",
    "#     prec = precision_score(test_y, pred)\n",
    "#     rec = recall_score(test_y, pred)\n",
    "#     print(f'f1: {f_score}')\n",
    "#     print(f'precision: {prec}')\n",
    "#     print(f'recall: {rec}')"
   ]
  },
  {
   "cell_type": "markdown",
   "id": "4173cfed-093f-4bf5-8058-0a4a912a4ad7",
   "metadata": {},
   "source": [
    "# It seems like it doesn't work as we want:)"
   ]
  },
  {
   "cell_type": "markdown",
   "id": "e61e5766-0026-470e-b024-2251073b4da0",
   "metadata": {},
   "source": [
    "Let's try other ways"
   ]
  },
  {
   "cell_type": "code",
   "execution_count": 21,
   "id": "7975c57e-ea54-4c07-a2ea-73fd8ba1be68",
   "metadata": {},
   "outputs": [
    {
     "name": "stdout",
     "output_type": "stream",
     "text": [
      "f1: 0.6652309870788837\n",
      "precision: 0.4983865977102948\n",
      "recall: 1.0\n"
     ]
    }
   ],
   "source": [
    "# for train_x, train_y, test_x, test_y in zip(x_train_set, y_train_set, x_test_set, y_test_set):\n",
    "clf = svm.SVC(class_weight={1:20})\n",
    "clf.fit(x_train_set[0], y_train_set[0])\n",
    "pred = clf.predict(x_test_set[0])\n",
    "f_score = f1_score(y_test_set[0], pred)\n",
    "prec = precision_score(y_test_set[0], pred)\n",
    "rec = recall_score(y_test_set[0], pred)\n",
    "print(f'f1: {f_score}')\n",
    "print(f'precision: {prec}')\n",
    "print(f'recall: {rec}')"
   ]
  },
  {
   "cell_type": "code",
   "execution_count": 22,
   "id": "2b50c076-c27f-4310-a634-978c3612b4c5",
   "metadata": {},
   "outputs": [
    {
     "data": {
      "text/plain": [
       "<Axes: >"
      ]
     },
     "execution_count": 22,
     "metadata": {},
     "output_type": "execute_result"
    },
    {
     "data": {
      "image/png": "[encoded data removed]",
      "text/plain": [
       "<Figure size 640x480 with 2 Axes>"
      ]
     },
     "metadata": {},
     "output_type": "display_data"
    }
   ],
   "source": [
    "cm = confusion_matrix(y_test_set[0], pred)\n",
    "sns.heatmap(cm, annot=True, fmt='d')"
   ]
  },
  {
   "cell_type": "code",
   "execution_count": 23,
   "id": "6a1cf7e7-bb08-434c-b1f9-c7a6d1350abe",
   "metadata": {},
   "outputs": [
    {
     "name": "stdout",
     "output_type": "stream",
     "text": [
      "f1: 0.6652309870788837\n",
      "precision: 0.4983865977102948\n",
      "recall: 1.0\n"
     ]
    }
   ],
   "source": [
    "# for train_x, train_y, test_x, test_y in zip(x_train_set, y_train_set, x_test_set, y_test_set):\n",
    "clf = svm.SVC(class_weight={1:10})\n",
    "clf.fit(x_train_set[0], y_train_set[0])\n",
    "pred = clf.predict(x_test_set[0])\n",
    "f_score = f1_score(y_test_set[0], pred)\n",
    "prec = precision_score(y_test_set[0], pred)\n",
    "rec = recall_score(y_test_set[0], pred)\n",
    "print(f'f1: {f_score}')\n",
    "print(f'precision: {prec}')\n",
    "print(f'recall: {rec}')"
   ]
  },
  {
   "cell_type": "code",
   "execution_count": 24,
   "id": "55a5b240-d0de-46fa-9f5a-742701c30a9b",
   "metadata": {},
   "outputs": [
    {
     "data": {
      "text/plain": [
       "<Axes: >"
      ]
     },
     "execution_count": 24,
     "metadata": {},
     "output_type": "execute_result"
    },
    {
     "data": {
      "image/png": "[encoded data removed]",
      "text/plain": [
       "<Figure size 640x480 with 2 Axes>"
      ]
     },
     "metadata": {},
     "output_type": "display_data"
    }
   ],
   "source": [
    "cm = confusion_matrix(y_test_set[0], pred)\n",
    "sns.heatmap(cm, annot=True, fmt='d')"
   ]
  },
  {
   "cell_type": "code",
   "execution_count": null,
   "id": "293d36a8-6ef5-48a5-80eb-9ba3ba82a86e",
   "metadata": {},
   "outputs": [],
   "source": []
  }
 ],
 "metadata": {
  "kernelspec": {
   "display_name": "Python 3 (ipykernel)",
   "language": "python",
   "name": "python3"
  },
  "language_info": {
   "codemirror_mode": {
    "name": "ipython",
    "version": 3
   },
   "file_extension": ".py",
   "mimetype": "text/x-python",
   "name": "python",
   "nbconvert_exporter": "python",
   "pygments_lexer": "ipython3",
   "version": "3.11.4"
  }
 },
 "nbformat": 4,
 "nbformat_minor": 5
}
