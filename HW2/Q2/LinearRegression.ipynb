{
 "cells": [
  {
   "cell_type": "code",
   "execution_count": 100,
   "id": "7cf979ac-948c-4b32-800f-f240fa6a4c53",
   "metadata": {},
   "outputs": [],
   "source": [
    "import numpy as np\n",
    "\n",
    "class LinearRegression:\n",
    "    def __init__(self, learning_rate=0.01, n_iterations=1000):\n",
    "        self.learning_rate = learning_rate\n",
    "        self.n_iterations = n_iterations\n",
    "        self.weights = None\n",
    "        self.bias = None\n",
    "\n",
    "    def fit(self, X, y):\n",
    "        N = X.shape[0]\n",
    "        n_features = X.shape[1]\n",
    "        self.weights = np.zeros(n_features)\n",
    "        self.bias = 0\n",
    "        \n",
    "        for itr in range(self.n_iterations):\n",
    "            y_pred = np.dot(X, self.weights) + self.bias\n",
    "\n",
    "            self.weights -= self.learning_rate * (1 / N) * np.dot(X.T, (y_pred - y))\n",
    "            self.bias -= self.learning_rate * (1 / N) * np.sum(y_pred - y)\n",
    "\n",
    "    def predict(self, X):\n",
    "        return np.dot(X, self.weights) + self.bias\n"
   ]
  },
  {
   "cell_type": "code",
   "execution_count": 101,
   "id": "80594ae8-4c2c-4586-b059-7a574a221251",
   "metadata": {},
   "outputs": [],
   "source": [
    "import numpy as np\n",
    "\n",
    "class PolynomialRegression:\n",
    "    def __init__(self, degree=1, learning_rate=0.01, n_iterations=1000):\n",
    "        self.degree = degree\n",
    "        self.learning_rate = learning_rate\n",
    "        self.n_iterations = n_iterations\n",
    "        self.weights = None\n",
    "        self.bias = None\n",
    "\n",
    "    def phi(self, x) :\n",
    "        print(f'x shape is {x.shape}')\n",
    "        X = np.ones(( x.shape[0], 1 ))\n",
    "        print(X.shape)\n",
    "         \n",
    "        for d in range(1, self.degree + 1):\n",
    "            x_power = np.power(x, d)\n",
    "            print(x_power.shape)\n",
    "            X = np.append(X , x_power, axis = 1 )\n",
    "        return X \n",
    "\n",
    "    def fit(self, X, y):\n",
    "        N = X.shape[0]\n",
    "        X = self.phi(X)\n",
    "        \n",
    "        self.weights = np.zeros(X.shape[1])\n",
    "        self.bias = 0\n",
    "        \n",
    "        for itr in range(self.n_iterations):\n",
    "            y_pred = np.dot(X, self.weights) + self.bias\n",
    "            self.weights -= self.learning_rate * (1 / N) * np.dot(X.T, (y_pred - y))\n",
    "            self.bias -= self.learning_rate *(1 / N) * np.sum(y_pred - y)\n",
    "\n",
    "    def predict(self, X):\n",
    "        X = self.phi(X)\n",
    "        return np.dot(X, self.weights) + self.bias\n"
   ]
  },
  {
   "cell_type": "code",
   "execution_count": null,
   "id": "a1509c5a-a6b3-4314-b402-3e22606463bf",
   "metadata": {},
   "outputs": [],
   "source": []
  }
 ],
 "metadata": {
  "kernelspec": {
   "display_name": "Python 3 (ipykernel)",
   "language": "python",
   "name": "python3"
  },
  "language_info": {
   "codemirror_mode": {
    "name": "ipython",
    "version": 3
   },
   "file_extension": ".py",
   "mimetype": "text/x-python",
   "name": "python",
   "nbconvert_exporter": "python",
   "pygments_lexer": "ipython3",
   "version": "3.11.4"
  }
 },
 "nbformat": 4,
 "nbformat_minor": 5
}
