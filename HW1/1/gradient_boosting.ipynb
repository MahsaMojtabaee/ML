{
 "cells": [
  {
   "cell_type": "code",
   "execution_count": 1,
   "id": "af4144e0-880c-4682-9404-48ed96624d8f",
   "metadata": {},
   "outputs": [],
   "source": [
    "import numpy as np\n",
    "import pandas as pd\n",
    "import seaborn as sns\n",
    "import matplotlib.pyplot as plt\n",
    "from sklearn.ensemble import GradientBoostingClassifier\n",
    "from sklearn.metrics import accuracy_score\n",
    "from sklearn.preprocessing import Normalizer\n",
    "from sklearn.model_selection import train_test_split, LearningCurveDisplay, GridSearchCV"
   ]
  },
  {
   "cell_type": "code",
   "execution_count": 2,
   "id": "20b633eb-7222-4892-b5d0-55dc5f13411d",
   "metadata": {},
   "outputs": [],
   "source": [
    "X = pd.DataFrame(np.load('data/x.npy'))\n",
    "Y = pd.DataFrame(np.load('data/y.npy'))"
   ]
  },
  {
   "cell_type": "code",
   "execution_count": 3,
   "id": "c98238bd-4642-4a31-91fb-9ac589ed91b1",
   "metadata": {},
   "outputs": [],
   "source": [
    "df = pd.concat([X, Y.rename(columns={0:40})],axis=1)"
   ]
  },
  {
   "cell_type": "code",
   "execution_count": 4,
   "id": "4b6e3e7d-f5ce-4a1e-94a5-91e05490de36",
   "metadata": {},
   "outputs": [],
   "source": [
    "transformed = Normalizer().fit_transform(X)"
   ]
  },
  {
   "cell_type": "code",
   "execution_count": 5,
   "id": "0fa44186-6090-4ba2-971c-b461ffef6248",
   "metadata": {},
   "outputs": [
    {
     "data": {
      "text/html": [
       "<div>\n",
       "<style scoped>\n",
       "    .dataframe tbody tr th:only-of-type {\n",
       "        vertical-align: middle;\n",
       "    }\n",
       "\n",
       "    .dataframe tbody tr th {\n",
       "        vertical-align: top;\n",
       "    }\n",
       "\n",
       "    .dataframe thead th {\n",
       "        text-align: right;\n",
       "    }\n",
       "</style>\n",
       "<table border=\"1\" class=\"dataframe\">\n",
       "  <thead>\n",
       "    <tr style=\"text-align: right;\">\n",
       "      <th></th>\n",
       "      <th>0</th>\n",
       "      <th>1</th>\n",
       "      <th>2</th>\n",
       "      <th>3</th>\n",
       "      <th>4</th>\n",
       "      <th>5</th>\n",
       "      <th>6</th>\n",
       "      <th>7</th>\n",
       "      <th>8</th>\n",
       "      <th>9</th>\n",
       "      <th>...</th>\n",
       "      <th>30</th>\n",
       "      <th>31</th>\n",
       "      <th>32</th>\n",
       "      <th>33</th>\n",
       "      <th>34</th>\n",
       "      <th>35</th>\n",
       "      <th>36</th>\n",
       "      <th>37</th>\n",
       "      <th>38</th>\n",
       "      <th>39</th>\n",
       "    </tr>\n",
       "  </thead>\n",
       "  <tbody>\n",
       "    <tr>\n",
       "      <th>count</th>\n",
       "      <td>4500.000000</td>\n",
       "      <td>4500.000000</td>\n",
       "      <td>4500.000000</td>\n",
       "      <td>4500.000000</td>\n",
       "      <td>4500.000000</td>\n",
       "      <td>4500.000000</td>\n",
       "      <td>4500.000000</td>\n",
       "      <td>4500.000000</td>\n",
       "      <td>4500.000000</td>\n",
       "      <td>4500.000000</td>\n",
       "      <td>...</td>\n",
       "      <td>4500.000000</td>\n",
       "      <td>4500.000000</td>\n",
       "      <td>4500.000000</td>\n",
       "      <td>4500.000000</td>\n",
       "      <td>4500.000000</td>\n",
       "      <td>4500.000000</td>\n",
       "      <td>4500.000000</td>\n",
       "      <td>4500.000000</td>\n",
       "      <td>4500.000000</td>\n",
       "      <td>4500.000000</td>\n",
       "    </tr>\n",
       "    <tr>\n",
       "      <th>mean</th>\n",
       "      <td>0.003104</td>\n",
       "      <td>0.000910</td>\n",
       "      <td>0.001950</td>\n",
       "      <td>0.000144</td>\n",
       "      <td>0.001870</td>\n",
       "      <td>-0.002856</td>\n",
       "      <td>0.001395</td>\n",
       "      <td>-0.002114</td>\n",
       "      <td>-0.003110</td>\n",
       "      <td>-0.000050</td>\n",
       "      <td>...</td>\n",
       "      <td>-0.004571</td>\n",
       "      <td>-0.001844</td>\n",
       "      <td>-0.002339</td>\n",
       "      <td>-0.002017</td>\n",
       "      <td>-0.001669</td>\n",
       "      <td>0.002767</td>\n",
       "      <td>-0.001359</td>\n",
       "      <td>0.002146</td>\n",
       "      <td>0.000004</td>\n",
       "      <td>0.001218</td>\n",
       "    </tr>\n",
       "    <tr>\n",
       "      <th>std</th>\n",
       "      <td>0.141634</td>\n",
       "      <td>0.140391</td>\n",
       "      <td>0.139349</td>\n",
       "      <td>0.139923</td>\n",
       "      <td>0.136298</td>\n",
       "      <td>0.140584</td>\n",
       "      <td>0.137884</td>\n",
       "      <td>0.194735</td>\n",
       "      <td>0.138142</td>\n",
       "      <td>0.141277</td>\n",
       "      <td>...</td>\n",
       "      <td>0.287740</td>\n",
       "      <td>0.141490</td>\n",
       "      <td>0.195492</td>\n",
       "      <td>0.139476</td>\n",
       "      <td>0.136653</td>\n",
       "      <td>0.137378</td>\n",
       "      <td>0.139420</td>\n",
       "      <td>0.139376</td>\n",
       "      <td>0.203480</td>\n",
       "      <td>0.137025</td>\n",
       "    </tr>\n",
       "    <tr>\n",
       "      <th>min</th>\n",
       "      <td>-0.514003</td>\n",
       "      <td>-0.457719</td>\n",
       "      <td>-0.590469</td>\n",
       "      <td>-0.521952</td>\n",
       "      <td>-0.518842</td>\n",
       "      <td>-0.553483</td>\n",
       "      <td>-0.512896</td>\n",
       "      <td>-0.460932</td>\n",
       "      <td>-0.542156</td>\n",
       "      <td>-0.510916</td>\n",
       "      <td>...</td>\n",
       "      <td>-0.659970</td>\n",
       "      <td>-0.464278</td>\n",
       "      <td>-0.456229</td>\n",
       "      <td>-0.539454</td>\n",
       "      <td>-0.568619</td>\n",
       "      <td>-0.475485</td>\n",
       "      <td>-0.585731</td>\n",
       "      <td>-0.443852</td>\n",
       "      <td>-0.589192</td>\n",
       "      <td>-0.482510</td>\n",
       "    </tr>\n",
       "    <tr>\n",
       "      <th>25%</th>\n",
       "      <td>-0.089578</td>\n",
       "      <td>-0.092807</td>\n",
       "      <td>-0.089632</td>\n",
       "      <td>-0.096201</td>\n",
       "      <td>-0.088810</td>\n",
       "      <td>-0.095145</td>\n",
       "      <td>-0.088947</td>\n",
       "      <td>-0.154208</td>\n",
       "      <td>-0.094391</td>\n",
       "      <td>-0.095363</td>\n",
       "      <td>...</td>\n",
       "      <td>-0.213879</td>\n",
       "      <td>-0.096259</td>\n",
       "      <td>-0.160951</td>\n",
       "      <td>-0.092280</td>\n",
       "      <td>-0.090964</td>\n",
       "      <td>-0.087920</td>\n",
       "      <td>-0.093424</td>\n",
       "      <td>-0.093637</td>\n",
       "      <td>-0.157390</td>\n",
       "      <td>-0.089683</td>\n",
       "    </tr>\n",
       "    <tr>\n",
       "      <th>50%</th>\n",
       "      <td>-0.000313</td>\n",
       "      <td>0.000552</td>\n",
       "      <td>-0.000165</td>\n",
       "      <td>0.001042</td>\n",
       "      <td>-0.000477</td>\n",
       "      <td>-0.002528</td>\n",
       "      <td>-0.001287</td>\n",
       "      <td>-0.027163</td>\n",
       "      <td>-0.004106</td>\n",
       "      <td>0.002258</td>\n",
       "      <td>...</td>\n",
       "      <td>-0.006810</td>\n",
       "      <td>-0.004346</td>\n",
       "      <td>-0.007623</td>\n",
       "      <td>0.000469</td>\n",
       "      <td>-0.002696</td>\n",
       "      <td>-0.001128</td>\n",
       "      <td>-0.001714</td>\n",
       "      <td>0.002927</td>\n",
       "      <td>0.004939</td>\n",
       "      <td>0.000290</td>\n",
       "    </tr>\n",
       "    <tr>\n",
       "      <th>75%</th>\n",
       "      <td>0.097359</td>\n",
       "      <td>0.093517</td>\n",
       "      <td>0.095193</td>\n",
       "      <td>0.095175</td>\n",
       "      <td>0.092563</td>\n",
       "      <td>0.093232</td>\n",
       "      <td>0.093485</td>\n",
       "      <td>0.151020</td>\n",
       "      <td>0.089798</td>\n",
       "      <td>0.093049</td>\n",
       "      <td>...</td>\n",
       "      <td>0.205372</td>\n",
       "      <td>0.092453</td>\n",
       "      <td>0.156039</td>\n",
       "      <td>0.092468</td>\n",
       "      <td>0.089342</td>\n",
       "      <td>0.092820</td>\n",
       "      <td>0.092627</td>\n",
       "      <td>0.097086</td>\n",
       "      <td>0.161613</td>\n",
       "      <td>0.092211</td>\n",
       "    </tr>\n",
       "    <tr>\n",
       "      <th>max</th>\n",
       "      <td>0.477971</td>\n",
       "      <td>0.504343</td>\n",
       "      <td>0.515191</td>\n",
       "      <td>0.447403</td>\n",
       "      <td>0.565184</td>\n",
       "      <td>0.466296</td>\n",
       "      <td>0.537455</td>\n",
       "      <td>0.490715</td>\n",
       "      <td>0.489998</td>\n",
       "      <td>0.528857</td>\n",
       "      <td>...</td>\n",
       "      <td>0.724064</td>\n",
       "      <td>0.466402</td>\n",
       "      <td>0.476738</td>\n",
       "      <td>0.502947</td>\n",
       "      <td>0.479160</td>\n",
       "      <td>0.486511</td>\n",
       "      <td>0.497175</td>\n",
       "      <td>0.550092</td>\n",
       "      <td>0.481511</td>\n",
       "      <td>0.474479</td>\n",
       "    </tr>\n",
       "  </tbody>\n",
       "</table>\n",
       "<p>8 rows × 40 columns</p>\n",
       "</div>"
      ],
      "text/plain": [
       "                0            1            2            3            4   \\\n",
       "count  4500.000000  4500.000000  4500.000000  4500.000000  4500.000000   \n",
       "mean      0.003104     0.000910     0.001950     0.000144     0.001870   \n",
       "std       0.141634     0.140391     0.139349     0.139923     0.136298   \n",
       "min      -0.514003    -0.457719    -0.590469    -0.521952    -0.518842   \n",
       "25%      -0.089578    -0.092807    -0.089632    -0.096201    -0.088810   \n",
       "50%      -0.000313     0.000552    -0.000165     0.001042    -0.000477   \n",
       "75%       0.097359     0.093517     0.095193     0.095175     0.092563   \n",
       "max       0.477971     0.504343     0.515191     0.447403     0.565184   \n",
       "\n",
       "                5            6            7            8            9   ...  \\\n",
       "count  4500.000000  4500.000000  4500.000000  4500.000000  4500.000000  ...   \n",
       "mean     -0.002856     0.001395    -0.002114    -0.003110    -0.000050  ...   \n",
       "std       0.140584     0.137884     0.194735     0.138142     0.141277  ...   \n",
       "min      -0.553483    -0.512896    -0.460932    -0.542156    -0.510916  ...   \n",
       "25%      -0.095145    -0.088947    -0.154208    -0.094391    -0.095363  ...   \n",
       "50%      -0.002528    -0.001287    -0.027163    -0.004106     0.002258  ...   \n",
       "75%       0.093232     0.093485     0.151020     0.089798     0.093049  ...   \n",
       "max       0.466296     0.537455     0.490715     0.489998     0.528857  ...   \n",
       "\n",
       "                30           31           32           33           34  \\\n",
       "count  4500.000000  4500.000000  4500.000000  4500.000000  4500.000000   \n",
       "mean     -0.004571    -0.001844    -0.002339    -0.002017    -0.001669   \n",
       "std       0.287740     0.141490     0.195492     0.139476     0.136653   \n",
       "min      -0.659970    -0.464278    -0.456229    -0.539454    -0.568619   \n",
       "25%      -0.213879    -0.096259    -0.160951    -0.092280    -0.090964   \n",
       "50%      -0.006810    -0.004346    -0.007623     0.000469    -0.002696   \n",
       "75%       0.205372     0.092453     0.156039     0.092468     0.089342   \n",
       "max       0.724064     0.466402     0.476738     0.502947     0.479160   \n",
       "\n",
       "                35           36           37           38           39  \n",
       "count  4500.000000  4500.000000  4500.000000  4500.000000  4500.000000  \n",
       "mean      0.002767    -0.001359     0.002146     0.000004     0.001218  \n",
       "std       0.137378     0.139420     0.139376     0.203480     0.137025  \n",
       "min      -0.475485    -0.585731    -0.443852    -0.589192    -0.482510  \n",
       "25%      -0.087920    -0.093424    -0.093637    -0.157390    -0.089683  \n",
       "50%      -0.001128    -0.001714     0.002927     0.004939     0.000290  \n",
       "75%       0.092820     0.092627     0.097086     0.161613     0.092211  \n",
       "max       0.486511     0.497175     0.550092     0.481511     0.474479  \n",
       "\n",
       "[8 rows x 40 columns]"
      ]
     },
     "execution_count": 5,
     "metadata": {},
     "output_type": "execute_result"
    }
   ],
   "source": [
    "features = pd.DataFrame(transformed)\n",
    "features.describe()"
   ]
  },
  {
   "cell_type": "code",
   "execution_count": 6,
   "id": "5aaad9b7-cd91-49e4-abe5-2db2b142f125",
   "metadata": {},
   "outputs": [
    {
     "data": {
      "text/plain": [
       "2    1129\n",
       "1    1124\n",
       "3    1124\n",
       "0    1123\n",
       "Name: count, dtype: int64"
      ]
     },
     "execution_count": 6,
     "metadata": {},
     "output_type": "execute_result"
    }
   ],
   "source": [
    "Y.value_counts()"
   ]
  },
  {
   "cell_type": "code",
   "execution_count": 7,
   "id": "cc503b92-382f-4cc0-9538-1675dee2fa06",
   "metadata": {},
   "outputs": [],
   "source": [
    "target = Y.replace({0:'ClassA', 1:'ClassB', 2:'ClassC', 3:'ClassD'})"
   ]
  },
  {
   "cell_type": "code",
   "execution_count": 8,
   "id": "19c52ab1-50cd-4bd7-9d4e-fd5545437437",
   "metadata": {},
   "outputs": [],
   "source": [
    "x_train, x_temp, y_train, y_temp = train_test_split(features, target, test_size=.4, random_state=0)\n",
    "x_val, x_test, y_val, y_test = train_test_split(features, target, test_size=.5, random_state=0)"
   ]
  },
  {
   "cell_type": "code",
   "execution_count": 9,
   "id": "b623cd63-a610-41af-83f4-e419a604dade",
   "metadata": {},
   "outputs": [],
   "source": [
    "clf = GradientBoostingClassifier()"
   ]
  },
  {
   "cell_type": "code",
   "execution_count": 10,
   "id": "3bf39295-24bf-4e45-819b-02a2c2a57c2b",
   "metadata": {},
   "outputs": [
    {
     "name": "stderr",
     "output_type": "stream",
     "text": [
      "C:\\Users\\mojta\\AppData\\Local\\Programs\\Python\\Python311\\Lib\\site-packages\\sklearn\\ensemble\\_gb.py:424: DataConversionWarning: A column-vector y was passed when a 1d array was expected. Please change the shape of y to (n_samples, ), for example using ravel().\n",
      "  y = column_or_1d(y, warn=True)\n"
     ]
    },
    {
     "data": {
      "text/html": [
       "<style>#sk-container-id-1 {color: black;}#sk-container-id-1 pre{padding: 0;}#sk-container-id-1 div.sk-toggleable {background-color: white;}#sk-container-id-1 label.sk-toggleable__label {cursor: pointer;display: block;width: 100%;margin-bottom: 0;padding: 0.3em;box-sizing: border-box;text-align: center;}#sk-container-id-1 label.sk-toggleable__label-arrow:before {content: \"▸\";float: left;margin-right: 0.25em;color: #696969;}#sk-container-id-1 label.sk-toggleable__label-arrow:hover:before {color: black;}#sk-container-id-1 div.sk-estimator:hover label.sk-toggleable__label-arrow:before {color: black;}#sk-container-id-1 div.sk-toggleable__content {max-height: 0;max-width: 0;overflow: hidden;text-align: left;background-color: #f0f8ff;}#sk-container-id-1 div.sk-toggleable__content pre {margin: 0.2em;color: black;border-radius: 0.25em;background-color: #f0f8ff;}#sk-container-id-1 input.sk-toggleable__control:checked~div.sk-toggleable__content {max-height: 200px;max-width: 100%;overflow: auto;}#sk-container-id-1 input.sk-toggleable__control:checked~label.sk-toggleable__label-arrow:before {content: \"▾\";}#sk-container-id-1 div.sk-estimator input.sk-toggleable__control:checked~label.sk-toggleable__label {background-color: #d4ebff;}#sk-container-id-1 div.sk-label input.sk-toggleable__control:checked~label.sk-toggleable__label {background-color: #d4ebff;}#sk-container-id-1 input.sk-hidden--visually {border: 0;clip: rect(1px 1px 1px 1px);clip: rect(1px, 1px, 1px, 1px);height: 1px;margin: -1px;overflow: hidden;padding: 0;position: absolute;width: 1px;}#sk-container-id-1 div.sk-estimator {font-family: monospace;background-color: #f0f8ff;border: 1px dotted black;border-radius: 0.25em;box-sizing: border-box;margin-bottom: 0.5em;}#sk-container-id-1 div.sk-estimator:hover {background-color: #d4ebff;}#sk-container-id-1 div.sk-parallel-item::after {content: \"\";width: 100%;border-bottom: 1px solid gray;flex-grow: 1;}#sk-container-id-1 div.sk-label:hover label.sk-toggleable__label {background-color: #d4ebff;}#sk-container-id-1 div.sk-serial::before {content: \"\";position: absolute;border-left: 1px solid gray;box-sizing: border-box;top: 0;bottom: 0;left: 50%;z-index: 0;}#sk-container-id-1 div.sk-serial {display: flex;flex-direction: column;align-items: center;background-color: white;padding-right: 0.2em;padding-left: 0.2em;position: relative;}#sk-container-id-1 div.sk-item {position: relative;z-index: 1;}#sk-container-id-1 div.sk-parallel {display: flex;align-items: stretch;justify-content: center;background-color: white;position: relative;}#sk-container-id-1 div.sk-item::before, #sk-container-id-1 div.sk-parallel-item::before {content: \"\";position: absolute;border-left: 1px solid gray;box-sizing: border-box;top: 0;bottom: 0;left: 50%;z-index: -1;}#sk-container-id-1 div.sk-parallel-item {display: flex;flex-direction: column;z-index: 1;position: relative;background-color: white;}#sk-container-id-1 div.sk-parallel-item:first-child::after {align-self: flex-end;width: 50%;}#sk-container-id-1 div.sk-parallel-item:last-child::after {align-self: flex-start;width: 50%;}#sk-container-id-1 div.sk-parallel-item:only-child::after {width: 0;}#sk-container-id-1 div.sk-dashed-wrapped {border: 1px dashed gray;margin: 0 0.4em 0.5em 0.4em;box-sizing: border-box;padding-bottom: 0.4em;background-color: white;}#sk-container-id-1 div.sk-label label {font-family: monospace;font-weight: bold;display: inline-block;line-height: 1.2em;}#sk-container-id-1 div.sk-label-container {text-align: center;}#sk-container-id-1 div.sk-container {/* jupyter's `normalize.less` sets `[hidden] { display: none; }` but bootstrap.min.css set `[hidden] { display: none !important; }` so we also need the `!important` here to be able to override the default hidden behavior on the sphinx rendered scikit-learn.org. See: https://github.com/scikit-learn/scikit-learn/issues/21755 */display: inline-block !important;position: relative;}#sk-container-id-1 div.sk-text-repr-fallback {display: none;}</style><div id=\"sk-container-id-1\" class=\"sk-top-container\"><div class=\"sk-text-repr-fallback\"><pre>GradientBoostingClassifier()</pre><b>In a Jupyter environment, please rerun this cell to show the HTML representation or trust the notebook. <br />On GitHub, the HTML representation is unable to render, please try loading this page with nbviewer.org.</b></div><div class=\"sk-container\" hidden><div class=\"sk-item\"><div class=\"sk-estimator sk-toggleable\"><input class=\"sk-toggleable__control sk-hidden--visually\" id=\"sk-estimator-id-1\" type=\"checkbox\" checked><label for=\"sk-estimator-id-1\" class=\"sk-toggleable__label sk-toggleable__label-arrow\">GradientBoostingClassifier</label><div class=\"sk-toggleable__content\"><pre>GradientBoostingClassifier()</pre></div></div></div></div></div>"
      ],
      "text/plain": [
       "GradientBoostingClassifier()"
      ]
     },
     "execution_count": 10,
     "metadata": {},
     "output_type": "execute_result"
    }
   ],
   "source": [
    "clf.fit(x_train, y_train)"
   ]
  },
  {
   "cell_type": "code",
   "execution_count": 11,
   "id": "803880d0-5eff-4d10-a842-4b6433b2a6ec",
   "metadata": {},
   "outputs": [
    {
     "data": {
      "text/plain": [
       "0.8631111111111112"
      ]
     },
     "execution_count": 11,
     "metadata": {},
     "output_type": "execute_result"
    }
   ],
   "source": [
    "clf.score(x_val, y_val)"
   ]
  },
  {
   "cell_type": "markdown",
   "id": "16bd7b72-5437-4885-a87f-7544d2f3e475",
   "metadata": {},
   "source": [
    "## learning rate"
   ]
  },
  {
   "cell_type": "code",
   "execution_count": 15,
   "id": "a04762d4-76a6-44b7-ae26-a3ad5aebf085",
   "metadata": {},
   "outputs": [
    {
     "name": "stderr",
     "output_type": "stream",
     "text": [
      "C:\\Users\\mojta\\AppData\\Local\\Programs\\Python\\Python311\\Lib\\site-packages\\sklearn\\ensemble\\_gb.py:424: DataConversionWarning: A column-vector y was passed when a 1d array was expected. Please change the shape of y to (n_samples, ), for example using ravel().\n",
      "  y = column_or_1d(y, warn=True)\n",
      "C:\\Users\\mojta\\AppData\\Local\\Programs\\Python\\Python311\\Lib\\site-packages\\sklearn\\ensemble\\_gb.py:424: DataConversionWarning: A column-vector y was passed when a 1d array was expected. Please change the shape of y to (n_samples, ), for example using ravel().\n",
      "  y = column_or_1d(y, warn=True)\n",
      "C:\\Users\\mojta\\AppData\\Local\\Programs\\Python\\Python311\\Lib\\site-packages\\sklearn\\ensemble\\_gb.py:424: DataConversionWarning: A column-vector y was passed when a 1d array was expected. Please change the shape of y to (n_samples, ), for example using ravel().\n",
      "  y = column_or_1d(y, warn=True)\n",
      "C:\\Users\\mojta\\AppData\\Local\\Programs\\Python\\Python311\\Lib\\site-packages\\sklearn\\ensemble\\_gb.py:424: DataConversionWarning: A column-vector y was passed when a 1d array was expected. Please change the shape of y to (n_samples, ), for example using ravel().\n",
      "  y = column_or_1d(y, warn=True)\n",
      "C:\\Users\\mojta\\AppData\\Local\\Programs\\Python\\Python311\\Lib\\site-packages\\sklearn\\ensemble\\_gb.py:424: DataConversionWarning: A column-vector y was passed when a 1d array was expected. Please change the shape of y to (n_samples, ), for example using ravel().\n",
      "  y = column_or_1d(y, warn=True)\n"
     ]
    }
   ],
   "source": [
    "lrs = [0.01, 0.05, 0.1, 0.5, 1.0]\n",
    "accuracy_rate = []\n",
    "for i in lrs:\n",
    "    clf = GradientBoostingClassifier(learning_rate = i)\n",
    "    clf.fit(x_train, y_train)\n",
    "    accuracy_rate.append(clf.score(x_val, y_val))"
   ]
  },
  {
   "cell_type": "code",
   "execution_count": 16,
   "id": "618629b7-9eaf-43ea-b25a-6f44a8bcc42e",
   "metadata": {},
   "outputs": [
    {
     "data": {
      "text/plain": [
       "[<matplotlib.lines.Line2D at 0x231ee93a810>]"
      ]
     },
     "execution_count": 16,
     "metadata": {},
     "output_type": "execute_result"
    },
    {
     "data": {
      "image/png": "[encoded data removed]",
      "text/plain": [
       "<Figure size 640x480 with 1 Axes>"
      ]
     },
     "metadata": {},
     "output_type": "display_data"
    }
   ],
   "source": [
    "plt.plot(lrs,accuracy_rate, marker='o')"
   ]
  },
  {
   "cell_type": "markdown",
   "id": "f145d9c2-9a44-499d-9cf2-85de4bfe6186",
   "metadata": {},
   "source": [
    "## \"n_estimators"
   ]
  },
  {
   "cell_type": "code",
   "execution_count": 22,
   "id": "a976d8e1-f6e9-44c2-9560-f0afb32a6f78",
   "metadata": {},
   "outputs": [
    {
     "name": "stderr",
     "output_type": "stream",
     "text": [
      "C:\\Users\\mojta\\AppData\\Local\\Programs\\Python\\Python311\\Lib\\site-packages\\sklearn\\ensemble\\_gb.py:424: DataConversionWarning: A column-vector y was passed when a 1d array was expected. Please change the shape of y to (n_samples, ), for example using ravel().\n",
      "  y = column_or_1d(y, warn=True)\n",
      "C:\\Users\\mojta\\AppData\\Local\\Programs\\Python\\Python311\\Lib\\site-packages\\sklearn\\ensemble\\_gb.py:424: DataConversionWarning: A column-vector y was passed when a 1d array was expected. Please change the shape of y to (n_samples, ), for example using ravel().\n",
      "  y = column_or_1d(y, warn=True)\n",
      "C:\\Users\\mojta\\AppData\\Local\\Programs\\Python\\Python311\\Lib\\site-packages\\sklearn\\ensemble\\_gb.py:424: DataConversionWarning: A column-vector y was passed when a 1d array was expected. Please change the shape of y to (n_samples, ), for example using ravel().\n",
      "  y = column_or_1d(y, warn=True)\n",
      "C:\\Users\\mojta\\AppData\\Local\\Programs\\Python\\Python311\\Lib\\site-packages\\sklearn\\ensemble\\_gb.py:424: DataConversionWarning: A column-vector y was passed when a 1d array was expected. Please change the shape of y to (n_samples, ), for example using ravel().\n",
      "  y = column_or_1d(y, warn=True)\n",
      "C:\\Users\\mojta\\AppData\\Local\\Programs\\Python\\Python311\\Lib\\site-packages\\sklearn\\ensemble\\_gb.py:424: DataConversionWarning: A column-vector y was passed when a 1d array was expected. Please change the shape of y to (n_samples, ), for example using ravel().\n",
      "  y = column_or_1d(y, warn=True)\n",
      "C:\\Users\\mojta\\AppData\\Local\\Programs\\Python\\Python311\\Lib\\site-packages\\sklearn\\ensemble\\_gb.py:424: DataConversionWarning: A column-vector y was passed when a 1d array was expected. Please change the shape of y to (n_samples, ), for example using ravel().\n",
      "  y = column_or_1d(y, warn=True)\n"
     ]
    }
   ],
   "source": [
    "n_estimators = [32, 64, 100, 200, 300, 400]\n",
    "accuracy_rate = []\n",
    "for i in n_estimators:\n",
    "    clf = GradientBoostingClassifier(n_estimators = i)\n",
    "    clf.fit(x_train, y_train)\n",
    "    accuracy_rate.append(clf.score(x_val, y_val))"
   ]
  },
  {
   "cell_type": "code",
   "execution_count": 23,
   "id": "9adab86e-e448-4098-8bf7-74772603307d",
   "metadata": {},
   "outputs": [
    {
     "data": {
      "text/plain": [
       "[<matplotlib.lines.Line2D at 0x231f32f2990>]"
      ]
     },
     "execution_count": 23,
     "metadata": {},
     "output_type": "execute_result"
    },
    {
     "data": {
      "image/png": "[encoded data removed]",
      "text/plain": [
       "<Figure size 640x480 with 1 Axes>"
      ]
     },
     "metadata": {},
     "output_type": "display_data"
    }
   ],
   "source": [
    "plt.plot(n_estimators,accuracy_rate, marker='o')"
   ]
  },
  {
   "cell_type": "markdown",
   "id": "f4f7bb35-9a59-4f44-9b00-6a4a5a49f6f0",
   "metadata": {},
   "source": [
    "# learning curve"
   ]
  },
  {
   "cell_type": "code",
   "execution_count": 28,
   "id": "b980f959-88dd-44e5-bf35-dc95e1405137",
   "metadata": {},
   "outputs": [],
   "source": [
    "clf = GradientBoostingClassifier()\n",
    "params = {\n",
    "    \"X\": features,\n",
    "    \"y\": target,\n",
    "    \"train_sizes\": [.25, .5, .75, 1],\n",
    "    \"cv\": 5,\n",
    "    \"score_type\": \"both\",\n",
    "    \"n_jobs\": 4,\n",
    "    \"line_kw\": {\"marker\": \"o\"},\n",
    "    \"std_display_style\": \"fill_between\",\n",
    "    \"score_name\": \"Accuracy\",\n",
    "}"
   ]
  },
  {
   "cell_type": "code",
   "execution_count": 29,
   "id": "9b4fb005-094a-4849-a184-28ac77da49bf",
   "metadata": {},
   "outputs": [
    {
     "data": {
      "text/plain": [
       "<sklearn.model_selection._plot.LearningCurveDisplay at 0x231f0807410>"
      ]
     },
     "execution_count": 29,
     "metadata": {},
     "output_type": "execute_result"
    },
    {
     "data": {
      "image/png": "[encoded data removed]",
      "text/plain": [
       "<Figure size 640x480 with 1 Axes>"
      ]
     },
     "metadata": {},
     "output_type": "display_data"
    }
   ],
   "source": [
    "LearningCurveDisplay.from_estimator(clf, **params)"
   ]
  },
  {
   "cell_type": "markdown",
   "id": "9c995b20-51e7-4620-8141-c5f0f36eb48f",
   "metadata": {},
   "source": [
    "کاهش دقت در داده آموزشی در عین افزایش در داده تست نشان‌ می‌دهد که مدل از اوفیت جلوگیری می‌کند و پترن داده را به صورت جنرال و کلی مدل می‌کند"
   ]
  },
  {
   "cell_type": "code",
   "execution_count": 31,
   "id": "f1577341-4014-4409-a672-78e4c4a4c807",
   "metadata": {},
   "outputs": [
    {
     "name": "stderr",
     "output_type": "stream",
     "text": [
      "C:\\Users\\mojta\\AppData\\Local\\Programs\\Python\\Python311\\Lib\\site-packages\\sklearn\\ensemble\\_gb.py:424: DataConversionWarning: A column-vector y was passed when a 1d array was expected. Please change the shape of y to (n_samples, ), for example using ravel().\n",
      "  y = column_or_1d(y, warn=True)\n"
     ]
    },
    {
     "data": {
      "text/plain": [
       "0.7657777777777778"
      ]
     },
     "execution_count": 31,
     "metadata": {},
     "output_type": "execute_result"
    }
   ],
   "source": [
    "clf = GradientBoostingClassifier(learning_rate=0.5, n_estimators=400)\n",
    "clf.fit(x_train, y_train)\n",
    "pred = clf.predict(x_test)\n",
    "accuracy_score(y_test, pred)"
   ]
  },
  {
   "cell_type": "code",
   "execution_count": null,
   "id": "27468d93-8068-433b-9783-23dac06c02de",
   "metadata": {},
   "outputs": [],
   "source": []
  }
 ],
 "metadata": {
  "kernelspec": {
   "display_name": "Python 3 (ipykernel)",
   "language": "python",
   "name": "python3"
  },
  "language_info": {
   "codemirror_mode": {
    "name": "ipython",
    "version": 3
   },
   "file_extension": ".py",
   "mimetype": "text/x-python",
   "name": "python",
   "nbconvert_exporter": "python",
   "pygments_lexer": "ipython3",
   "version": "3.11.4"
  }
 },
 "nbformat": 4,
 "nbformat_minor": 5
}
