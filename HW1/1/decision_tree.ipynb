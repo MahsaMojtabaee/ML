{
 "cells": [
  {
   "cell_type": "code",
   "execution_count": 378,
   "id": "e0f329cf-0f2a-469c-8f73-0d5357ee7dfb",
   "metadata": {},
   "outputs": [],
   "source": [
    "import numpy as np\n",
    "import pandas as pd\n",
    "import matplotlib.pyplot as plt\n",
    "import seaborn as sn\n",
    "from sklearn.metrics import accuracy_score\n",
    "from sklearn.preprocessing import StandardScaler, Normalizer\n",
    "from sklearn.model_selection import train_test_split\n",
    "from sklearn.model_selection import GridSearchCV\n",
    "from sklearn.tree import DecisionTreeClassifier"
   ]
  },
  {
   "cell_type": "code",
   "execution_count": 379,
   "id": "9cd03a91-04c0-47b6-99a7-eb16cbdf3274",
   "metadata": {},
   "outputs": [],
   "source": [
    "X = pd.DataFrame(np.load('data/x.npy'))\n",
    "Y = pd.DataFrame(np.load('data/y.npy'))"
   ]
  },
  {
   "cell_type": "code",
   "execution_count": 380,
   "id": "2f5983b2-7bb8-4d2a-94e3-181fed407855",
   "metadata": {},
   "outputs": [],
   "source": [
    "df = pd.concat([X, Y.rename(columns={0:40})],axis=1)"
   ]
  },
  {
   "cell_type": "markdown",
   "id": "016f1ea4-fdcd-4a39-9fa6-a660afec4577",
   "metadata": {},
   "source": [
    "# With Normalizer"
   ]
  },
  {
   "cell_type": "code",
   "execution_count": 381,
   "id": "bb49dce9-e54e-45e8-b793-d4c4e66d4324",
   "metadata": {},
   "outputs": [],
   "source": [
    "transformed = Normalizer().fit_transform(X)"
   ]
  },
  {
   "cell_type": "code",
   "execution_count": 382,
   "id": "5dfdfa47-fb6f-4fbb-a3ed-f11fe9dac5cd",
   "metadata": {},
   "outputs": [
    {
     "data": {
      "text/html": [
       "<div>\n",
       "<style scoped>\n",
       "    .dataframe tbody tr th:only-of-type {\n",
       "        vertical-align: middle;\n",
       "    }\n",
       "\n",
       "    .dataframe tbody tr th {\n",
       "        vertical-align: top;\n",
       "    }\n",
       "\n",
       "    .dataframe thead th {\n",
       "        text-align: right;\n",
       "    }\n",
       "</style>\n",
       "<table border=\"1\" class=\"dataframe\">\n",
       "  <thead>\n",
       "    <tr style=\"text-align: right;\">\n",
       "      <th></th>\n",
       "      <th>0</th>\n",
       "      <th>1</th>\n",
       "      <th>2</th>\n",
       "      <th>3</th>\n",
       "      <th>4</th>\n",
       "      <th>5</th>\n",
       "      <th>6</th>\n",
       "      <th>7</th>\n",
       "      <th>8</th>\n",
       "      <th>9</th>\n",
       "      <th>...</th>\n",
       "      <th>30</th>\n",
       "      <th>31</th>\n",
       "      <th>32</th>\n",
       "      <th>33</th>\n",
       "      <th>34</th>\n",
       "      <th>35</th>\n",
       "      <th>36</th>\n",
       "      <th>37</th>\n",
       "      <th>38</th>\n",
       "      <th>39</th>\n",
       "    </tr>\n",
       "  </thead>\n",
       "  <tbody>\n",
       "    <tr>\n",
       "      <th>count</th>\n",
       "      <td>4500.000000</td>\n",
       "      <td>4500.000000</td>\n",
       "      <td>4500.000000</td>\n",
       "      <td>4500.000000</td>\n",
       "      <td>4500.000000</td>\n",
       "      <td>4500.000000</td>\n",
       "      <td>4500.000000</td>\n",
       "      <td>4500.000000</td>\n",
       "      <td>4500.000000</td>\n",
       "      <td>4500.000000</td>\n",
       "      <td>...</td>\n",
       "      <td>4500.000000</td>\n",
       "      <td>4500.000000</td>\n",
       "      <td>4500.000000</td>\n",
       "      <td>4500.000000</td>\n",
       "      <td>4500.000000</td>\n",
       "      <td>4500.000000</td>\n",
       "      <td>4500.000000</td>\n",
       "      <td>4500.000000</td>\n",
       "      <td>4500.000000</td>\n",
       "      <td>4500.000000</td>\n",
       "    </tr>\n",
       "    <tr>\n",
       "      <th>mean</th>\n",
       "      <td>0.003104</td>\n",
       "      <td>0.000910</td>\n",
       "      <td>0.001950</td>\n",
       "      <td>0.000144</td>\n",
       "      <td>0.001870</td>\n",
       "      <td>-0.002856</td>\n",
       "      <td>0.001395</td>\n",
       "      <td>-0.002114</td>\n",
       "      <td>-0.003110</td>\n",
       "      <td>-0.000050</td>\n",
       "      <td>...</td>\n",
       "      <td>-0.004571</td>\n",
       "      <td>-0.001844</td>\n",
       "      <td>-0.002339</td>\n",
       "      <td>-0.002017</td>\n",
       "      <td>-0.001669</td>\n",
       "      <td>0.002767</td>\n",
       "      <td>-0.001359</td>\n",
       "      <td>0.002146</td>\n",
       "      <td>0.000004</td>\n",
       "      <td>0.001218</td>\n",
       "    </tr>\n",
       "    <tr>\n",
       "      <th>std</th>\n",
       "      <td>0.141634</td>\n",
       "      <td>0.140391</td>\n",
       "      <td>0.139349</td>\n",
       "      <td>0.139923</td>\n",
       "      <td>0.136298</td>\n",
       "      <td>0.140584</td>\n",
       "      <td>0.137884</td>\n",
       "      <td>0.194735</td>\n",
       "      <td>0.138142</td>\n",
       "      <td>0.141277</td>\n",
       "      <td>...</td>\n",
       "      <td>0.287740</td>\n",
       "      <td>0.141490</td>\n",
       "      <td>0.195492</td>\n",
       "      <td>0.139476</td>\n",
       "      <td>0.136653</td>\n",
       "      <td>0.137378</td>\n",
       "      <td>0.139420</td>\n",
       "      <td>0.139376</td>\n",
       "      <td>0.203480</td>\n",
       "      <td>0.137025</td>\n",
       "    </tr>\n",
       "    <tr>\n",
       "      <th>min</th>\n",
       "      <td>-0.514003</td>\n",
       "      <td>-0.457719</td>\n",
       "      <td>-0.590469</td>\n",
       "      <td>-0.521952</td>\n",
       "      <td>-0.518842</td>\n",
       "      <td>-0.553483</td>\n",
       "      <td>-0.512896</td>\n",
       "      <td>-0.460932</td>\n",
       "      <td>-0.542156</td>\n",
       "      <td>-0.510916</td>\n",
       "      <td>...</td>\n",
       "      <td>-0.659970</td>\n",
       "      <td>-0.464278</td>\n",
       "      <td>-0.456229</td>\n",
       "      <td>-0.539454</td>\n",
       "      <td>-0.568619</td>\n",
       "      <td>-0.475485</td>\n",
       "      <td>-0.585731</td>\n",
       "      <td>-0.443852</td>\n",
       "      <td>-0.589192</td>\n",
       "      <td>-0.482510</td>\n",
       "    </tr>\n",
       "    <tr>\n",
       "      <th>25%</th>\n",
       "      <td>-0.089578</td>\n",
       "      <td>-0.092807</td>\n",
       "      <td>-0.089632</td>\n",
       "      <td>-0.096201</td>\n",
       "      <td>-0.088810</td>\n",
       "      <td>-0.095145</td>\n",
       "      <td>-0.088947</td>\n",
       "      <td>-0.154208</td>\n",
       "      <td>-0.094391</td>\n",
       "      <td>-0.095363</td>\n",
       "      <td>...</td>\n",
       "      <td>-0.213879</td>\n",
       "      <td>-0.096259</td>\n",
       "      <td>-0.160951</td>\n",
       "      <td>-0.092280</td>\n",
       "      <td>-0.090964</td>\n",
       "      <td>-0.087920</td>\n",
       "      <td>-0.093424</td>\n",
       "      <td>-0.093637</td>\n",
       "      <td>-0.157390</td>\n",
       "      <td>-0.089683</td>\n",
       "    </tr>\n",
       "    <tr>\n",
       "      <th>50%</th>\n",
       "      <td>-0.000313</td>\n",
       "      <td>0.000552</td>\n",
       "      <td>-0.000165</td>\n",
       "      <td>0.001042</td>\n",
       "      <td>-0.000477</td>\n",
       "      <td>-0.002528</td>\n",
       "      <td>-0.001287</td>\n",
       "      <td>-0.027163</td>\n",
       "      <td>-0.004106</td>\n",
       "      <td>0.002258</td>\n",
       "      <td>...</td>\n",
       "      <td>-0.006810</td>\n",
       "      <td>-0.004346</td>\n",
       "      <td>-0.007623</td>\n",
       "      <td>0.000469</td>\n",
       "      <td>-0.002696</td>\n",
       "      <td>-0.001128</td>\n",
       "      <td>-0.001714</td>\n",
       "      <td>0.002927</td>\n",
       "      <td>0.004939</td>\n",
       "      <td>0.000290</td>\n",
       "    </tr>\n",
       "    <tr>\n",
       "      <th>75%</th>\n",
       "      <td>0.097359</td>\n",
       "      <td>0.093517</td>\n",
       "      <td>0.095193</td>\n",
       "      <td>0.095175</td>\n",
       "      <td>0.092563</td>\n",
       "      <td>0.093232</td>\n",
       "      <td>0.093485</td>\n",
       "      <td>0.151020</td>\n",
       "      <td>0.089798</td>\n",
       "      <td>0.093049</td>\n",
       "      <td>...</td>\n",
       "      <td>0.205372</td>\n",
       "      <td>0.092453</td>\n",
       "      <td>0.156039</td>\n",
       "      <td>0.092468</td>\n",
       "      <td>0.089342</td>\n",
       "      <td>0.092820</td>\n",
       "      <td>0.092627</td>\n",
       "      <td>0.097086</td>\n",
       "      <td>0.161613</td>\n",
       "      <td>0.092211</td>\n",
       "    </tr>\n",
       "    <tr>\n",
       "      <th>max</th>\n",
       "      <td>0.477971</td>\n",
       "      <td>0.504343</td>\n",
       "      <td>0.515191</td>\n",
       "      <td>0.447403</td>\n",
       "      <td>0.565184</td>\n",
       "      <td>0.466296</td>\n",
       "      <td>0.537455</td>\n",
       "      <td>0.490715</td>\n",
       "      <td>0.489998</td>\n",
       "      <td>0.528857</td>\n",
       "      <td>...</td>\n",
       "      <td>0.724064</td>\n",
       "      <td>0.466402</td>\n",
       "      <td>0.476738</td>\n",
       "      <td>0.502947</td>\n",
       "      <td>0.479160</td>\n",
       "      <td>0.486511</td>\n",
       "      <td>0.497175</td>\n",
       "      <td>0.550092</td>\n",
       "      <td>0.481511</td>\n",
       "      <td>0.474479</td>\n",
       "    </tr>\n",
       "  </tbody>\n",
       "</table>\n",
       "<p>8 rows × 40 columns</p>\n",
       "</div>"
      ],
      "text/plain": [
       "                0            1            2            3            4   \\\n",
       "count  4500.000000  4500.000000  4500.000000  4500.000000  4500.000000   \n",
       "mean      0.003104     0.000910     0.001950     0.000144     0.001870   \n",
       "std       0.141634     0.140391     0.139349     0.139923     0.136298   \n",
       "min      -0.514003    -0.457719    -0.590469    -0.521952    -0.518842   \n",
       "25%      -0.089578    -0.092807    -0.089632    -0.096201    -0.088810   \n",
       "50%      -0.000313     0.000552    -0.000165     0.001042    -0.000477   \n",
       "75%       0.097359     0.093517     0.095193     0.095175     0.092563   \n",
       "max       0.477971     0.504343     0.515191     0.447403     0.565184   \n",
       "\n",
       "                5            6            7            8            9   ...  \\\n",
       "count  4500.000000  4500.000000  4500.000000  4500.000000  4500.000000  ...   \n",
       "mean     -0.002856     0.001395    -0.002114    -0.003110    -0.000050  ...   \n",
       "std       0.140584     0.137884     0.194735     0.138142     0.141277  ...   \n",
       "min      -0.553483    -0.512896    -0.460932    -0.542156    -0.510916  ...   \n",
       "25%      -0.095145    -0.088947    -0.154208    -0.094391    -0.095363  ...   \n",
       "50%      -0.002528    -0.001287    -0.027163    -0.004106     0.002258  ...   \n",
       "75%       0.093232     0.093485     0.151020     0.089798     0.093049  ...   \n",
       "max       0.466296     0.537455     0.490715     0.489998     0.528857  ...   \n",
       "\n",
       "                30           31           32           33           34  \\\n",
       "count  4500.000000  4500.000000  4500.000000  4500.000000  4500.000000   \n",
       "mean     -0.004571    -0.001844    -0.002339    -0.002017    -0.001669   \n",
       "std       0.287740     0.141490     0.195492     0.139476     0.136653   \n",
       "min      -0.659970    -0.464278    -0.456229    -0.539454    -0.568619   \n",
       "25%      -0.213879    -0.096259    -0.160951    -0.092280    -0.090964   \n",
       "50%      -0.006810    -0.004346    -0.007623     0.000469    -0.002696   \n",
       "75%       0.205372     0.092453     0.156039     0.092468     0.089342   \n",
       "max       0.724064     0.466402     0.476738     0.502947     0.479160   \n",
       "\n",
       "                35           36           37           38           39  \n",
       "count  4500.000000  4500.000000  4500.000000  4500.000000  4500.000000  \n",
       "mean      0.002767    -0.001359     0.002146     0.000004     0.001218  \n",
       "std       0.137378     0.139420     0.139376     0.203480     0.137025  \n",
       "min      -0.475485    -0.585731    -0.443852    -0.589192    -0.482510  \n",
       "25%      -0.087920    -0.093424    -0.093637    -0.157390    -0.089683  \n",
       "50%      -0.001128    -0.001714     0.002927     0.004939     0.000290  \n",
       "75%       0.092820     0.092627     0.097086     0.161613     0.092211  \n",
       "max       0.486511     0.497175     0.550092     0.481511     0.474479  \n",
       "\n",
       "[8 rows x 40 columns]"
      ]
     },
     "execution_count": 382,
     "metadata": {},
     "output_type": "execute_result"
    }
   ],
   "source": [
    "features = pd.DataFrame(transformed)\n",
    "features.describe()"
   ]
  },
  {
   "cell_type": "code",
   "execution_count": 383,
   "id": "dac5b379-a9d3-4761-b824-5aa65fbf7c5b",
   "metadata": {},
   "outputs": [],
   "source": [
    "target = Y.replace({0:'ClassA', 1:'ClassB', 2:'ClassC', 3:'ClassD'})"
   ]
  },
  {
   "cell_type": "code",
   "execution_count": 384,
   "id": "0cda538e-2e69-48e7-970d-b498fbae3496",
   "metadata": {},
   "outputs": [],
   "source": [
    "x_train, x_temp, y_train, y_temp = train_test_split(features, target, test_size=.3, random_state=0)"
   ]
  },
  {
   "cell_type": "code",
   "execution_count": 385,
   "id": "bdfff731-b073-46a5-9fa1-f50db84745a9",
   "metadata": {},
   "outputs": [],
   "source": [
    "x_val, x_test, y_val, y_test = train_test_split(x_temp, y_temp, test_size=.5)"
   ]
  },
  {
   "cell_type": "markdown",
   "id": "adf8bd2b-8988-4225-907e-51130cbdc6f6",
   "metadata": {},
   "source": [
    "## The features I want to test : max_depth, splitter, min_sample_leaf"
   ]
  },
  {
   "cell_type": "markdown",
   "id": "e4ff17d3-6f5b-4d15-af63-45b08291fe05",
   "metadata": {},
   "source": [
    "### max_depth"
   ]
  },
  {
   "cell_type": "code",
   "execution_count": 386,
   "id": "185f0814-6869-49ed-9bc5-450f8c0e43a9",
   "metadata": {},
   "outputs": [],
   "source": [
    "accuracy_rate = []\n",
    "for i in range(3, 30):\n",
    "    clf = DecisionTreeClassifier(criterion='entropy', max_depth=i, random_state=0)\n",
    "    clf.fit(x_train, y_train)\n",
    "    # accuracy_rate.append(accurac1y_score(y_val, clf.predict(x_val)))\n",
    "    accuracy_rate.append(clf.score(x_val, y_val))"
   ]
  },
  {
   "cell_type": "code",
   "execution_count": 387,
   "id": "97c0b0ed-58b1-421a-9352-0de9fcd9c905",
   "metadata": {},
   "outputs": [
    {
     "data": {
      "text/plain": [
       "[<matplotlib.lines.Line2D at 0x27530d23450>]"
      ]
     },
     "execution_count": 387,
     "metadata": {},
     "output_type": "execute_result"
    },
    {
     "data": {
      "image/png": "[encoded data removed]",
      "text/plain": [
       "<Figure size 640x480 with 1 Axes>"
      ]
     },
     "metadata": {},
     "output_type": "display_data"
    }
   ],
   "source": [
    "plt.plot(range(3, 30),accuracy_rate, marker='o')"
   ]
  },
  {
   "cell_type": "code",
   "execution_count": 388,
   "id": "12164fce-93ca-49f4-8eb9-86d2d7ee3c7b",
   "metadata": {},
   "outputs": [
    {
     "name": "stdout",
     "output_type": "stream",
     "text": [
      "best depth is 4 with the accuracy of 0.6933333333333334\n"
     ]
    }
   ],
   "source": [
    "max_accuracy = max(accuracy_rate)\n",
    "max_accuracy_max_depth = accuracy_rate.index(max_accuracy)\n",
    "print(f'best depth is {max_accuracy_max_depth+3} with the accuracy of {max_accuracy}')"
   ]
  },
  {
   "cell_type": "markdown",
   "id": "e6af6448-5316-4d49-8537-b9f04b7867d5",
   "metadata": {},
   "source": [
    "### splitter"
   ]
  },
  {
   "cell_type": "code",
   "execution_count": 389,
   "id": "88fe271b-40d6-433c-89ac-a08f8a63d21b",
   "metadata": {},
   "outputs": [],
   "source": [
    "accuracy_rate = []\n",
    "split_class = ['best', 'random']\n",
    "for i in split_class:\n",
    "    clf = DecisionTreeClassifier(criterion='entropy', splitter=i)\n",
    "    clf.fit(x_train, y_train)\n",
    "    # accuracy_rate.append(accurac1y_score(y_val, clf.predict(x_val)))\n",
    "    accuracy_rate.append(clf.score(x_val, y_val))"
   ]
  },
  {
   "cell_type": "code",
   "execution_count": 390,
   "id": "d99d6915-f530-4820-b7dc-75a931699175",
   "metadata": {},
   "outputs": [
    {
     "data": {
      "image/png": "[encoded data removed]",
      "text/plain": [
       "<Figure size 640x480 with 1 Axes>"
      ]
     },
     "metadata": {},
     "output_type": "display_data"
    }
   ],
   "source": [
    "table = plt.table(cellText=[[\"{:.2f}\".format(num) for num in accuracy_rate]], colLabels=split_class, rowLabels=['Accuracy'], loc='center', cellLoc='center')\n",
    "\n",
    "# Table formatting\n",
    "table.auto_set_font_size(False)\n",
    "table.set_fontsize(14)\n",
    "table.scale(1.2, 1.2)\n",
    "\n",
    "# Removing axis\n",
    "ax = plt.gca()\n",
    "ax.get_xaxis().set_visible(False)\n",
    "ax.get_yaxis().set_visible(False)\n",
    "\n",
    "# Removing borders\n",
    "for sp in ax.spines.values():\n",
    "    sp.set_visible(False)\n",
    "\n",
    "# Table title\n",
    "plt.title('Performance Rates')\n",
    "\n",
    "plt.show()"
   ]
  },
  {
   "cell_type": "code",
   "execution_count": 391,
   "id": "818468fa-f1fa-4f70-a3bf-5d3132c71a9f",
   "metadata": {},
   "outputs": [
    {
     "data": {
      "text/plain": [
       "0.6933333333333334"
      ]
     },
     "execution_count": 391,
     "metadata": {},
     "output_type": "execute_result"
    }
   ],
   "source": [
    "clf = DecisionTreeClassifier(criterion='entropy', max_depth=max_accuracy_max_depth+3, splitter='best', random_state=0)\n",
    "clf.fit(x_train, y_train)\n",
    "clf.score(x_val, y_val)"
   ]
  },
  {
   "cell_type": "markdown",
   "id": "8a67ead0-b35f-4dd4-ae6b-d5fe01763822",
   "metadata": {},
   "source": [
    "### min_samples_leaf"
   ]
  },
  {
   "cell_type": "code",
   "execution_count": 392,
   "id": "26c95b60-5bcd-4dff-bc1a-124a04c087e5",
   "metadata": {},
   "outputs": [],
   "source": [
    "accuracy_rate = []\n",
    "for i in range(5, 30):\n",
    "    clf = DecisionTreeClassifier(criterion='entropy', random_state=0, min_samples_leaf=i)\n",
    "    clf.fit(x_train, y_train)\n",
    "    accuracy_rate.append(clf.score(x_val, y_val))"
   ]
  },
  {
   "cell_type": "code",
   "execution_count": 393,
   "id": "33ff1559-f2cd-4b83-b92e-99966a4a031b",
   "metadata": {},
   "outputs": [
    {
     "data": {
      "text/plain": [
       "[<matplotlib.lines.Line2D at 0x2751fa53950>]"
      ]
     },
     "execution_count": 393,
     "metadata": {},
     "output_type": "execute_result"
    },
    {
     "data": {
      "image/png": "[encoded data removed]",
      "text/plain": [
       "<Figure size 640x480 with 1 Axes>"
      ]
     },
     "metadata": {},
     "output_type": "display_data"
    }
   ],
   "source": [
    "plt.plot(range(5, 30),accuracy_rate, marker='o')"
   ]
  },
  {
   "cell_type": "code",
   "execution_count": 394,
   "id": "af6701cf-bd2a-41b2-b131-017b9a3fcdd0",
   "metadata": {},
   "outputs": [
    {
     "data": {
      "text/plain": [
       "25"
      ]
     },
     "execution_count": 394,
     "metadata": {},
     "output_type": "execute_result"
    }
   ],
   "source": [
    "accuracy_rate.index(max(accuracy_rate))+5"
   ]
  },
  {
   "cell_type": "code",
   "execution_count": 395,
   "id": "865f1ded-e901-47e8-be9b-c31c2e7a1490",
   "metadata": {},
   "outputs": [
    {
     "name": "stdout",
     "output_type": "stream",
     "text": [
      "accuracy score for the validation dataset is 0.6696296296296296\n",
      "accuracy score for the test dataset is 0.6622222222222223\n"
     ]
    }
   ],
   "source": [
    "clf = DecisionTreeClassifier(criterion='entropy', max_depth=18, splitter='best', random_state=0, min_samples_leaf=15)\n",
    "clf.fit(x_train, y_train)\n",
    "pred = clf.predict(x_test)\n",
    "print(f'accuracy score for the validation dataset is {clf.score(x_val, y_val)}')\n",
    "print(f'accuracy score for the test dataset is {accuracy_score(y_test, pred)}')"
   ]
  },
  {
   "cell_type": "markdown",
   "id": "2d0cc8a5-b0d3-41bc-85fc-7cf1cc45e274",
   "metadata": {},
   "source": [
    "# With Standardization"
   ]
  },
  {
   "cell_type": "code",
   "execution_count": 396,
   "id": "804a3036-0881-4cce-9b12-8c680d58c0b5",
   "metadata": {},
   "outputs": [],
   "source": [
    "X = pd.DataFrame(np.load('data/x.npy'))\n",
    "Y = pd.DataFrame(np.load('data/y.npy'))"
   ]
  },
  {
   "cell_type": "code",
   "execution_count": 397,
   "id": "183b4b20-7155-4a2f-acb1-e486c223fd46",
   "metadata": {},
   "outputs": [],
   "source": [
    "transformed = StandardScaler().fit_transform(X)"
   ]
  },
  {
   "cell_type": "code",
   "execution_count": 398,
   "id": "f1567ca0-e0d5-4466-9c61-38b9911b7ba1",
   "metadata": {},
   "outputs": [
    {
     "data": {
      "text/html": [
       "<div>\n",
       "<style scoped>\n",
       "    .dataframe tbody tr th:only-of-type {\n",
       "        vertical-align: middle;\n",
       "    }\n",
       "\n",
       "    .dataframe tbody tr th {\n",
       "        vertical-align: top;\n",
       "    }\n",
       "\n",
       "    .dataframe thead th {\n",
       "        text-align: right;\n",
       "    }\n",
       "</style>\n",
       "<table border=\"1\" class=\"dataframe\">\n",
       "  <thead>\n",
       "    <tr style=\"text-align: right;\">\n",
       "      <th></th>\n",
       "      <th>0</th>\n",
       "      <th>1</th>\n",
       "      <th>2</th>\n",
       "      <th>3</th>\n",
       "      <th>4</th>\n",
       "      <th>5</th>\n",
       "      <th>6</th>\n",
       "      <th>7</th>\n",
       "      <th>8</th>\n",
       "      <th>9</th>\n",
       "      <th>...</th>\n",
       "      <th>30</th>\n",
       "      <th>31</th>\n",
       "      <th>32</th>\n",
       "      <th>33</th>\n",
       "      <th>34</th>\n",
       "      <th>35</th>\n",
       "      <th>36</th>\n",
       "      <th>37</th>\n",
       "      <th>38</th>\n",
       "      <th>39</th>\n",
       "    </tr>\n",
       "  </thead>\n",
       "  <tbody>\n",
       "    <tr>\n",
       "      <th>count</th>\n",
       "      <td>4.500000e+03</td>\n",
       "      <td>4.500000e+03</td>\n",
       "      <td>4.500000e+03</td>\n",
       "      <td>4.500000e+03</td>\n",
       "      <td>4.500000e+03</td>\n",
       "      <td>4.500000e+03</td>\n",
       "      <td>4.500000e+03</td>\n",
       "      <td>4.500000e+03</td>\n",
       "      <td>4.500000e+03</td>\n",
       "      <td>4.500000e+03</td>\n",
       "      <td>...</td>\n",
       "      <td>4.500000e+03</td>\n",
       "      <td>4.500000e+03</td>\n",
       "      <td>4.500000e+03</td>\n",
       "      <td>4.500000e+03</td>\n",
       "      <td>4.500000e+03</td>\n",
       "      <td>4.500000e+03</td>\n",
       "      <td>4.500000e+03</td>\n",
       "      <td>4.500000e+03</td>\n",
       "      <td>4.500000e+03</td>\n",
       "      <td>4.500000e+03</td>\n",
       "    </tr>\n",
       "    <tr>\n",
       "      <th>mean</th>\n",
       "      <td>-6.315935e-18</td>\n",
       "      <td>-1.500035e-17</td>\n",
       "      <td>1.815831e-17</td>\n",
       "      <td>-1.894781e-17</td>\n",
       "      <td>-5.052748e-17</td>\n",
       "      <td>-3.157968e-17</td>\n",
       "      <td>4.342206e-17</td>\n",
       "      <td>1.105289e-17</td>\n",
       "      <td>1.578984e-17</td>\n",
       "      <td>-3.947460e-18</td>\n",
       "      <td>...</td>\n",
       "      <td>-9.473903e-18</td>\n",
       "      <td>1.342136e-17</td>\n",
       "      <td>-1.184238e-17</td>\n",
       "      <td>-5.526444e-17</td>\n",
       "      <td>-3.000069e-17</td>\n",
       "      <td>2.960595e-17</td>\n",
       "      <td>-3.315866e-17</td>\n",
       "      <td>1.578984e-18</td>\n",
       "      <td>1.578984e-18</td>\n",
       "      <td>-2.526374e-17</td>\n",
       "    </tr>\n",
       "    <tr>\n",
       "      <th>std</th>\n",
       "      <td>1.000111e+00</td>\n",
       "      <td>1.000111e+00</td>\n",
       "      <td>1.000111e+00</td>\n",
       "      <td>1.000111e+00</td>\n",
       "      <td>1.000111e+00</td>\n",
       "      <td>1.000111e+00</td>\n",
       "      <td>1.000111e+00</td>\n",
       "      <td>1.000111e+00</td>\n",
       "      <td>1.000111e+00</td>\n",
       "      <td>1.000111e+00</td>\n",
       "      <td>...</td>\n",
       "      <td>1.000111e+00</td>\n",
       "      <td>1.000111e+00</td>\n",
       "      <td>1.000111e+00</td>\n",
       "      <td>1.000111e+00</td>\n",
       "      <td>1.000111e+00</td>\n",
       "      <td>1.000111e+00</td>\n",
       "      <td>1.000111e+00</td>\n",
       "      <td>1.000111e+00</td>\n",
       "      <td>1.000111e+00</td>\n",
       "      <td>1.000111e+00</td>\n",
       "    </tr>\n",
       "    <tr>\n",
       "      <th>min</th>\n",
       "      <td>-3.404488e+00</td>\n",
       "      <td>-3.247557e+00</td>\n",
       "      <td>-4.654506e+00</td>\n",
       "      <td>-3.702890e+00</td>\n",
       "      <td>-4.128070e+00</td>\n",
       "      <td>-4.348287e+00</td>\n",
       "      <td>-4.223287e+00</td>\n",
       "      <td>-4.226864e+00</td>\n",
       "      <td>-4.022528e+00</td>\n",
       "      <td>-3.542374e+00</td>\n",
       "      <td>...</td>\n",
       "      <td>-3.481551e+00</td>\n",
       "      <td>-3.601419e+00</td>\n",
       "      <td>-3.187736e+00</td>\n",
       "      <td>-3.674894e+00</td>\n",
       "      <td>-4.317213e+00</td>\n",
       "      <td>-3.228503e+00</td>\n",
       "      <td>-3.707492e+00</td>\n",
       "      <td>-3.428081e+00</td>\n",
       "      <td>-3.479855e+00</td>\n",
       "      <td>-3.995101e+00</td>\n",
       "    </tr>\n",
       "    <tr>\n",
       "      <th>25%</th>\n",
       "      <td>-6.784529e-01</td>\n",
       "      <td>-6.621022e-01</td>\n",
       "      <td>-6.615232e-01</td>\n",
       "      <td>-6.788717e-01</td>\n",
       "      <td>-6.642844e-01</td>\n",
       "      <td>-6.614058e-01</td>\n",
       "      <td>-6.580220e-01</td>\n",
       "      <td>-7.052580e-01</td>\n",
       "      <td>-6.651513e-01</td>\n",
       "      <td>-6.710737e-01</td>\n",
       "      <td>...</td>\n",
       "      <td>-6.285594e-01</td>\n",
       "      <td>-6.849151e-01</td>\n",
       "      <td>-7.130832e-01</td>\n",
       "      <td>-6.591191e-01</td>\n",
       "      <td>-6.623173e-01</td>\n",
       "      <td>-6.633687e-01</td>\n",
       "      <td>-6.723799e-01</td>\n",
       "      <td>-6.798692e-01</td>\n",
       "      <td>-7.176721e-01</td>\n",
       "      <td>-6.799256e-01</td>\n",
       "    </tr>\n",
       "    <tr>\n",
       "      <th>50%</th>\n",
       "      <td>-2.473464e-02</td>\n",
       "      <td>-2.968549e-03</td>\n",
       "      <td>-1.297282e-02</td>\n",
       "      <td>1.133055e-02</td>\n",
       "      <td>-1.708652e-02</td>\n",
       "      <td>2.179580e-03</td>\n",
       "      <td>-1.865187e-02</td>\n",
       "      <td>-1.222112e-01</td>\n",
       "      <td>-1.265248e-02</td>\n",
       "      <td>2.319617e-02</td>\n",
       "      <td>...</td>\n",
       "      <td>-1.869424e-02</td>\n",
       "      <td>-2.209123e-02</td>\n",
       "      <td>-2.853656e-02</td>\n",
       "      <td>1.919829e-02</td>\n",
       "      <td>-1.292072e-02</td>\n",
       "      <td>-2.565944e-02</td>\n",
       "      <td>-2.993389e-03</td>\n",
       "      <td>5.535159e-04</td>\n",
       "      <td>2.035618e-02</td>\n",
       "      <td>-7.205651e-03</td>\n",
       "    </tr>\n",
       "    <tr>\n",
       "      <th>75%</th>\n",
       "      <td>6.825196e-01</td>\n",
       "      <td>6.786886e-01</td>\n",
       "      <td>6.761731e-01</td>\n",
       "      <td>6.806583e-01</td>\n",
       "      <td>6.674782e-01</td>\n",
       "      <td>6.863077e-01</td>\n",
       "      <td>6.856069e-01</td>\n",
       "      <td>6.947219e-01</td>\n",
       "      <td>6.925149e-01</td>\n",
       "      <td>6.859158e-01</td>\n",
       "      <td>...</td>\n",
       "      <td>6.078193e-01</td>\n",
       "      <td>6.771346e-01</td>\n",
       "      <td>6.888842e-01</td>\n",
       "      <td>6.857368e-01</td>\n",
       "      <td>6.897841e-01</td>\n",
       "      <td>6.710464e-01</td>\n",
       "      <td>6.738327e-01</td>\n",
       "      <td>6.912431e-01</td>\n",
       "      <td>7.426449e-01</td>\n",
       "      <td>6.687924e-01</td>\n",
       "    </tr>\n",
       "    <tr>\n",
       "      <th>max</th>\n",
       "      <td>3.453176e+00</td>\n",
       "      <td>3.769659e+00</td>\n",
       "      <td>3.715063e+00</td>\n",
       "      <td>3.550810e+00</td>\n",
       "      <td>3.751541e+00</td>\n",
       "      <td>3.086783e+00</td>\n",
       "      <td>3.490728e+00</td>\n",
       "      <td>4.400443e+00</td>\n",
       "      <td>3.297399e+00</td>\n",
       "      <td>3.948309e+00</td>\n",
       "      <td>...</td>\n",
       "      <td>4.444985e+00</td>\n",
       "      <td>3.958821e+00</td>\n",
       "      <td>3.563949e+00</td>\n",
       "      <td>3.231415e+00</td>\n",
       "      <td>3.284885e+00</td>\n",
       "      <td>3.553686e+00</td>\n",
       "      <td>3.731371e+00</td>\n",
       "      <td>3.700962e+00</td>\n",
       "      <td>2.804048e+00</td>\n",
       "      <td>3.213523e+00</td>\n",
       "    </tr>\n",
       "  </tbody>\n",
       "</table>\n",
       "<p>8 rows × 40 columns</p>\n",
       "</div>"
      ],
      "text/plain": [
       "                 0             1             2             3             4   \\\n",
       "count  4.500000e+03  4.500000e+03  4.500000e+03  4.500000e+03  4.500000e+03   \n",
       "mean  -6.315935e-18 -1.500035e-17  1.815831e-17 -1.894781e-17 -5.052748e-17   \n",
       "std    1.000111e+00  1.000111e+00  1.000111e+00  1.000111e+00  1.000111e+00   \n",
       "min   -3.404488e+00 -3.247557e+00 -4.654506e+00 -3.702890e+00 -4.128070e+00   \n",
       "25%   -6.784529e-01 -6.621022e-01 -6.615232e-01 -6.788717e-01 -6.642844e-01   \n",
       "50%   -2.473464e-02 -2.968549e-03 -1.297282e-02  1.133055e-02 -1.708652e-02   \n",
       "75%    6.825196e-01  6.786886e-01  6.761731e-01  6.806583e-01  6.674782e-01   \n",
       "max    3.453176e+00  3.769659e+00  3.715063e+00  3.550810e+00  3.751541e+00   \n",
       "\n",
       "                 5             6             7             8             9   \\\n",
       "count  4.500000e+03  4.500000e+03  4.500000e+03  4.500000e+03  4.500000e+03   \n",
       "mean  -3.157968e-17  4.342206e-17  1.105289e-17  1.578984e-17 -3.947460e-18   \n",
       "std    1.000111e+00  1.000111e+00  1.000111e+00  1.000111e+00  1.000111e+00   \n",
       "min   -4.348287e+00 -4.223287e+00 -4.226864e+00 -4.022528e+00 -3.542374e+00   \n",
       "25%   -6.614058e-01 -6.580220e-01 -7.052580e-01 -6.651513e-01 -6.710737e-01   \n",
       "50%    2.179580e-03 -1.865187e-02 -1.222112e-01 -1.265248e-02  2.319617e-02   \n",
       "75%    6.863077e-01  6.856069e-01  6.947219e-01  6.925149e-01  6.859158e-01   \n",
       "max    3.086783e+00  3.490728e+00  4.400443e+00  3.297399e+00  3.948309e+00   \n",
       "\n",
       "       ...            30            31            32            33  \\\n",
       "count  ...  4.500000e+03  4.500000e+03  4.500000e+03  4.500000e+03   \n",
       "mean   ... -9.473903e-18  1.342136e-17 -1.184238e-17 -5.526444e-17   \n",
       "std    ...  1.000111e+00  1.000111e+00  1.000111e+00  1.000111e+00   \n",
       "min    ... -3.481551e+00 -3.601419e+00 -3.187736e+00 -3.674894e+00   \n",
       "25%    ... -6.285594e-01 -6.849151e-01 -7.130832e-01 -6.591191e-01   \n",
       "50%    ... -1.869424e-02 -2.209123e-02 -2.853656e-02  1.919829e-02   \n",
       "75%    ...  6.078193e-01  6.771346e-01  6.888842e-01  6.857368e-01   \n",
       "max    ...  4.444985e+00  3.958821e+00  3.563949e+00  3.231415e+00   \n",
       "\n",
       "                 34            35            36            37            38  \\\n",
       "count  4.500000e+03  4.500000e+03  4.500000e+03  4.500000e+03  4.500000e+03   \n",
       "mean  -3.000069e-17  2.960595e-17 -3.315866e-17  1.578984e-18  1.578984e-18   \n",
       "std    1.000111e+00  1.000111e+00  1.000111e+00  1.000111e+00  1.000111e+00   \n",
       "min   -4.317213e+00 -3.228503e+00 -3.707492e+00 -3.428081e+00 -3.479855e+00   \n",
       "25%   -6.623173e-01 -6.633687e-01 -6.723799e-01 -6.798692e-01 -7.176721e-01   \n",
       "50%   -1.292072e-02 -2.565944e-02 -2.993389e-03  5.535159e-04  2.035618e-02   \n",
       "75%    6.897841e-01  6.710464e-01  6.738327e-01  6.912431e-01  7.426449e-01   \n",
       "max    3.284885e+00  3.553686e+00  3.731371e+00  3.700962e+00  2.804048e+00   \n",
       "\n",
       "                 39  \n",
       "count  4.500000e+03  \n",
       "mean  -2.526374e-17  \n",
       "std    1.000111e+00  \n",
       "min   -3.995101e+00  \n",
       "25%   -6.799256e-01  \n",
       "50%   -7.205651e-03  \n",
       "75%    6.687924e-01  \n",
       "max    3.213523e+00  \n",
       "\n",
       "[8 rows x 40 columns]"
      ]
     },
     "execution_count": 398,
     "metadata": {},
     "output_type": "execute_result"
    }
   ],
   "source": [
    "features = pd.DataFrame(transformed)\n",
    "features.describe()"
   ]
  },
  {
   "cell_type": "code",
   "execution_count": 399,
   "id": "0730b75a-5ef5-4071-a626-f901f5fbd811",
   "metadata": {},
   "outputs": [
    {
     "data": {
      "text/plain": [
       "2    1129\n",
       "1    1124\n",
       "3    1124\n",
       "0    1123\n",
       "Name: count, dtype: int64"
      ]
     },
     "execution_count": 399,
     "metadata": {},
     "output_type": "execute_result"
    }
   ],
   "source": [
    "Y.value_counts()"
   ]
  },
  {
   "cell_type": "code",
   "execution_count": 400,
   "id": "f866299c-8c91-478f-94f1-ca6e0b1b0fb6",
   "metadata": {},
   "outputs": [
    {
     "data": {
      "text/plain": [
       "(4500, 1)"
      ]
     },
     "execution_count": 400,
     "metadata": {},
     "output_type": "execute_result"
    }
   ],
   "source": [
    "Y.shape"
   ]
  },
  {
   "cell_type": "code",
   "execution_count": 401,
   "id": "f3de389e-e800-4eea-9c95-ea4cbd352da2",
   "metadata": {},
   "outputs": [],
   "source": [
    "target = Y.replace({0:'ClassA', 1:'ClassB', 2:'ClassC', 3:'ClassD'})"
   ]
  },
  {
   "cell_type": "code",
   "execution_count": 402,
   "id": "49fbc946-a3bb-4b18-b8ce-8d24cf591078",
   "metadata": {},
   "outputs": [],
   "source": [
    "x_train, x_temp, y_train, y_temp = train_test_split(features, target, test_size=.3, random_state=0)"
   ]
  },
  {
   "cell_type": "code",
   "execution_count": 403,
   "id": "74c25e35-a9bd-4370-9f80-f217a50e8638",
   "metadata": {},
   "outputs": [],
   "source": [
    "x_val, x_test, y_val, y_test = train_test_split(x_temp, y_temp, test_size=.5)"
   ]
  },
  {
   "cell_type": "markdown",
   "id": "acf7d762-f776-43f2-bf35-00667b051095",
   "metadata": {},
   "source": [
    "## The features I want to test : max_depth, splitter, min_sample_leaf"
   ]
  },
  {
   "cell_type": "markdown",
   "id": "81792a55-04d7-4c15-9a70-f3831b406f7d",
   "metadata": {},
   "source": [
    "### max_depth"
   ]
  },
  {
   "cell_type": "code",
   "execution_count": 404,
   "id": "5d82e35d-4b1f-4209-b6ad-d9a20b858eff",
   "metadata": {},
   "outputs": [],
   "source": [
    "accuracy_rate = []\n",
    "for i in range(3, 30):\n",
    "    clf = DecisionTreeClassifier(criterion='entropy', max_depth=i, random_state=0)\n",
    "    clf.fit(x_train, y_train)\n",
    "    accuracy_rate.append(clf.score(x_val, y_val))"
   ]
  },
  {
   "cell_type": "code",
   "execution_count": 405,
   "id": "768e96cd-96b5-465c-9ae5-5f46d00d590d",
   "metadata": {},
   "outputs": [
    {
     "data": {
      "text/plain": [
       "[<matplotlib.lines.Line2D at 0x27530d77110>]"
      ]
     },
     "execution_count": 405,
     "metadata": {},
     "output_type": "execute_result"
    },
    {
     "data": {
      "image/png": "[encoded data removed]",
      "text/plain": [
       "<Figure size 640x480 with 1 Axes>"
      ]
     },
     "metadata": {},
     "output_type": "display_data"
    }
   ],
   "source": [
    "plt.plot(range(3, 30),accuracy_rate, marker='o')"
   ]
  },
  {
   "cell_type": "code",
   "execution_count": 406,
   "id": "c651d4e8-328a-4450-b330-cf572a2f3100",
   "metadata": {},
   "outputs": [
    {
     "name": "stdout",
     "output_type": "stream",
     "text": [
      "best depth is 7 with the accuracy of 0.6918518518518518\n"
     ]
    }
   ],
   "source": [
    "max_accuracy = max(accuracy_rate)\n",
    "max_accuracy_max_depth = accuracy_rate.index(max_accuracy)\n",
    "print(f'best depth is {max_accuracy_max_depth+3} with the accuracy of {max_accuracy}')"
   ]
  },
  {
   "cell_type": "markdown",
   "id": "35879090-b6d6-4b06-a41a-5fae7a2d1844",
   "metadata": {},
   "source": [
    "### splitter"
   ]
  },
  {
   "cell_type": "code",
   "execution_count": 407,
   "id": "679ea05f-c444-4313-a9eb-9779982305fc",
   "metadata": {},
   "outputs": [],
   "source": [
    "accuracy_rate = []\n",
    "split_class = ['best', 'random']\n",
    "for i in split_class:\n",
    "    clf = DecisionTreeClassifier(criterion='entropy', splitter=i)\n",
    "    clf.fit(x_train, y_train)\n",
    "    accuracy_rate.append(clf.score(x_val, y_val))"
   ]
  },
  {
   "cell_type": "code",
   "execution_count": 408,
   "id": "2c1db5f9-6045-434c-8495-3fcd9e891319",
   "metadata": {},
   "outputs": [
    {
     "data": {
      "image/png": "[encoded data removed]",
      "text/plain": [
       "<Figure size 640x480 with 1 Axes>"
      ]
     },
     "metadata": {},
     "output_type": "display_data"
    }
   ],
   "source": [
    "table = plt.table(cellText=[[\"{:.2f}\".format(num) for num in accuracy_rate]], colLabels=split_class, rowLabels=['Accuracy'], loc='center', cellLoc='center')\n",
    "\n",
    "# Table formatting\n",
    "table.auto_set_font_size(False)\n",
    "table.set_fontsize(14)\n",
    "table.scale(1.2, 1.2)\n",
    "\n",
    "# Removing axis\n",
    "ax = plt.gca()\n",
    "ax.get_xaxis().set_visible(False)\n",
    "ax.get_yaxis().set_visible(False)\n",
    "\n",
    "# Removing borders\n",
    "for sp in ax.spines.values():\n",
    "    sp.set_visible(False)\n",
    "\n",
    "# Table title\n",
    "plt.title('Performance Rates')\n",
    "\n",
    "plt.show()"
   ]
  },
  {
   "cell_type": "markdown",
   "id": "194f4b89-1836-4a16-b118-6067feee1e72",
   "metadata": {},
   "source": [
    "### min_samples_leaf"
   ]
  },
  {
   "cell_type": "code",
   "execution_count": 409,
   "id": "d9d64a29-f054-43b1-a774-81af66d6fa7f",
   "metadata": {},
   "outputs": [],
   "source": [
    "accuracy_rate = []\n",
    "for i in range(5, 30):\n",
    "    clf = DecisionTreeClassifier(criterion='entropy', random_state=0, min_samples_leaf=i)\n",
    "    clf.fit(x_train, y_train)\n",
    "    accuracy_rate.append(clf.score(x_val, y_val))"
   ]
  },
  {
   "cell_type": "code",
   "execution_count": 410,
   "id": "9aa3c6c4-a87c-4c90-a1b8-0a11f04ffae3",
   "metadata": {},
   "outputs": [
    {
     "data": {
      "text/plain": [
       "[<matplotlib.lines.Line2D at 0x27532deb990>]"
      ]
     },
     "execution_count": 410,
     "metadata": {},
     "output_type": "execute_result"
    },
    {
     "data": {
      "image/png": "[encoded data removed]",
      "text/plain": [
       "<Figure size 640x480 with 1 Axes>"
      ]
     },
     "metadata": {},
     "output_type": "display_data"
    }
   ],
   "source": [
    "plt.plot(range(5, 30),accuracy_rate, marker='o')"
   ]
  },
  {
   "cell_type": "code",
   "execution_count": 412,
   "id": "b5b9ee58-b557-48e8-a5c0-81543e8149d7",
   "metadata": {},
   "outputs": [
    {
     "data": {
      "text/plain": [
       "27"
      ]
     },
     "execution_count": 412,
     "metadata": {},
     "output_type": "execute_result"
    }
   ],
   "source": [
    "accuracy_rate.index(max(accuracy_rate))+5"
   ]
  },
  {
   "cell_type": "code",
   "execution_count": 414,
   "id": "d54f0a6b-3bc2-40bc-b1a4-771a8163febc",
   "metadata": {},
   "outputs": [
    {
     "name": "stdout",
     "output_type": "stream",
     "text": [
      "accuracy score for the validation dataset is 0.6962962962962963\n",
      "accuracy score for the test dataset is 0.6888888888888889\n"
     ]
    }
   ],
   "source": [
    "clf = DecisionTreeClassifier(criterion='entropy', max_depth=7, splitter='best', random_state=0, min_samples_leaf=27)\n",
    "clf.fit(x_train, y_train)\n",
    "pred = clf.predict(x_test)\n",
    "print(f'accuracy score for the validation dataset is {clf.score(x_val, y_val)}')\n",
    "print(f'accuracy score for the test dataset is {accuracy_score(y_test, pred)}')"
   ]
  },
  {
   "cell_type": "markdown",
   "id": "45d9dba4-d4a6-4477-8fda-9f433a061b06",
   "metadata": {},
   "source": [
    "# Learning Curve"
   ]
  },
  {
   "cell_type": "code",
   "execution_count": 415,
   "id": "d84ab3c6-c919-4e55-a19a-0c53aa05eeed",
   "metadata": {},
   "outputs": [],
   "source": [
    "from sklearn.model_selection import LearningCurveDisplay"
   ]
  },
  {
   "cell_type": "code",
   "execution_count": 416,
   "id": "aba0c423-4f8d-462f-8431-9289e3e4772e",
   "metadata": {},
   "outputs": [],
   "source": [
    "clf = DecisionTreeClassifier(criterion='entropy', max_depth=7, splitter='best', random_state=0, min_samples_leaf=27)\n",
    "\n",
    "params = {\n",
    "    \"X\": features,\n",
    "    \"y\": target,\n",
    "    \"train_sizes\": [.25, .5, .75, 1],\n",
    "    \"cv\": 5,\n",
    "    \"score_type\": \"both\",\n",
    "    \"n_jobs\": 4,\n",
    "    \"line_kw\": {\"marker\": \"o\"},\n",
    "    \"std_display_style\": \"fill_between\",\n",
    "    \"score_name\": \"Accuracy\",\n",
    "}"
   ]
  },
  {
   "cell_type": "code",
   "execution_count": 417,
   "id": "1ad81b7a-453e-4d1b-bbf4-610dd16df609",
   "metadata": {},
   "outputs": [
    {
     "data": {
      "text/plain": [
       "<sklearn.model_selection._plot.LearningCurveDisplay at 0x2751fb30710>"
      ]
     },
     "execution_count": 417,
     "metadata": {},
     "output_type": "execute_result"
    },
    {
     "data": {
      "image/png": "[encoded data removed]",
      "text/plain": [
       "<Figure size 640x480 with 1 Axes>"
      ]
     },
     "metadata": {},
     "output_type": "display_data"
    }
   ],
   "source": [
    "LearningCurveDisplay.from_estimator(clf, **params)"
   ]
  },
  {
   "cell_type": "markdown",
   "id": "91c86472-e159-424c-bea9-48d3e8ad4222",
   "metadata": {},
   "source": [
    "می‌بینیم که بالا رفتن تعداد داده آموزشی و تست به بهتر شدن دقت این مدل کمک می‌کند. پس هایپرپارامترهای ما به درستی عمل می‌کنند."
   ]
  },
  {
   "cell_type": "code",
   "execution_count": null,
   "id": "b4c945bd-a047-42a0-b923-ff7fb0ef6208",
   "metadata": {},
   "outputs": [],
   "source": []
  }
 ],
 "metadata": {
  "kernelspec": {
   "display_name": "Python 3 (ipykernel)",
   "language": "python",
   "name": "python3"
  },
  "language_info": {
   "codemirror_mode": {
    "name": "ipython",
    "version": 3
   },
   "file_extension": ".py",
   "mimetype": "text/x-python",
   "name": "python",
   "nbconvert_exporter": "python",
   "pygments_lexer": "ipython3",
   "version": "3.11.4"
  }
 },
 "nbformat": 4,
 "nbformat_minor": 5
}
