{
 "cells": [
  {
   "cell_type": "code",
   "execution_count": 1,
   "id": "cdac3356-1f49-4aba-b932-b5f6c7885ec6",
   "metadata": {},
   "outputs": [],
   "source": [
    "import pandas as pd\n",
    "import numpy as np\n",
    "from sklearn.model_selection import GridSearchCV\n",
    "from sklearn.tree import DecisionTreeClassifier\n",
    "from sklearn.model_selection import train_test_split\n",
    "from sklearn.preprocessing import StandardScaler, Normalizer\n",
    "from sklearn.metrics import accuracy_score\n",
    "import seaborn as sns"
   ]
  },
  {
   "cell_type": "code",
   "execution_count": 24,
   "id": "2994df56-6820-42ff-864b-f3f3748b9d8d",
   "metadata": {},
   "outputs": [],
   "source": [
    "X = pd.DataFrame(np.load('data/x.npy'))\n",
    "Y = pd.DataFrame(np.load('data/y.npy'))"
   ]
  },
  {
   "cell_type": "code",
   "execution_count": 25,
   "id": "713f25e8-a520-4bc9-90d9-e7090bd0bf49",
   "metadata": {},
   "outputs": [
    {
     "name": "stdout",
     "output_type": "stream",
     "text": [
      "<class 'pandas.core.frame.DataFrame'>\n",
      "RangeIndex: 4500 entries, 0 to 4499\n",
      "Data columns (total 40 columns):\n",
      " #   Column  Non-Null Count  Dtype  \n",
      "---  ------  --------------  -----  \n",
      " 0   0       4500 non-null   float64\n",
      " 1   1       4500 non-null   float64\n",
      " 2   2       4500 non-null   float64\n",
      " 3   3       4500 non-null   float64\n",
      " 4   4       4500 non-null   float64\n",
      " 5   5       4500 non-null   float64\n",
      " 6   6       4500 non-null   float64\n",
      " 7   7       4500 non-null   float64\n",
      " 8   8       4500 non-null   float64\n",
      " 9   9       4500 non-null   float64\n",
      " 10  10      4500 non-null   float64\n",
      " 11  11      4500 non-null   float64\n",
      " 12  12      4500 non-null   float64\n",
      " 13  13      4500 non-null   float64\n",
      " 14  14      4500 non-null   float64\n",
      " 15  15      4500 non-null   float64\n",
      " 16  16      4500 non-null   float64\n",
      " 17  17      4500 non-null   float64\n",
      " 18  18      4500 non-null   float64\n",
      " 19  19      4500 non-null   float64\n",
      " 20  20      4500 non-null   float64\n",
      " 21  21      4500 non-null   float64\n",
      " 22  22      4500 non-null   float64\n",
      " 23  23      4500 non-null   float64\n",
      " 24  24      4500 non-null   float64\n",
      " 25  25      4500 non-null   float64\n",
      " 26  26      4500 non-null   float64\n",
      " 27  27      4500 non-null   float64\n",
      " 28  28      4500 non-null   float64\n",
      " 29  29      4500 non-null   float64\n",
      " 30  30      4500 non-null   float64\n",
      " 31  31      4500 non-null   float64\n",
      " 32  32      4500 non-null   float64\n",
      " 33  33      4500 non-null   float64\n",
      " 34  34      4500 non-null   float64\n",
      " 35  35      4500 non-null   float64\n",
      " 36  36      4500 non-null   float64\n",
      " 37  37      4500 non-null   float64\n",
      " 38  38      4500 non-null   float64\n",
      " 39  39      4500 non-null   float64\n",
      "dtypes: float64(40)\n",
      "memory usage: 1.4 MB\n"
     ]
    }
   ],
   "source": [
    "X.info()"
   ]
  },
  {
   "cell_type": "code",
   "execution_count": 26,
   "id": "a121cf3b-6a06-4fae-aa4d-624798aed995",
   "metadata": {},
   "outputs": [
    {
     "data": {
      "text/plain": [
       "array([0, 1, 2, 3], dtype=int64)"
      ]
     },
     "execution_count": 26,
     "metadata": {},
     "output_type": "execute_result"
    }
   ],
   "source": [
    "np.unique(Y)"
   ]
  },
  {
   "cell_type": "code",
   "execution_count": 27,
   "id": "c9f63c6a-98d2-4b2b-9e34-9e63ff59c676",
   "metadata": {},
   "outputs": [
    {
     "data": {
      "text/html": [
       "<div>\n",
       "<style scoped>\n",
       "    .dataframe tbody tr th:only-of-type {\n",
       "        vertical-align: middle;\n",
       "    }\n",
       "\n",
       "    .dataframe tbody tr th {\n",
       "        vertical-align: top;\n",
       "    }\n",
       "\n",
       "    .dataframe thead th {\n",
       "        text-align: right;\n",
       "    }\n",
       "</style>\n",
       "<table border=\"1\" class=\"dataframe\">\n",
       "  <thead>\n",
       "    <tr style=\"text-align: right;\">\n",
       "      <th></th>\n",
       "      <th>0</th>\n",
       "      <th>1</th>\n",
       "      <th>2</th>\n",
       "      <th>3</th>\n",
       "      <th>4</th>\n",
       "      <th>5</th>\n",
       "      <th>6</th>\n",
       "      <th>7</th>\n",
       "      <th>8</th>\n",
       "      <th>9</th>\n",
       "      <th>...</th>\n",
       "      <th>30</th>\n",
       "      <th>31</th>\n",
       "      <th>32</th>\n",
       "      <th>33</th>\n",
       "      <th>34</th>\n",
       "      <th>35</th>\n",
       "      <th>36</th>\n",
       "      <th>37</th>\n",
       "      <th>38</th>\n",
       "      <th>39</th>\n",
       "    </tr>\n",
       "  </thead>\n",
       "  <tbody>\n",
       "    <tr>\n",
       "      <th>count</th>\n",
       "      <td>4500.000000</td>\n",
       "      <td>4500.000000</td>\n",
       "      <td>4500.000000</td>\n",
       "      <td>4500.000000</td>\n",
       "      <td>4500.000000</td>\n",
       "      <td>4500.000000</td>\n",
       "      <td>4500.000000</td>\n",
       "      <td>4500.000000</td>\n",
       "      <td>4500.000000</td>\n",
       "      <td>4500.000000</td>\n",
       "      <td>...</td>\n",
       "      <td>4500.000000</td>\n",
       "      <td>4500.000000</td>\n",
       "      <td>4500.000000</td>\n",
       "      <td>4500.000000</td>\n",
       "      <td>4500.000000</td>\n",
       "      <td>4500.000000</td>\n",
       "      <td>4500.000000</td>\n",
       "      <td>4500.000000</td>\n",
       "      <td>4500.000000</td>\n",
       "      <td>4500.000000</td>\n",
       "    </tr>\n",
       "    <tr>\n",
       "      <th>mean</th>\n",
       "      <td>0.023235</td>\n",
       "      <td>0.007021</td>\n",
       "      <td>0.011754</td>\n",
       "      <td>-0.003095</td>\n",
       "      <td>0.013149</td>\n",
       "      <td>-0.020422</td>\n",
       "      <td>0.009327</td>\n",
       "      <td>0.001103</td>\n",
       "      <td>-0.021455</td>\n",
       "      <td>-0.006206</td>\n",
       "      <td>...</td>\n",
       "      <td>-0.001518</td>\n",
       "      <td>-0.011286</td>\n",
       "      <td>-0.001946</td>\n",
       "      <td>-0.015873</td>\n",
       "      <td>-0.008468</td>\n",
       "      <td>0.017861</td>\n",
       "      <td>-0.009448</td>\n",
       "      <td>0.021053</td>\n",
       "      <td>0.002734</td>\n",
       "      <td>0.009441</td>\n",
       "    </tr>\n",
       "    <tr>\n",
       "      <th>std</th>\n",
       "      <td>1.011441</td>\n",
       "      <td>1.009557</td>\n",
       "      <td>1.002300</td>\n",
       "      <td>1.011032</td>\n",
       "      <td>0.981847</td>\n",
       "      <td>1.009492</td>\n",
       "      <td>0.992947</td>\n",
       "      <td>1.540690</td>\n",
       "      <td>0.988098</td>\n",
       "      <td>1.012960</td>\n",
       "      <td>...</td>\n",
       "      <td>2.364159</td>\n",
       "      <td>1.013165</td>\n",
       "      <td>1.581581</td>\n",
       "      <td>1.001157</td>\n",
       "      <td>0.979978</td>\n",
       "      <td>0.985624</td>\n",
       "      <td>1.003803</td>\n",
       "      <td>1.006739</td>\n",
       "      <td>1.554479</td>\n",
       "      <td>0.987810</td>\n",
       "    </tr>\n",
       "    <tr>\n",
       "      <th>min</th>\n",
       "      <td>-3.419822</td>\n",
       "      <td>-3.271209</td>\n",
       "      <td>-4.652939</td>\n",
       "      <td>-3.746419</td>\n",
       "      <td>-4.039535</td>\n",
       "      <td>-4.409496</td>\n",
       "      <td>-4.183708</td>\n",
       "      <td>-6.510460</td>\n",
       "      <td>-3.995664</td>\n",
       "      <td>-3.594089</td>\n",
       "      <td>...</td>\n",
       "      <td>-8.231544</td>\n",
       "      <td>-3.659713</td>\n",
       "      <td>-5.043048</td>\n",
       "      <td>-3.694611</td>\n",
       "      <td>-4.238773</td>\n",
       "      <td>-3.163876</td>\n",
       "      <td>-3.730627</td>\n",
       "      <td>-3.429746</td>\n",
       "      <td>-5.406026</td>\n",
       "      <td>-3.936520</td>\n",
       "    </tr>\n",
       "    <tr>\n",
       "      <th>25%</th>\n",
       "      <td>-0.662904</td>\n",
       "      <td>-0.661335</td>\n",
       "      <td>-0.651217</td>\n",
       "      <td>-0.689380</td>\n",
       "      <td>-0.639004</td>\n",
       "      <td>-0.688032</td>\n",
       "      <td>-0.643981</td>\n",
       "      <td>-1.085360</td>\n",
       "      <td>-0.678617</td>\n",
       "      <td>-0.685901</td>\n",
       "      <td>...</td>\n",
       "      <td>-1.487367</td>\n",
       "      <td>-0.705141</td>\n",
       "      <td>-1.129620</td>\n",
       "      <td>-0.675682</td>\n",
       "      <td>-0.657452</td>\n",
       "      <td>-0.635898</td>\n",
       "      <td>-0.684310</td>\n",
       "      <td>-0.663322</td>\n",
       "      <td>-1.112748</td>\n",
       "      <td>-0.662121</td>\n",
       "    </tr>\n",
       "    <tr>\n",
       "      <th>50%</th>\n",
       "      <td>-0.001780</td>\n",
       "      <td>0.004024</td>\n",
       "      <td>-0.001247</td>\n",
       "      <td>0.008359</td>\n",
       "      <td>-0.003625</td>\n",
       "      <td>-0.018222</td>\n",
       "      <td>-0.009191</td>\n",
       "      <td>-0.187166</td>\n",
       "      <td>-0.033956</td>\n",
       "      <td>0.017288</td>\n",
       "      <td>...</td>\n",
       "      <td>-0.045709</td>\n",
       "      <td>-0.033666</td>\n",
       "      <td>-0.047074</td>\n",
       "      <td>0.003345</td>\n",
       "      <td>-0.021129</td>\n",
       "      <td>-0.007427</td>\n",
       "      <td>-0.012452</td>\n",
       "      <td>0.021610</td>\n",
       "      <td>0.034374</td>\n",
       "      <td>0.002324</td>\n",
       "    </tr>\n",
       "    <tr>\n",
       "      <th>75%</th>\n",
       "      <td>0.713487</td>\n",
       "      <td>0.692120</td>\n",
       "      <td>0.689407</td>\n",
       "      <td>0.684995</td>\n",
       "      <td>0.668438</td>\n",
       "      <td>0.672323</td>\n",
       "      <td>0.690023</td>\n",
       "      <td>1.071335</td>\n",
       "      <td>0.662741</td>\n",
       "      <td>0.688522</td>\n",
       "      <td>...</td>\n",
       "      <td>1.435304</td>\n",
       "      <td>0.674686</td>\n",
       "      <td>1.087459</td>\n",
       "      <td>0.670581</td>\n",
       "      <td>0.667430</td>\n",
       "      <td>0.679187</td>\n",
       "      <td>0.666872</td>\n",
       "      <td>0.716877</td>\n",
       "      <td>1.157032</td>\n",
       "      <td>0.670007</td>\n",
       "    </tr>\n",
       "    <tr>\n",
       "      <th>max</th>\n",
       "      <td>3.515532</td>\n",
       "      <td>3.812285</td>\n",
       "      <td>3.734947</td>\n",
       "      <td>3.586487</td>\n",
       "      <td>3.696180</td>\n",
       "      <td>3.095314</td>\n",
       "      <td>3.475050</td>\n",
       "      <td>6.780067</td>\n",
       "      <td>3.236335</td>\n",
       "      <td>3.992827</td>\n",
       "      <td>...</td>\n",
       "      <td>10.505966</td>\n",
       "      <td>3.999207</td>\n",
       "      <td>5.634102</td>\n",
       "      <td>3.218922</td>\n",
       "      <td>3.210290</td>\n",
       "      <td>3.520070</td>\n",
       "      <td>3.735699</td>\n",
       "      <td>3.746542</td>\n",
       "      <td>4.361083</td>\n",
       "      <td>3.183437</td>\n",
       "    </tr>\n",
       "  </tbody>\n",
       "</table>\n",
       "<p>8 rows × 40 columns</p>\n",
       "</div>"
      ],
      "text/plain": [
       "                0            1            2            3            4   \\\n",
       "count  4500.000000  4500.000000  4500.000000  4500.000000  4500.000000   \n",
       "mean      0.023235     0.007021     0.011754    -0.003095     0.013149   \n",
       "std       1.011441     1.009557     1.002300     1.011032     0.981847   \n",
       "min      -3.419822    -3.271209    -4.652939    -3.746419    -4.039535   \n",
       "25%      -0.662904    -0.661335    -0.651217    -0.689380    -0.639004   \n",
       "50%      -0.001780     0.004024    -0.001247     0.008359    -0.003625   \n",
       "75%       0.713487     0.692120     0.689407     0.684995     0.668438   \n",
       "max       3.515532     3.812285     3.734947     3.586487     3.696180   \n",
       "\n",
       "                5            6            7            8            9   ...  \\\n",
       "count  4500.000000  4500.000000  4500.000000  4500.000000  4500.000000  ...   \n",
       "mean     -0.020422     0.009327     0.001103    -0.021455    -0.006206  ...   \n",
       "std       1.009492     0.992947     1.540690     0.988098     1.012960  ...   \n",
       "min      -4.409496    -4.183708    -6.510460    -3.995664    -3.594089  ...   \n",
       "25%      -0.688032    -0.643981    -1.085360    -0.678617    -0.685901  ...   \n",
       "50%      -0.018222    -0.009191    -0.187166    -0.033956     0.017288  ...   \n",
       "75%       0.672323     0.690023     1.071335     0.662741     0.688522  ...   \n",
       "max       3.095314     3.475050     6.780067     3.236335     3.992827  ...   \n",
       "\n",
       "                30           31           32           33           34  \\\n",
       "count  4500.000000  4500.000000  4500.000000  4500.000000  4500.000000   \n",
       "mean     -0.001518    -0.011286    -0.001946    -0.015873    -0.008468   \n",
       "std       2.364159     1.013165     1.581581     1.001157     0.979978   \n",
       "min      -8.231544    -3.659713    -5.043048    -3.694611    -4.238773   \n",
       "25%      -1.487367    -0.705141    -1.129620    -0.675682    -0.657452   \n",
       "50%      -0.045709    -0.033666    -0.047074     0.003345    -0.021129   \n",
       "75%       1.435304     0.674686     1.087459     0.670581     0.667430   \n",
       "max      10.505966     3.999207     5.634102     3.218922     3.210290   \n",
       "\n",
       "                35           36           37           38           39  \n",
       "count  4500.000000  4500.000000  4500.000000  4500.000000  4500.000000  \n",
       "mean      0.017861    -0.009448     0.021053     0.002734     0.009441  \n",
       "std       0.985624     1.003803     1.006739     1.554479     0.987810  \n",
       "min      -3.163876    -3.730627    -3.429746    -5.406026    -3.936520  \n",
       "25%      -0.635898    -0.684310    -0.663322    -1.112748    -0.662121  \n",
       "50%      -0.007427    -0.012452     0.021610     0.034374     0.002324  \n",
       "75%       0.679187     0.666872     0.716877     1.157032     0.670007  \n",
       "max       3.520070     3.735699     3.746542     4.361083     3.183437  \n",
       "\n",
       "[8 rows x 40 columns]"
      ]
     },
     "execution_count": 27,
     "metadata": {},
     "output_type": "execute_result"
    }
   ],
   "source": [
    "X.describe()"
   ]
  },
  {
   "cell_type": "code",
   "execution_count": 28,
   "id": "de08e639-a3ea-47c0-b379-a80592849faa",
   "metadata": {},
   "outputs": [],
   "source": [
    "df = pd.concat([X, Y.rename(columns={0:40})],axis=1)"
   ]
  },
  {
   "cell_type": "markdown",
   "id": "f6d54452-8fbc-43bf-bc7e-bd9aeea05a06",
   "metadata": {},
   "source": [
    "# plot the distribution of features comparing with each other"
   ]
  },
  {
   "cell_type": "code",
   "execution_count": 29,
   "id": "69937183-dd11-4ced-9eb7-f3eb609b9b58",
   "metadata": {},
   "outputs": [],
   "source": [
    "# sns.pairplot(df, \n",
    "#              vars = df.columns, \n",
    "#              hue = 40., diag_kind = 'kde', \n",
    "#              plot_kws = {'alpha': 0.6, 's': 80, 'edgecolor': 'k'},\n",
    "#              size = 4);"
   ]
  },
  {
   "cell_type": "markdown",
   "id": "b4092769-6bb0-41cc-9fc9-0e9015942e42",
   "metadata": {},
   "source": [
    "# Normalization"
   ]
  },
  {
   "cell_type": "code",
   "execution_count": 30,
   "id": "e496a8aa-4702-4fec-b60b-5f866d60b092",
   "metadata": {},
   "outputs": [],
   "source": [
    "transformed = Normalizer().fit_transform(X)"
   ]
  },
  {
   "cell_type": "code",
   "execution_count": 31,
   "id": "e97d56b0-5d32-43cf-ab7a-ca7866ce306b",
   "metadata": {},
   "outputs": [
    {
     "data": {
      "text/html": [
       "<div>\n",
       "<style scoped>\n",
       "    .dataframe tbody tr th:only-of-type {\n",
       "        vertical-align: middle;\n",
       "    }\n",
       "\n",
       "    .dataframe tbody tr th {\n",
       "        vertical-align: top;\n",
       "    }\n",
       "\n",
       "    .dataframe thead th {\n",
       "        text-align: right;\n",
       "    }\n",
       "</style>\n",
       "<table border=\"1\" class=\"dataframe\">\n",
       "  <thead>\n",
       "    <tr style=\"text-align: right;\">\n",
       "      <th></th>\n",
       "      <th>0</th>\n",
       "      <th>1</th>\n",
       "      <th>2</th>\n",
       "      <th>3</th>\n",
       "      <th>4</th>\n",
       "      <th>5</th>\n",
       "      <th>6</th>\n",
       "      <th>7</th>\n",
       "      <th>8</th>\n",
       "      <th>9</th>\n",
       "      <th>...</th>\n",
       "      <th>30</th>\n",
       "      <th>31</th>\n",
       "      <th>32</th>\n",
       "      <th>33</th>\n",
       "      <th>34</th>\n",
       "      <th>35</th>\n",
       "      <th>36</th>\n",
       "      <th>37</th>\n",
       "      <th>38</th>\n",
       "      <th>39</th>\n",
       "    </tr>\n",
       "  </thead>\n",
       "  <tbody>\n",
       "    <tr>\n",
       "      <th>count</th>\n",
       "      <td>4500.000000</td>\n",
       "      <td>4500.000000</td>\n",
       "      <td>4500.000000</td>\n",
       "      <td>4500.000000</td>\n",
       "      <td>4500.000000</td>\n",
       "      <td>4500.000000</td>\n",
       "      <td>4500.000000</td>\n",
       "      <td>4500.000000</td>\n",
       "      <td>4500.000000</td>\n",
       "      <td>4500.000000</td>\n",
       "      <td>...</td>\n",
       "      <td>4500.000000</td>\n",
       "      <td>4500.000000</td>\n",
       "      <td>4500.000000</td>\n",
       "      <td>4500.000000</td>\n",
       "      <td>4500.000000</td>\n",
       "      <td>4500.000000</td>\n",
       "      <td>4500.000000</td>\n",
       "      <td>4500.000000</td>\n",
       "      <td>4500.000000</td>\n",
       "      <td>4500.000000</td>\n",
       "    </tr>\n",
       "    <tr>\n",
       "      <th>mean</th>\n",
       "      <td>0.003104</td>\n",
       "      <td>0.000910</td>\n",
       "      <td>0.001950</td>\n",
       "      <td>0.000144</td>\n",
       "      <td>0.001870</td>\n",
       "      <td>-0.002856</td>\n",
       "      <td>0.001395</td>\n",
       "      <td>-0.002114</td>\n",
       "      <td>-0.003110</td>\n",
       "      <td>-0.000050</td>\n",
       "      <td>...</td>\n",
       "      <td>-0.004571</td>\n",
       "      <td>-0.001844</td>\n",
       "      <td>-0.002339</td>\n",
       "      <td>-0.002017</td>\n",
       "      <td>-0.001669</td>\n",
       "      <td>0.002767</td>\n",
       "      <td>-0.001359</td>\n",
       "      <td>0.002146</td>\n",
       "      <td>0.000004</td>\n",
       "      <td>0.001218</td>\n",
       "    </tr>\n",
       "    <tr>\n",
       "      <th>std</th>\n",
       "      <td>0.141634</td>\n",
       "      <td>0.140391</td>\n",
       "      <td>0.139349</td>\n",
       "      <td>0.139923</td>\n",
       "      <td>0.136298</td>\n",
       "      <td>0.140584</td>\n",
       "      <td>0.137884</td>\n",
       "      <td>0.194735</td>\n",
       "      <td>0.138142</td>\n",
       "      <td>0.141277</td>\n",
       "      <td>...</td>\n",
       "      <td>0.287740</td>\n",
       "      <td>0.141490</td>\n",
       "      <td>0.195492</td>\n",
       "      <td>0.139476</td>\n",
       "      <td>0.136653</td>\n",
       "      <td>0.137378</td>\n",
       "      <td>0.139420</td>\n",
       "      <td>0.139376</td>\n",
       "      <td>0.203480</td>\n",
       "      <td>0.137025</td>\n",
       "    </tr>\n",
       "    <tr>\n",
       "      <th>min</th>\n",
       "      <td>-0.514003</td>\n",
       "      <td>-0.457719</td>\n",
       "      <td>-0.590469</td>\n",
       "      <td>-0.521952</td>\n",
       "      <td>-0.518842</td>\n",
       "      <td>-0.553483</td>\n",
       "      <td>-0.512896</td>\n",
       "      <td>-0.460932</td>\n",
       "      <td>-0.542156</td>\n",
       "      <td>-0.510916</td>\n",
       "      <td>...</td>\n",
       "      <td>-0.659970</td>\n",
       "      <td>-0.464278</td>\n",
       "      <td>-0.456229</td>\n",
       "      <td>-0.539454</td>\n",
       "      <td>-0.568619</td>\n",
       "      <td>-0.475485</td>\n",
       "      <td>-0.585731</td>\n",
       "      <td>-0.443852</td>\n",
       "      <td>-0.589192</td>\n",
       "      <td>-0.482510</td>\n",
       "    </tr>\n",
       "    <tr>\n",
       "      <th>25%</th>\n",
       "      <td>-0.089578</td>\n",
       "      <td>-0.092807</td>\n",
       "      <td>-0.089632</td>\n",
       "      <td>-0.096201</td>\n",
       "      <td>-0.088810</td>\n",
       "      <td>-0.095145</td>\n",
       "      <td>-0.088947</td>\n",
       "      <td>-0.154208</td>\n",
       "      <td>-0.094391</td>\n",
       "      <td>-0.095363</td>\n",
       "      <td>...</td>\n",
       "      <td>-0.213879</td>\n",
       "      <td>-0.096259</td>\n",
       "      <td>-0.160951</td>\n",
       "      <td>-0.092280</td>\n",
       "      <td>-0.090964</td>\n",
       "      <td>-0.087920</td>\n",
       "      <td>-0.093424</td>\n",
       "      <td>-0.093637</td>\n",
       "      <td>-0.157390</td>\n",
       "      <td>-0.089683</td>\n",
       "    </tr>\n",
       "    <tr>\n",
       "      <th>50%</th>\n",
       "      <td>-0.000313</td>\n",
       "      <td>0.000552</td>\n",
       "      <td>-0.000165</td>\n",
       "      <td>0.001042</td>\n",
       "      <td>-0.000477</td>\n",
       "      <td>-0.002528</td>\n",
       "      <td>-0.001287</td>\n",
       "      <td>-0.027163</td>\n",
       "      <td>-0.004106</td>\n",
       "      <td>0.002258</td>\n",
       "      <td>...</td>\n",
       "      <td>-0.006810</td>\n",
       "      <td>-0.004346</td>\n",
       "      <td>-0.007623</td>\n",
       "      <td>0.000469</td>\n",
       "      <td>-0.002696</td>\n",
       "      <td>-0.001128</td>\n",
       "      <td>-0.001714</td>\n",
       "      <td>0.002927</td>\n",
       "      <td>0.004939</td>\n",
       "      <td>0.000290</td>\n",
       "    </tr>\n",
       "    <tr>\n",
       "      <th>75%</th>\n",
       "      <td>0.097359</td>\n",
       "      <td>0.093517</td>\n",
       "      <td>0.095193</td>\n",
       "      <td>0.095175</td>\n",
       "      <td>0.092563</td>\n",
       "      <td>0.093232</td>\n",
       "      <td>0.093485</td>\n",
       "      <td>0.151020</td>\n",
       "      <td>0.089798</td>\n",
       "      <td>0.093049</td>\n",
       "      <td>...</td>\n",
       "      <td>0.205372</td>\n",
       "      <td>0.092453</td>\n",
       "      <td>0.156039</td>\n",
       "      <td>0.092468</td>\n",
       "      <td>0.089342</td>\n",
       "      <td>0.092820</td>\n",
       "      <td>0.092627</td>\n",
       "      <td>0.097086</td>\n",
       "      <td>0.161613</td>\n",
       "      <td>0.092211</td>\n",
       "    </tr>\n",
       "    <tr>\n",
       "      <th>max</th>\n",
       "      <td>0.477971</td>\n",
       "      <td>0.504343</td>\n",
       "      <td>0.515191</td>\n",
       "      <td>0.447403</td>\n",
       "      <td>0.565184</td>\n",
       "      <td>0.466296</td>\n",
       "      <td>0.537455</td>\n",
       "      <td>0.490715</td>\n",
       "      <td>0.489998</td>\n",
       "      <td>0.528857</td>\n",
       "      <td>...</td>\n",
       "      <td>0.724064</td>\n",
       "      <td>0.466402</td>\n",
       "      <td>0.476738</td>\n",
       "      <td>0.502947</td>\n",
       "      <td>0.479160</td>\n",
       "      <td>0.486511</td>\n",
       "      <td>0.497175</td>\n",
       "      <td>0.550092</td>\n",
       "      <td>0.481511</td>\n",
       "      <td>0.474479</td>\n",
       "    </tr>\n",
       "  </tbody>\n",
       "</table>\n",
       "<p>8 rows × 40 columns</p>\n",
       "</div>"
      ],
      "text/plain": [
       "                0            1            2            3            4   \\\n",
       "count  4500.000000  4500.000000  4500.000000  4500.000000  4500.000000   \n",
       "mean      0.003104     0.000910     0.001950     0.000144     0.001870   \n",
       "std       0.141634     0.140391     0.139349     0.139923     0.136298   \n",
       "min      -0.514003    -0.457719    -0.590469    -0.521952    -0.518842   \n",
       "25%      -0.089578    -0.092807    -0.089632    -0.096201    -0.088810   \n",
       "50%      -0.000313     0.000552    -0.000165     0.001042    -0.000477   \n",
       "75%       0.097359     0.093517     0.095193     0.095175     0.092563   \n",
       "max       0.477971     0.504343     0.515191     0.447403     0.565184   \n",
       "\n",
       "                5            6            7            8            9   ...  \\\n",
       "count  4500.000000  4500.000000  4500.000000  4500.000000  4500.000000  ...   \n",
       "mean     -0.002856     0.001395    -0.002114    -0.003110    -0.000050  ...   \n",
       "std       0.140584     0.137884     0.194735     0.138142     0.141277  ...   \n",
       "min      -0.553483    -0.512896    -0.460932    -0.542156    -0.510916  ...   \n",
       "25%      -0.095145    -0.088947    -0.154208    -0.094391    -0.095363  ...   \n",
       "50%      -0.002528    -0.001287    -0.027163    -0.004106     0.002258  ...   \n",
       "75%       0.093232     0.093485     0.151020     0.089798     0.093049  ...   \n",
       "max       0.466296     0.537455     0.490715     0.489998     0.528857  ...   \n",
       "\n",
       "                30           31           32           33           34  \\\n",
       "count  4500.000000  4500.000000  4500.000000  4500.000000  4500.000000   \n",
       "mean     -0.004571    -0.001844    -0.002339    -0.002017    -0.001669   \n",
       "std       0.287740     0.141490     0.195492     0.139476     0.136653   \n",
       "min      -0.659970    -0.464278    -0.456229    -0.539454    -0.568619   \n",
       "25%      -0.213879    -0.096259    -0.160951    -0.092280    -0.090964   \n",
       "50%      -0.006810    -0.004346    -0.007623     0.000469    -0.002696   \n",
       "75%       0.205372     0.092453     0.156039     0.092468     0.089342   \n",
       "max       0.724064     0.466402     0.476738     0.502947     0.479160   \n",
       "\n",
       "                35           36           37           38           39  \n",
       "count  4500.000000  4500.000000  4500.000000  4500.000000  4500.000000  \n",
       "mean      0.002767    -0.001359     0.002146     0.000004     0.001218  \n",
       "std       0.137378     0.139420     0.139376     0.203480     0.137025  \n",
       "min      -0.475485    -0.585731    -0.443852    -0.589192    -0.482510  \n",
       "25%      -0.087920    -0.093424    -0.093637    -0.157390    -0.089683  \n",
       "50%      -0.001128    -0.001714     0.002927     0.004939     0.000290  \n",
       "75%       0.092820     0.092627     0.097086     0.161613     0.092211  \n",
       "max       0.486511     0.497175     0.550092     0.481511     0.474479  \n",
       "\n",
       "[8 rows x 40 columns]"
      ]
     },
     "execution_count": 31,
     "metadata": {},
     "output_type": "execute_result"
    }
   ],
   "source": [
    "features = pd.DataFrame(transformed)\n",
    "features.describe()"
   ]
  },
  {
   "cell_type": "code",
   "execution_count": 32,
   "id": "37599d21-4a97-432b-bebf-628732eb4565",
   "metadata": {},
   "outputs": [
    {
     "data": {
      "text/plain": [
       "2    1129\n",
       "1    1124\n",
       "3    1124\n",
       "0    1123\n",
       "Name: count, dtype: int64"
      ]
     },
     "execution_count": 32,
     "metadata": {},
     "output_type": "execute_result"
    }
   ],
   "source": [
    "Y.value_counts()"
   ]
  },
  {
   "cell_type": "code",
   "execution_count": 34,
   "id": "041fa33c-96d8-49f0-ace8-ab87da3d4aca",
   "metadata": {},
   "outputs": [],
   "source": [
    "target = Y.replace({0:'ClassA', 1:'ClassB', 2:'ClassC', 3:'ClassD'})"
   ]
  },
  {
   "cell_type": "code",
   "execution_count": 35,
   "id": "7d47c3b1-6bef-42d9-803a-d2ab75fe8c12",
   "metadata": {},
   "outputs": [],
   "source": [
    "x_train, x_test, y_train, y_test = train_test_split(features, target, test_size=.25)"
   ]
  },
  {
   "cell_type": "code",
   "execution_count": 61,
   "id": "5819383a-39c7-4998-b861-94f2957ff07f",
   "metadata": {},
   "outputs": [],
   "source": [
    "estimator = DecisionTreeClassifier()\n",
    "hyperparameters = {\n",
    "    'criterion' : ('gini', 'entropy', 'log_loss'),\n",
    "    'splitter' : ('best', 'random'),\n",
    "    'max_depth' : [5, 10, 15],\n",
    "    'min_samples_split' : [2, 3, 4, 5],\n",
    "    'min_samples_leaf' : [1, 2, 3],\n",
    "    'max_features' : ('sqrt', 'log2'),\n",
    "    # 'random_state' : [0],\n",
    "}\n",
    "\n",
    "clf = GridSearchCV(estimator=estimator, param_grid=hyperparameters,return_train_score=True , cv=5, scoring='accuracy')"
   ]
  },
  {
   "cell_type": "code",
   "execution_count": 62,
   "id": "4f9763f4-b166-44e3-a186-7c4a46b04261",
   "metadata": {},
   "outputs": [
    {
     "data": {
      "text/html": [
       "<style>#sk-container-id-7 {color: black;}#sk-container-id-7 pre{padding: 0;}#sk-container-id-7 div.sk-toggleable {background-color: white;}#sk-container-id-7 label.sk-toggleable__label {cursor: pointer;display: block;width: 100%;margin-bottom: 0;padding: 0.3em;box-sizing: border-box;text-align: center;}#sk-container-id-7 label.sk-toggleable__label-arrow:before {content: \"▸\";float: left;margin-right: 0.25em;color: #696969;}#sk-container-id-7 label.sk-toggleable__label-arrow:hover:before {color: black;}#sk-container-id-7 div.sk-estimator:hover label.sk-toggleable__label-arrow:before {color: black;}#sk-container-id-7 div.sk-toggleable__content {max-height: 0;max-width: 0;overflow: hidden;text-align: left;background-color: #f0f8ff;}#sk-container-id-7 div.sk-toggleable__content pre {margin: 0.2em;color: black;border-radius: 0.25em;background-color: #f0f8ff;}#sk-container-id-7 input.sk-toggleable__control:checked~div.sk-toggleable__content {max-height: 200px;max-width: 100%;overflow: auto;}#sk-container-id-7 input.sk-toggleable__control:checked~label.sk-toggleable__label-arrow:before {content: \"▾\";}#sk-container-id-7 div.sk-estimator input.sk-toggleable__control:checked~label.sk-toggleable__label {background-color: #d4ebff;}#sk-container-id-7 div.sk-label input.sk-toggleable__control:checked~label.sk-toggleable__label {background-color: #d4ebff;}#sk-container-id-7 input.sk-hidden--visually {border: 0;clip: rect(1px 1px 1px 1px);clip: rect(1px, 1px, 1px, 1px);height: 1px;margin: -1px;overflow: hidden;padding: 0;position: absolute;width: 1px;}#sk-container-id-7 div.sk-estimator {font-family: monospace;background-color: #f0f8ff;border: 1px dotted black;border-radius: 0.25em;box-sizing: border-box;margin-bottom: 0.5em;}#sk-container-id-7 div.sk-estimator:hover {background-color: #d4ebff;}#sk-container-id-7 div.sk-parallel-item::after {content: \"\";width: 100%;border-bottom: 1px solid gray;flex-grow: 1;}#sk-container-id-7 div.sk-label:hover label.sk-toggleable__label {background-color: #d4ebff;}#sk-container-id-7 div.sk-serial::before {content: \"\";position: absolute;border-left: 1px solid gray;box-sizing: border-box;top: 0;bottom: 0;left: 50%;z-index: 0;}#sk-container-id-7 div.sk-serial {display: flex;flex-direction: column;align-items: center;background-color: white;padding-right: 0.2em;padding-left: 0.2em;position: relative;}#sk-container-id-7 div.sk-item {position: relative;z-index: 1;}#sk-container-id-7 div.sk-parallel {display: flex;align-items: stretch;justify-content: center;background-color: white;position: relative;}#sk-container-id-7 div.sk-item::before, #sk-container-id-7 div.sk-parallel-item::before {content: \"\";position: absolute;border-left: 1px solid gray;box-sizing: border-box;top: 0;bottom: 0;left: 50%;z-index: -1;}#sk-container-id-7 div.sk-parallel-item {display: flex;flex-direction: column;z-index: 1;position: relative;background-color: white;}#sk-container-id-7 div.sk-parallel-item:first-child::after {align-self: flex-end;width: 50%;}#sk-container-id-7 div.sk-parallel-item:last-child::after {align-self: flex-start;width: 50%;}#sk-container-id-7 div.sk-parallel-item:only-child::after {width: 0;}#sk-container-id-7 div.sk-dashed-wrapped {border: 1px dashed gray;margin: 0 0.4em 0.5em 0.4em;box-sizing: border-box;padding-bottom: 0.4em;background-color: white;}#sk-container-id-7 div.sk-label label {font-family: monospace;font-weight: bold;display: inline-block;line-height: 1.2em;}#sk-container-id-7 div.sk-label-container {text-align: center;}#sk-container-id-7 div.sk-container {/* jupyter's `normalize.less` sets `[hidden] { display: none; }` but bootstrap.min.css set `[hidden] { display: none !important; }` so we also need the `!important` here to be able to override the default hidden behavior on the sphinx rendered scikit-learn.org. See: https://github.com/scikit-learn/scikit-learn/issues/21755 */display: inline-block !important;position: relative;}#sk-container-id-7 div.sk-text-repr-fallback {display: none;}</style><div id=\"sk-container-id-7\" class=\"sk-top-container\"><div class=\"sk-text-repr-fallback\"><pre>GridSearchCV(cv=5, estimator=DecisionTreeClassifier(),\n",
       "             param_grid={&#x27;criterion&#x27;: (&#x27;gini&#x27;, &#x27;entropy&#x27;, &#x27;log_loss&#x27;),\n",
       "                         &#x27;max_depth&#x27;: [5, 10, 15],\n",
       "                         &#x27;max_features&#x27;: (&#x27;sqrt&#x27;, &#x27;log2&#x27;),\n",
       "                         &#x27;min_samples_leaf&#x27;: [1, 2, 3],\n",
       "                         &#x27;min_samples_split&#x27;: [2, 3, 4, 5],\n",
       "                         &#x27;splitter&#x27;: (&#x27;best&#x27;, &#x27;random&#x27;)},\n",
       "             return_train_score=True, scoring=&#x27;accuracy&#x27;)</pre><b>In a Jupyter environment, please rerun this cell to show the HTML representation or trust the notebook. <br />On GitHub, the HTML representation is unable to render, please try loading this page with nbviewer.org.</b></div><div class=\"sk-container\" hidden><div class=\"sk-item sk-dashed-wrapped\"><div class=\"sk-label-container\"><div class=\"sk-label sk-toggleable\"><input class=\"sk-toggleable__control sk-hidden--visually\" id=\"sk-estimator-id-19\" type=\"checkbox\" ><label for=\"sk-estimator-id-19\" class=\"sk-toggleable__label sk-toggleable__label-arrow\">GridSearchCV</label><div class=\"sk-toggleable__content\"><pre>GridSearchCV(cv=5, estimator=DecisionTreeClassifier(),\n",
       "             param_grid={&#x27;criterion&#x27;: (&#x27;gini&#x27;, &#x27;entropy&#x27;, &#x27;log_loss&#x27;),\n",
       "                         &#x27;max_depth&#x27;: [5, 10, 15],\n",
       "                         &#x27;max_features&#x27;: (&#x27;sqrt&#x27;, &#x27;log2&#x27;),\n",
       "                         &#x27;min_samples_leaf&#x27;: [1, 2, 3],\n",
       "                         &#x27;min_samples_split&#x27;: [2, 3, 4, 5],\n",
       "                         &#x27;splitter&#x27;: (&#x27;best&#x27;, &#x27;random&#x27;)},\n",
       "             return_train_score=True, scoring=&#x27;accuracy&#x27;)</pre></div></div></div><div class=\"sk-parallel\"><div class=\"sk-parallel-item\"><div class=\"sk-item\"><div class=\"sk-label-container\"><div class=\"sk-label sk-toggleable\"><input class=\"sk-toggleable__control sk-hidden--visually\" id=\"sk-estimator-id-20\" type=\"checkbox\" ><label for=\"sk-estimator-id-20\" class=\"sk-toggleable__label sk-toggleable__label-arrow\">estimator: DecisionTreeClassifier</label><div class=\"sk-toggleable__content\"><pre>DecisionTreeClassifier()</pre></div></div></div><div class=\"sk-serial\"><div class=\"sk-item\"><div class=\"sk-estimator sk-toggleable\"><input class=\"sk-toggleable__control sk-hidden--visually\" id=\"sk-estimator-id-21\" type=\"checkbox\" ><label for=\"sk-estimator-id-21\" class=\"sk-toggleable__label sk-toggleable__label-arrow\">DecisionTreeClassifier</label><div class=\"sk-toggleable__content\"><pre>DecisionTreeClassifier()</pre></div></div></div></div></div></div></div></div></div></div>"
      ],
      "text/plain": [
       "GridSearchCV(cv=5, estimator=DecisionTreeClassifier(),\n",
       "             param_grid={'criterion': ('gini', 'entropy', 'log_loss'),\n",
       "                         'max_depth': [5, 10, 15],\n",
       "                         'max_features': ('sqrt', 'log2'),\n",
       "                         'min_samples_leaf': [1, 2, 3],\n",
       "                         'min_samples_split': [2, 3, 4, 5],\n",
       "                         'splitter': ('best', 'random')},\n",
       "             return_train_score=True, scoring='accuracy')"
      ]
     },
     "execution_count": 62,
     "metadata": {},
     "output_type": "execute_result"
    }
   ],
   "source": [
    "fitted = clf.fit(x_train, y_train)\n",
    "fitted"
   ]
  },
  {
   "cell_type": "code",
   "execution_count": 63,
   "id": "4c4167c9-6385-46ca-8504-c1fe2a3cecb7",
   "metadata": {},
   "outputs": [
    {
     "data": {
      "text/plain": [
       "{'criterion': 'gini',\n",
       " 'max_depth': 5,\n",
       " 'max_features': 'sqrt',\n",
       " 'min_samples_leaf': 1,\n",
       " 'min_samples_split': 4,\n",
       " 'splitter': 'best'}"
      ]
     },
     "execution_count": 63,
     "metadata": {},
     "output_type": "execute_result"
    }
   ],
   "source": [
    "clf.best_params_"
   ]
  },
  {
   "cell_type": "code",
   "execution_count": 64,
   "id": "bb7a6b95-7507-4f70-a016-0f1d655c3425",
   "metadata": {},
   "outputs": [
    {
     "data": {
      "text/plain": [
       "0.6705185185185185"
      ]
     },
     "execution_count": 64,
     "metadata": {},
     "output_type": "execute_result"
    }
   ],
   "source": [
    "clf.score(x_train, y_train)"
   ]
  },
  {
   "cell_type": "markdown",
   "id": "49a80380-4500-4301-b609-4bd1eb8ef7f3",
   "metadata": {},
   "source": [
    "# No Touch 😁"
   ]
  },
  {
   "cell_type": "code",
   "execution_count": 59,
   "id": "9da9b4e3-758d-4fd5-8778-fbe256988080",
   "metadata": {},
   "outputs": [
    {
     "data": {
      "text/plain": [
       "{'criterion': 'gini',\n",
       " 'max_depth': 10,\n",
       " 'max_features': 'sqrt',\n",
       " 'min_samples_leaf': 1,\n",
       " 'min_samples_split': 5,\n",
       " 'splitter': 'best'}"
      ]
     },
     "execution_count": 59,
     "metadata": {},
     "output_type": "execute_result"
    }
   ],
   "source": [
    "# clf.best_params_"
   ]
  },
  {
   "cell_type": "code",
   "execution_count": 60,
   "id": "ab7810f1-5fb3-4608-b05e-b48745a28d52",
   "metadata": {},
   "outputs": [
    {
     "data": {
      "text/plain": [
       "0.8367407407407408"
      ]
     },
     "execution_count": 60,
     "metadata": {},
     "output_type": "execute_result"
    }
   ],
   "source": [
    "# clf.score(x_train, y_train)"
   ]
  },
  {
   "cell_type": "code",
   "execution_count": 242,
   "id": "ac732d96-cda5-4cbf-a05e-3c5299954e03",
   "metadata": {},
   "outputs": [
    {
     "data": {
      "text/html": [
       "<style>#sk-container-id-67 {color: black;}#sk-container-id-67 pre{padding: 0;}#sk-container-id-67 div.sk-toggleable {background-color: white;}#sk-container-id-67 label.sk-toggleable__label {cursor: pointer;display: block;width: 100%;margin-bottom: 0;padding: 0.3em;box-sizing: border-box;text-align: center;}#sk-container-id-67 label.sk-toggleable__label-arrow:before {content: \"▸\";float: left;margin-right: 0.25em;color: #696969;}#sk-container-id-67 label.sk-toggleable__label-arrow:hover:before {color: black;}#sk-container-id-67 div.sk-estimator:hover label.sk-toggleable__label-arrow:before {color: black;}#sk-container-id-67 div.sk-toggleable__content {max-height: 0;max-width: 0;overflow: hidden;text-align: left;background-color: #f0f8ff;}#sk-container-id-67 div.sk-toggleable__content pre {margin: 0.2em;color: black;border-radius: 0.25em;background-color: #f0f8ff;}#sk-container-id-67 input.sk-toggleable__control:checked~div.sk-toggleable__content {max-height: 200px;max-width: 100%;overflow: auto;}#sk-container-id-67 input.sk-toggleable__control:checked~label.sk-toggleable__label-arrow:before {content: \"▾\";}#sk-container-id-67 div.sk-estimator input.sk-toggleable__control:checked~label.sk-toggleable__label {background-color: #d4ebff;}#sk-container-id-67 div.sk-label input.sk-toggleable__control:checked~label.sk-toggleable__label {background-color: #d4ebff;}#sk-container-id-67 input.sk-hidden--visually {border: 0;clip: rect(1px 1px 1px 1px);clip: rect(1px, 1px, 1px, 1px);height: 1px;margin: -1px;overflow: hidden;padding: 0;position: absolute;width: 1px;}#sk-container-id-67 div.sk-estimator {font-family: monospace;background-color: #f0f8ff;border: 1px dotted black;border-radius: 0.25em;box-sizing: border-box;margin-bottom: 0.5em;}#sk-container-id-67 div.sk-estimator:hover {background-color: #d4ebff;}#sk-container-id-67 div.sk-parallel-item::after {content: \"\";width: 100%;border-bottom: 1px solid gray;flex-grow: 1;}#sk-container-id-67 div.sk-label:hover label.sk-toggleable__label {background-color: #d4ebff;}#sk-container-id-67 div.sk-serial::before {content: \"\";position: absolute;border-left: 1px solid gray;box-sizing: border-box;top: 0;bottom: 0;left: 50%;z-index: 0;}#sk-container-id-67 div.sk-serial {display: flex;flex-direction: column;align-items: center;background-color: white;padding-right: 0.2em;padding-left: 0.2em;position: relative;}#sk-container-id-67 div.sk-item {position: relative;z-index: 1;}#sk-container-id-67 div.sk-parallel {display: flex;align-items: stretch;justify-content: center;background-color: white;position: relative;}#sk-container-id-67 div.sk-item::before, #sk-container-id-67 div.sk-parallel-item::before {content: \"\";position: absolute;border-left: 1px solid gray;box-sizing: border-box;top: 0;bottom: 0;left: 50%;z-index: -1;}#sk-container-id-67 div.sk-parallel-item {display: flex;flex-direction: column;z-index: 1;position: relative;background-color: white;}#sk-container-id-67 div.sk-parallel-item:first-child::after {align-self: flex-end;width: 50%;}#sk-container-id-67 div.sk-parallel-item:last-child::after {align-self: flex-start;width: 50%;}#sk-container-id-67 div.sk-parallel-item:only-child::after {width: 0;}#sk-container-id-67 div.sk-dashed-wrapped {border: 1px dashed gray;margin: 0 0.4em 0.5em 0.4em;box-sizing: border-box;padding-bottom: 0.4em;background-color: white;}#sk-container-id-67 div.sk-label label {font-family: monospace;font-weight: bold;display: inline-block;line-height: 1.2em;}#sk-container-id-67 div.sk-label-container {text-align: center;}#sk-container-id-67 div.sk-container {/* jupyter's `normalize.less` sets `[hidden] { display: none; }` but bootstrap.min.css set `[hidden] { display: none !important; }` so we also need the `!important` here to be able to override the default hidden behavior on the sphinx rendered scikit-learn.org. See: https://github.com/scikit-learn/scikit-learn/issues/21755 */display: inline-block !important;position: relative;}#sk-container-id-67 div.sk-text-repr-fallback {display: none;}</style><div id=\"sk-container-id-67\" class=\"sk-top-container\"><div class=\"sk-text-repr-fallback\"><pre>DecisionTreeClassifier(criterion=&#x27;entropy&#x27;, max_depth=5, max_features=&#x27;sqrt&#x27;,\n",
       "                       min_samples_split=10, random_state=0)</pre><b>In a Jupyter environment, please rerun this cell to show the HTML representation or trust the notebook. <br />On GitHub, the HTML representation is unable to render, please try loading this page with nbviewer.org.</b></div><div class=\"sk-container\" hidden><div class=\"sk-item\"><div class=\"sk-estimator sk-toggleable\"><input class=\"sk-toggleable__control sk-hidden--visually\" id=\"sk-estimator-id-81\" type=\"checkbox\" checked><label for=\"sk-estimator-id-81\" class=\"sk-toggleable__label sk-toggleable__label-arrow\">DecisionTreeClassifier</label><div class=\"sk-toggleable__content\"><pre>DecisionTreeClassifier(criterion=&#x27;entropy&#x27;, max_depth=5, max_features=&#x27;sqrt&#x27;,\n",
       "                       min_samples_split=10, random_state=0)</pre></div></div></div></div></div>"
      ],
      "text/plain": [
       "DecisionTreeClassifier(criterion='entropy', max_depth=5, max_features='sqrt',\n",
       "                       min_samples_split=10, random_state=0)"
      ]
     },
     "execution_count": 242,
     "metadata": {},
     "output_type": "execute_result"
    }
   ],
   "source": [
    "clf = DecisionTreeClassifier(criterion='entropy', max_depth=5, max_features='sqrt', min_samples_leaf=1,\n",
    "                            min_samples_split=10, splitter='best', random_state=0)\n",
    "clf.fit(x_train, y_train)"
   ]
  },
  {
   "cell_type": "code",
   "execution_count": 243,
   "id": "27bc406d-7a98-482b-bd28-23c6bab083c7",
   "metadata": {},
   "outputs": [],
   "source": [
    "pred = clf.predict(x_test)"
   ]
  },
  {
   "cell_type": "code",
   "execution_count": 244,
   "id": "39edcbbe-052d-453d-8834-55d3a3891c50",
   "metadata": {},
   "outputs": [
    {
     "data": {
      "text/plain": [
       "0.6408888888888888"
      ]
     },
     "execution_count": 244,
     "metadata": {},
     "output_type": "execute_result"
    }
   ],
   "source": [
    "accuracy_score(y_test, pred)"
   ]
  },
  {
   "cell_type": "code",
   "execution_count": 257,
   "id": "07a2c183-734e-40d3-ae89-d65e6835868a",
   "metadata": {},
   "outputs": [
    {
     "data": {
      "text/html": [
       "<style>#sk-container-id-72 {color: black;}#sk-container-id-72 pre{padding: 0;}#sk-container-id-72 div.sk-toggleable {background-color: white;}#sk-container-id-72 label.sk-toggleable__label {cursor: pointer;display: block;width: 100%;margin-bottom: 0;padding: 0.3em;box-sizing: border-box;text-align: center;}#sk-container-id-72 label.sk-toggleable__label-arrow:before {content: \"▸\";float: left;margin-right: 0.25em;color: #696969;}#sk-container-id-72 label.sk-toggleable__label-arrow:hover:before {color: black;}#sk-container-id-72 div.sk-estimator:hover label.sk-toggleable__label-arrow:before {color: black;}#sk-container-id-72 div.sk-toggleable__content {max-height: 0;max-width: 0;overflow: hidden;text-align: left;background-color: #f0f8ff;}#sk-container-id-72 div.sk-toggleable__content pre {margin: 0.2em;color: black;border-radius: 0.25em;background-color: #f0f8ff;}#sk-container-id-72 input.sk-toggleable__control:checked~div.sk-toggleable__content {max-height: 200px;max-width: 100%;overflow: auto;}#sk-container-id-72 input.sk-toggleable__control:checked~label.sk-toggleable__label-arrow:before {content: \"▾\";}#sk-container-id-72 div.sk-estimator input.sk-toggleable__control:checked~label.sk-toggleable__label {background-color: #d4ebff;}#sk-container-id-72 div.sk-label input.sk-toggleable__control:checked~label.sk-toggleable__label {background-color: #d4ebff;}#sk-container-id-72 input.sk-hidden--visually {border: 0;clip: rect(1px 1px 1px 1px);clip: rect(1px, 1px, 1px, 1px);height: 1px;margin: -1px;overflow: hidden;padding: 0;position: absolute;width: 1px;}#sk-container-id-72 div.sk-estimator {font-family: monospace;background-color: #f0f8ff;border: 1px dotted black;border-radius: 0.25em;box-sizing: border-box;margin-bottom: 0.5em;}#sk-container-id-72 div.sk-estimator:hover {background-color: #d4ebff;}#sk-container-id-72 div.sk-parallel-item::after {content: \"\";width: 100%;border-bottom: 1px solid gray;flex-grow: 1;}#sk-container-id-72 div.sk-label:hover label.sk-toggleable__label {background-color: #d4ebff;}#sk-container-id-72 div.sk-serial::before {content: \"\";position: absolute;border-left: 1px solid gray;box-sizing: border-box;top: 0;bottom: 0;left: 50%;z-index: 0;}#sk-container-id-72 div.sk-serial {display: flex;flex-direction: column;align-items: center;background-color: white;padding-right: 0.2em;padding-left: 0.2em;position: relative;}#sk-container-id-72 div.sk-item {position: relative;z-index: 1;}#sk-container-id-72 div.sk-parallel {display: flex;align-items: stretch;justify-content: center;background-color: white;position: relative;}#sk-container-id-72 div.sk-item::before, #sk-container-id-72 div.sk-parallel-item::before {content: \"\";position: absolute;border-left: 1px solid gray;box-sizing: border-box;top: 0;bottom: 0;left: 50%;z-index: -1;}#sk-container-id-72 div.sk-parallel-item {display: flex;flex-direction: column;z-index: 1;position: relative;background-color: white;}#sk-container-id-72 div.sk-parallel-item:first-child::after {align-self: flex-end;width: 50%;}#sk-container-id-72 div.sk-parallel-item:last-child::after {align-self: flex-start;width: 50%;}#sk-container-id-72 div.sk-parallel-item:only-child::after {width: 0;}#sk-container-id-72 div.sk-dashed-wrapped {border: 1px dashed gray;margin: 0 0.4em 0.5em 0.4em;box-sizing: border-box;padding-bottom: 0.4em;background-color: white;}#sk-container-id-72 div.sk-label label {font-family: monospace;font-weight: bold;display: inline-block;line-height: 1.2em;}#sk-container-id-72 div.sk-label-container {text-align: center;}#sk-container-id-72 div.sk-container {/* jupyter's `normalize.less` sets `[hidden] { display: none; }` but bootstrap.min.css set `[hidden] { display: none !important; }` so we also need the `!important` here to be able to override the default hidden behavior on the sphinx rendered scikit-learn.org. See: https://github.com/scikit-learn/scikit-learn/issues/21755 */display: inline-block !important;position: relative;}#sk-container-id-72 div.sk-text-repr-fallback {display: none;}</style><div id=\"sk-container-id-72\" class=\"sk-top-container\"><div class=\"sk-text-repr-fallback\"><pre>DecisionTreeClassifier(max_depth=5, random_state=0)</pre><b>In a Jupyter environment, please rerun this cell to show the HTML representation or trust the notebook. <br />On GitHub, the HTML representation is unable to render, please try loading this page with nbviewer.org.</b></div><div class=\"sk-container\" hidden><div class=\"sk-item\"><div class=\"sk-estimator sk-toggleable\"><input class=\"sk-toggleable__control sk-hidden--visually\" id=\"sk-estimator-id-86\" type=\"checkbox\" checked><label for=\"sk-estimator-id-86\" class=\"sk-toggleable__label sk-toggleable__label-arrow\">DecisionTreeClassifier</label><div class=\"sk-toggleable__content\"><pre>DecisionTreeClassifier(max_depth=5, random_state=0)</pre></div></div></div></div></div>"
      ],
      "text/plain": [
       "DecisionTreeClassifier(max_depth=5, random_state=0)"
      ]
     },
     "execution_count": 257,
     "metadata": {},
     "output_type": "execute_result"
    }
   ],
   "source": [
    "clf = DecisionTreeClassifier(criterion='gini', max_depth=5, splitter='best', random_state=0)\n",
    "clf.fit(x_train, y_train)"
   ]
  },
  {
   "cell_type": "code",
   "execution_count": 258,
   "id": "5b35adfe-bacc-4f35-b709-009b81b90afd",
   "metadata": {},
   "outputs": [],
   "source": [
    "pred = clf.predict(x_test)"
   ]
  },
  {
   "cell_type": "code",
   "execution_count": 259,
   "id": "782e221f-1a99-4c4e-a440-59377167b5e8",
   "metadata": {},
   "outputs": [
    {
     "data": {
      "text/plain": [
       "0.6924444444444444"
      ]
     },
     "execution_count": 259,
     "metadata": {},
     "output_type": "execute_result"
    }
   ],
   "source": [
    "accuracy_score(y_test, pred)"
   ]
  },
  {
   "cell_type": "code",
   "execution_count": null,
   "id": "898fb879-bde3-44b3-ad9e-fbdf1d5392e1",
   "metadata": {},
   "outputs": [],
   "source": []
  }
 ],
 "metadata": {
  "kernelspec": {
   "display_name": "Python 3 (ipykernel)",
   "language": "python",
   "name": "python3"
  },
  "language_info": {
   "codemirror_mode": {
    "name": "ipython",
    "version": 3
   },
   "file_extension": ".py",
   "mimetype": "text/x-python",
   "name": "python",
   "nbconvert_exporter": "python",
   "pygments_lexer": "ipython3",
   "version": "3.11.4"
  }
 },
 "nbformat": 4,
 "nbformat_minor": 5
}
