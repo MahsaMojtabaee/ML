{
 "cells": [
  {
   "cell_type": "code",
   "execution_count": 125,
   "id": "c5118557-6263-4ee1-a298-69f2729a3721",
   "metadata": {},
   "outputs": [],
   "source": [
    "import numpy as np, pandas as pd\n",
    "import import_ipynb\n",
    "from Decision_Tree_HW import DecisionTree\n",
    "from sklearn.model_selection import train_test_split"
   ]
  },
  {
   "cell_type": "code",
   "execution_count": 126,
   "id": "7a37741d-cbae-4c66-9e55-fd88b6b5faac",
   "metadata": {},
   "outputs": [
    {
     "data": {
      "text/html": [
       "<div>\n",
       "<style scoped>\n",
       "    .dataframe tbody tr th:only-of-type {\n",
       "        vertical-align: middle;\n",
       "    }\n",
       "\n",
       "    .dataframe tbody tr th {\n",
       "        vertical-align: top;\n",
       "    }\n",
       "\n",
       "    .dataframe thead th {\n",
       "        text-align: right;\n",
       "    }\n",
       "</style>\n",
       "<table border=\"1\" class=\"dataframe\">\n",
       "  <thead>\n",
       "    <tr style=\"text-align: right;\">\n",
       "      <th></th>\n",
       "      <th>0</th>\n",
       "      <th>1</th>\n",
       "      <th>2</th>\n",
       "      <th>3</th>\n",
       "      <th>4</th>\n",
       "      <th>5</th>\n",
       "      <th>6</th>\n",
       "      <th>7</th>\n",
       "      <th>8</th>\n",
       "      <th>9</th>\n",
       "    </tr>\n",
       "  </thead>\n",
       "  <tbody>\n",
       "    <tr>\n",
       "      <th>1</th>\n",
       "      <td>Influenza</td>\n",
       "      <td>Yes</td>\n",
       "      <td>No</td>\n",
       "      <td>Yes</td>\n",
       "      <td>Yes</td>\n",
       "      <td>19</td>\n",
       "      <td>Female</td>\n",
       "      <td>Low</td>\n",
       "      <td>Normal</td>\n",
       "      <td>Positive</td>\n",
       "    </tr>\n",
       "    <tr>\n",
       "      <th>2</th>\n",
       "      <td>Common Cold</td>\n",
       "      <td>No</td>\n",
       "      <td>Yes</td>\n",
       "      <td>Yes</td>\n",
       "      <td>No</td>\n",
       "      <td>25</td>\n",
       "      <td>Female</td>\n",
       "      <td>Normal</td>\n",
       "      <td>Normal</td>\n",
       "      <td>Negative</td>\n",
       "    </tr>\n",
       "    <tr>\n",
       "      <th>3</th>\n",
       "      <td>Eczema</td>\n",
       "      <td>No</td>\n",
       "      <td>Yes</td>\n",
       "      <td>Yes</td>\n",
       "      <td>No</td>\n",
       "      <td>25</td>\n",
       "      <td>Female</td>\n",
       "      <td>Normal</td>\n",
       "      <td>Normal</td>\n",
       "      <td>Negative</td>\n",
       "    </tr>\n",
       "    <tr>\n",
       "      <th>4</th>\n",
       "      <td>Asthma</td>\n",
       "      <td>Yes</td>\n",
       "      <td>Yes</td>\n",
       "      <td>No</td>\n",
       "      <td>Yes</td>\n",
       "      <td>25</td>\n",
       "      <td>Male</td>\n",
       "      <td>Normal</td>\n",
       "      <td>Normal</td>\n",
       "      <td>Positive</td>\n",
       "    </tr>\n",
       "    <tr>\n",
       "      <th>5</th>\n",
       "      <td>Asthma</td>\n",
       "      <td>Yes</td>\n",
       "      <td>Yes</td>\n",
       "      <td>No</td>\n",
       "      <td>Yes</td>\n",
       "      <td>25</td>\n",
       "      <td>Male</td>\n",
       "      <td>Normal</td>\n",
       "      <td>Normal</td>\n",
       "      <td>Positive</td>\n",
       "    </tr>\n",
       "  </tbody>\n",
       "</table>\n",
       "</div>"
      ],
      "text/plain": [
       "             0    1    2    3    4   5       6       7       8         9\n",
       "1    Influenza  Yes   No  Yes  Yes  19  Female     Low  Normal  Positive\n",
       "2  Common Cold   No  Yes  Yes   No  25  Female  Normal  Normal  Negative\n",
       "3       Eczema   No  Yes  Yes   No  25  Female  Normal  Normal  Negative\n",
       "4       Asthma  Yes  Yes   No  Yes  25    Male  Normal  Normal  Positive\n",
       "5       Asthma  Yes  Yes   No  Yes  25    Male  Normal  Normal  Positive"
      ]
     },
     "execution_count": 126,
     "metadata": {},
     "output_type": "execute_result"
    }
   ],
   "source": [
    "df = pd.read_csv('data/Disease_symptom_and_patient_profile_dataset.csv', header=None)\n",
    "df.drop(0, axis=0, inplace=True)\n",
    "df.head()"
   ]
  },
  {
   "cell_type": "code",
   "execution_count": 127,
   "id": "4d9e4d2f-2c05-485e-b8e7-c7090d37db5d",
   "metadata": {},
   "outputs": [
    {
     "name": "stdout",
     "output_type": "stream",
     "text": [
      "<class 'pandas.core.frame.DataFrame'>\n",
      "RangeIndex: 349 entries, 1 to 349\n",
      "Data columns (total 10 columns):\n",
      " #   Column  Non-Null Count  Dtype \n",
      "---  ------  --------------  ----- \n",
      " 0   0       349 non-null    object\n",
      " 1   1       349 non-null    object\n",
      " 2   2       349 non-null    object\n",
      " 3   3       349 non-null    object\n",
      " 4   4       349 non-null    object\n",
      " 5   5       349 non-null    object\n",
      " 6   6       349 non-null    object\n",
      " 7   7       349 non-null    object\n",
      " 8   8       349 non-null    object\n",
      " 9   9       349 non-null    object\n",
      "dtypes: object(10)\n",
      "memory usage: 27.4+ KB\n"
     ]
    }
   ],
   "source": [
    "df.info()"
   ]
  },
  {
   "cell_type": "code",
   "execution_count": 128,
   "id": "b649d4da-45dc-4c47-b50c-a2f24600e043",
   "metadata": {},
   "outputs": [
    {
     "data": {
      "text/plain": [
       "(349, 10)"
      ]
     },
     "execution_count": 128,
     "metadata": {},
     "output_type": "execute_result"
    }
   ],
   "source": [
    "df.shape"
   ]
  },
  {
   "cell_type": "code",
   "execution_count": 129,
   "id": "e95c1e21-f029-4d9f-af2e-77adf2f1dc39",
   "metadata": {},
   "outputs": [
    {
     "data": {
      "text/html": [
       "<div>\n",
       "<style scoped>\n",
       "    .dataframe tbody tr th:only-of-type {\n",
       "        vertical-align: middle;\n",
       "    }\n",
       "\n",
       "    .dataframe tbody tr th {\n",
       "        vertical-align: top;\n",
       "    }\n",
       "\n",
       "    .dataframe thead th {\n",
       "        text-align: right;\n",
       "    }\n",
       "</style>\n",
       "<table border=\"1\" class=\"dataframe\">\n",
       "  <thead>\n",
       "    <tr style=\"text-align: right;\">\n",
       "      <th></th>\n",
       "      <th>0</th>\n",
       "      <th>1</th>\n",
       "      <th>2</th>\n",
       "      <th>3</th>\n",
       "      <th>4</th>\n",
       "      <th>5</th>\n",
       "      <th>6</th>\n",
       "      <th>7</th>\n",
       "      <th>8</th>\n",
       "      <th>9</th>\n",
       "    </tr>\n",
       "  </thead>\n",
       "  <tbody>\n",
       "    <tr>\n",
       "      <th>count</th>\n",
       "      <td>349</td>\n",
       "      <td>349</td>\n",
       "      <td>349</td>\n",
       "      <td>349</td>\n",
       "      <td>349</td>\n",
       "      <td>349</td>\n",
       "      <td>349</td>\n",
       "      <td>349</td>\n",
       "      <td>349</td>\n",
       "      <td>349</td>\n",
       "    </tr>\n",
       "    <tr>\n",
       "      <th>unique</th>\n",
       "      <td>116</td>\n",
       "      <td>2</td>\n",
       "      <td>2</td>\n",
       "      <td>2</td>\n",
       "      <td>2</td>\n",
       "      <td>26</td>\n",
       "      <td>2</td>\n",
       "      <td>3</td>\n",
       "      <td>3</td>\n",
       "      <td>2</td>\n",
       "    </tr>\n",
       "    <tr>\n",
       "      <th>top</th>\n",
       "      <td>Asthma</td>\n",
       "      <td>Yes</td>\n",
       "      <td>No</td>\n",
       "      <td>Yes</td>\n",
       "      <td>No</td>\n",
       "      <td>45</td>\n",
       "      <td>Female</td>\n",
       "      <td>High</td>\n",
       "      <td>High</td>\n",
       "      <td>Positive</td>\n",
       "    </tr>\n",
       "    <tr>\n",
       "      <th>freq</th>\n",
       "      <td>23</td>\n",
       "      <td>175</td>\n",
       "      <td>182</td>\n",
       "      <td>242</td>\n",
       "      <td>261</td>\n",
       "      <td>42</td>\n",
       "      <td>176</td>\n",
       "      <td>167</td>\n",
       "      <td>166</td>\n",
       "      <td>186</td>\n",
       "    </tr>\n",
       "  </tbody>\n",
       "</table>\n",
       "</div>"
      ],
      "text/plain": [
       "             0    1    2    3    4    5       6     7     8         9\n",
       "count      349  349  349  349  349  349     349   349   349       349\n",
       "unique     116    2    2    2    2   26       2     3     3         2\n",
       "top     Asthma  Yes   No  Yes   No   45  Female  High  High  Positive\n",
       "freq        23  175  182  242  261   42     176   167   166       186"
      ]
     },
     "execution_count": 129,
     "metadata": {},
     "output_type": "execute_result"
    }
   ],
   "source": [
    "df.describe(include='all')"
   ]
  },
  {
   "cell_type": "code",
   "execution_count": 130,
   "id": "b341125f-1d77-4980-98bb-db857b95d38d",
   "metadata": {},
   "outputs": [],
   "source": [
    "X = df.drop(9, axis=1)\n",
    "Y = df[9]"
   ]
  },
  {
   "cell_type": "code",
   "execution_count": 131,
   "id": "a8c3adfa-94c5-43d8-9349-1c61a4e30cab",
   "metadata": {},
   "outputs": [
    {
     "name": "stdout",
     "output_type": "stream",
     "text": [
      "size of the x_train: (87, 9) and y_train: (87,)\n",
      "size of the x_test: (262, 9) and y_test: (262,)\n"
     ]
    }
   ],
   "source": [
    "x_train, x_test, y_train, y_test = train_test_split(X, Y, train_size=0.25)\n",
    "# x_train = np.array(x_train)\n",
    "# y_train = np.array(y_train)\n",
    "# x_test = np.array(x_test)\n",
    "# y_test = np.array(y_test)\n",
    "print(f'size of the x_train: {x_train.shape} and y_train: {y_train.shape}')\n",
    "print(f'size of the x_test: {x_test.shape} and y_test: {y_test.shape}')\n",
    "\n"
   ]
  },
  {
   "cell_type": "code",
   "execution_count": 132,
   "id": "b1a55eb5-c1a3-4a5e-8375-5f20ee21feab",
   "metadata": {},
   "outputs": [],
   "source": [
    "# model with best\n",
    "\n",
    "model = DecisionTree(min_samples_split=2, max_depth=8, n_features=None)"
   ]
  },
  {
   "cell_type": "code",
   "execution_count": 133,
   "id": "7d2ac200-53ad-4834-8dcb-874972d1e246",
   "metadata": {},
   "outputs": [
    {
     "name": "stdout",
     "output_type": "stream",
     "text": [
      "['Asthma' 'Atherosclerosis' 'Breast Cancer' 'Bronchitis' 'Cholera'\n",
      " 'Chronic Kidney Disease' 'Chronic Obstructive Pulmonary...' 'Common Cold'\n",
      " 'Conjunctivitis (Pink Eye)' \"Crohn's Disease\" 'Cystic Fibrosis'\n",
      " 'Depression' 'Diabetes' 'Ebola Virus' 'Eczema' 'Epilepsy' 'Fibromyalgia'\n",
      " 'Gastroenteritis' 'Glaucoma' 'HIV/AIDS' 'Hemorrhoids' 'Hepatitis'\n",
      " 'Hepatitis B' 'Hyperglycemia' 'Hypertension' 'Hyperthyroidism'\n",
      " 'Hypothyroidism' 'Influenza' 'Kidney Cancer' 'Kidney Disease'\n",
      " 'Liver Cancer' 'Liver Disease' 'Lung Cancer' 'Lymphoma' 'Measles'\n",
      " 'Melanoma' 'Migraine' 'Obsessive-Compulsive Disorde...' 'Osteomyelitis'\n",
      " 'Osteoporosis' 'Otitis Media (Ear Infection)' 'Pancreatitis'\n",
      " \"Parkinson's Disease\" 'Pneumocystis Pneumonia (PCP)' 'Pneumonia' 'Polio'\n",
      " 'Polycystic Ovary Syndrome (PCOS)' 'Prostate Cancer' 'Rabies'\n",
      " 'Rheumatoid Arthritis' 'Rubella' 'Schizophrenia' 'Sepsis' 'Sinusitis'\n",
      " 'Stroke' 'Ulcerative Colitis' 'Urinary Tract Infection'\n",
      " 'Urinary Tract Infection (UTI)' 'Williams Syndrome']\n",
      "['No' 'Yes']\n",
      "['No' 'Yes']\n",
      "['No' 'Yes']\n",
      "['No' 'Yes']\n",
      "['25' '28' '29' '30' '35' '38' '40' '42' '45' '50' '55' '57' '60' '65'\n",
      " '70']\n",
      "['Female' 'Male']\n",
      "['High' 'Low' 'Normal']\n",
      "['High' 'Low' 'Normal']\n"
     ]
    }
   ],
   "source": [
    "x = np.array(x_train)\n",
    "for column in range(x.shape[1]):\n",
    "    unique_values = np.unique(x[:, column])\n",
    "    print(unique_values)"
   ]
  },
  {
   "cell_type": "code",
   "execution_count": 134,
   "id": "47b9386f-16db-4f41-92d3-971e5e5affad",
   "metadata": {},
   "outputs": [
    {
     "ename": "InvalidIndexError",
     "evalue": "(slice(None, None, None), 0)",
     "output_type": "error",
     "traceback": [
      "\u001b[1;31m---------------------------------------------------------------------------\u001b[0m",
      "\u001b[1;31mTypeError\u001b[0m                                 Traceback (most recent call last)",
      "File \u001b[1;32m~\\AppData\\Local\\Programs\\Python\\Python311\\Lib\\site-packages\\pandas\\core\\indexes\\base.py:3653\u001b[0m, in \u001b[0;36mIndex.get_loc\u001b[1;34m(self, key)\u001b[0m\n\u001b[0;32m   3652\u001b[0m \u001b[38;5;28;01mtry\u001b[39;00m:\n\u001b[1;32m-> 3653\u001b[0m     \u001b[38;5;28;01mreturn\u001b[39;00m \u001b[38;5;28;43mself\u001b[39;49m\u001b[38;5;241;43m.\u001b[39;49m\u001b[43m_engine\u001b[49m\u001b[38;5;241;43m.\u001b[39;49m\u001b[43mget_loc\u001b[49m\u001b[43m(\u001b[49m\u001b[43mcasted_key\u001b[49m\u001b[43m)\u001b[49m\n\u001b[0;32m   3654\u001b[0m \u001b[38;5;28;01mexcept\u001b[39;00m \u001b[38;5;167;01mKeyError\u001b[39;00m \u001b[38;5;28;01mas\u001b[39;00m err:\n",
      "File \u001b[1;32m~\\AppData\\Local\\Programs\\Python\\Python311\\Lib\\site-packages\\pandas\\_libs\\index.pyx:147\u001b[0m, in \u001b[0;36mpandas._libs.index.IndexEngine.get_loc\u001b[1;34m()\u001b[0m\n",
      "File \u001b[1;32m~\\AppData\\Local\\Programs\\Python\\Python311\\Lib\\site-packages\\pandas\\_libs\\index.pyx:153\u001b[0m, in \u001b[0;36mpandas._libs.index.IndexEngine.get_loc\u001b[1;34m()\u001b[0m\n",
      "\u001b[1;31mTypeError\u001b[0m: '(slice(None, None, None), 0)' is an invalid key",
      "\nDuring handling of the above exception, another exception occurred:\n",
      "\u001b[1;31mInvalidIndexError\u001b[0m                         Traceback (most recent call last)",
      "Cell \u001b[1;32mIn[134], line 1\u001b[0m\n\u001b[1;32m----> 1\u001b[0m \u001b[43mmodel\u001b[49m\u001b[38;5;241;43m.\u001b[39;49m\u001b[43mfit\u001b[49m\u001b[43m(\u001b[49m\u001b[43mx_train\u001b[49m\u001b[43m,\u001b[49m\u001b[43m \u001b[49m\u001b[43my_train\u001b[49m\u001b[43m,\u001b[49m\u001b[43m \u001b[49m\u001b[43mmax_depth\u001b[49m\u001b[38;5;241;43m=\u001b[39;49m\u001b[38;5;241;43m5\u001b[39;49m\u001b[43m,\u001b[49m\u001b[43m \u001b[49m\u001b[43mkind\u001b[49m\u001b[38;5;241;43m=\u001b[39;49m\u001b[38;5;124;43m'\u001b[39;49m\u001b[38;5;124;43mbest\u001b[39;49m\u001b[38;5;124;43m'\u001b[39;49m\u001b[43m,\u001b[49m\u001b[43m \u001b[49m\u001b[43msample_size\u001b[49m\u001b[38;5;241;43m=\u001b[39;49m\u001b[38;5;241;43m20\u001b[39;49m\u001b[43m)\u001b[49m\n\u001b[0;32m      2\u001b[0m \u001b[38;5;66;03m# tree.fit(X, Y, max_depth=5, kind='best', sample_size=20)\u001b[39;00m\n",
      "File \u001b[1;32m<string>:44\u001b[0m, in \u001b[0;36mfit\u001b[1;34m(self, X, Y, max_depth, kind, sample_size)\u001b[0m\n",
      "File \u001b[1;32m<string>:123\u001b[0m, in \u001b[0;36m_tree_builder\u001b[1;34m(self, tree, X, Y, depth, kind, sample_size)\u001b[0m\n",
      "File \u001b[1;32m<string>:248\u001b[0m, in \u001b[0;36m_find_split\u001b[1;34m(self, X, Y)\u001b[0m\n",
      "File \u001b[1;32m~\\AppData\\Local\\Programs\\Python\\Python311\\Lib\\site-packages\\pandas\\core\\frame.py:3761\u001b[0m, in \u001b[0;36mDataFrame.__getitem__\u001b[1;34m(self, key)\u001b[0m\n\u001b[0;32m   3759\u001b[0m \u001b[38;5;28;01mif\u001b[39;00m \u001b[38;5;28mself\u001b[39m\u001b[38;5;241m.\u001b[39mcolumns\u001b[38;5;241m.\u001b[39mnlevels \u001b[38;5;241m>\u001b[39m \u001b[38;5;241m1\u001b[39m:\n\u001b[0;32m   3760\u001b[0m     \u001b[38;5;28;01mreturn\u001b[39;00m \u001b[38;5;28mself\u001b[39m\u001b[38;5;241m.\u001b[39m_getitem_multilevel(key)\n\u001b[1;32m-> 3761\u001b[0m indexer \u001b[38;5;241m=\u001b[39m \u001b[38;5;28;43mself\u001b[39;49m\u001b[38;5;241;43m.\u001b[39;49m\u001b[43mcolumns\u001b[49m\u001b[38;5;241;43m.\u001b[39;49m\u001b[43mget_loc\u001b[49m\u001b[43m(\u001b[49m\u001b[43mkey\u001b[49m\u001b[43m)\u001b[49m\n\u001b[0;32m   3762\u001b[0m \u001b[38;5;28;01mif\u001b[39;00m is_integer(indexer):\n\u001b[0;32m   3763\u001b[0m     indexer \u001b[38;5;241m=\u001b[39m [indexer]\n",
      "File \u001b[1;32m~\\AppData\\Local\\Programs\\Python\\Python311\\Lib\\site-packages\\pandas\\core\\indexes\\base.py:3660\u001b[0m, in \u001b[0;36mIndex.get_loc\u001b[1;34m(self, key)\u001b[0m\n\u001b[0;32m   3655\u001b[0m     \u001b[38;5;28;01mraise\u001b[39;00m \u001b[38;5;167;01mKeyError\u001b[39;00m(key) \u001b[38;5;28;01mfrom\u001b[39;00m \u001b[38;5;21;01merr\u001b[39;00m\n\u001b[0;32m   3656\u001b[0m \u001b[38;5;28;01mexcept\u001b[39;00m \u001b[38;5;167;01mTypeError\u001b[39;00m:\n\u001b[0;32m   3657\u001b[0m     \u001b[38;5;66;03m# If we have a listlike key, _check_indexing_error will raise\u001b[39;00m\n\u001b[0;32m   3658\u001b[0m     \u001b[38;5;66;03m#  InvalidIndexError. Otherwise we fall through and re-raise\u001b[39;00m\n\u001b[0;32m   3659\u001b[0m     \u001b[38;5;66;03m#  the TypeError.\u001b[39;00m\n\u001b[1;32m-> 3660\u001b[0m     \u001b[38;5;28;43mself\u001b[39;49m\u001b[38;5;241;43m.\u001b[39;49m\u001b[43m_check_indexing_error\u001b[49m\u001b[43m(\u001b[49m\u001b[43mkey\u001b[49m\u001b[43m)\u001b[49m\n\u001b[0;32m   3661\u001b[0m     \u001b[38;5;28;01mraise\u001b[39;00m\n",
      "File \u001b[1;32m~\\AppData\\Local\\Programs\\Python\\Python311\\Lib\\site-packages\\pandas\\core\\indexes\\base.py:5737\u001b[0m, in \u001b[0;36mIndex._check_indexing_error\u001b[1;34m(self, key)\u001b[0m\n\u001b[0;32m   5733\u001b[0m \u001b[38;5;28;01mdef\u001b[39;00m \u001b[38;5;21m_check_indexing_error\u001b[39m(\u001b[38;5;28mself\u001b[39m, key):\n\u001b[0;32m   5734\u001b[0m     \u001b[38;5;28;01mif\u001b[39;00m \u001b[38;5;129;01mnot\u001b[39;00m is_scalar(key):\n\u001b[0;32m   5735\u001b[0m         \u001b[38;5;66;03m# if key is not a scalar, directly raise an error (the code below\u001b[39;00m\n\u001b[0;32m   5736\u001b[0m         \u001b[38;5;66;03m# would convert to numpy arrays and raise later any way) - GH29926\u001b[39;00m\n\u001b[1;32m-> 5737\u001b[0m         \u001b[38;5;28;01mraise\u001b[39;00m InvalidIndexError(key)\n",
      "\u001b[1;31mInvalidIndexError\u001b[0m: (slice(None, None, None), 0)"
     ]
    }
   ],
   "source": [
    "model.fit(x_train, y_train, max_depth=5, kind='best', sample_size=20)\n",
    "# tree.fit(X, Y, max_depth=5, kind='best', sample_size=20)"
   ]
  },
  {
   "cell_type": "code",
   "execution_count": 66,
   "id": "120779b7-da1a-4fed-8f13-77e49cac47ca",
   "metadata": {},
   "outputs": [
    {
     "name": "stdout",
     "output_type": "stream",
     "text": [
      "['Allergic Rhinitis' \"Alzheimer's Disease\" 'Anxiety Disorders'\n",
      " 'Appendicitis' 'Asthma' 'Autism Spectrum Disorder (ASD)' 'Bladder Cancer'\n",
      " 'Cataracts' 'Cholecystitis' 'Cirrhosis' 'Common Cold'\n",
      " 'Coronary Artery Disease' \"Crohn's Disease\" 'Cystic Fibrosis' 'Dementia'\n",
      " 'Dengue Fever' 'Depression' 'Diabetes' 'Eating Disorders (Anorexia,...'\n",
      " 'Eczema' 'Esophageal Cancer' 'Hemophilia' 'Hemorrhoids' 'Hepatitis B'\n",
      " 'Hyperglycemia' 'Hypertension' 'Hyperthyroidism' 'Influenza'\n",
      " 'Kidney Cancer' 'Kidney Disease' 'Liver Cancer' 'Liver Disease'\n",
      " 'Lyme Disease' 'Melanoma' 'Migraine' 'Myocardial Infarction (Heart...'\n",
      " 'Osteoarthritis' 'Osteoporosis' 'Otitis Media (Ear Infection)'\n",
      " 'Ovarian Cancer' 'Pancreatitis' \"Parkinson's Disease\" 'Pneumonia'\n",
      " 'Polycystic Ovary Syndrome (PCOS)' 'Prostate Cancer' 'Psoriasis' 'Rabies'\n",
      " 'Rheumatoid Arthritis' 'Sepsis' 'Stroke' 'Turner Syndrome'\n",
      " 'Urinary Tract Infection' 'Urinary Tract Infection (UTI)']\n",
      "['No' 'Yes']\n",
      "['No' 'Yes']\n",
      "['No' 'Yes']\n",
      "['No' 'Yes']\n",
      "['19' '25' '29' '30' '35' '38' '40' '42' '45' '50' '52' '55' '56' '60'\n",
      " '65' '70' '85' '90']\n",
      "['Female' 'Male']\n",
      "['High' 'Low' 'Normal']\n",
      "['High' 'Low' 'Normal']\n"
     ]
    }
   ],
   "source": [
    "for column in range(x_train.shape[1]):\n",
    "    unique_values = np.unique(x_train[:, column])\n",
    "    print(unique_values)"
   ]
  },
  {
   "cell_type": "code",
   "execution_count": null,
   "id": "8e3d9dbf-2c95-45e9-b960-fcda2ccbd595",
   "metadata": {},
   "outputs": [],
   "source": []
  }
 ],
 "metadata": {
  "kernelspec": {
   "display_name": "Python 3 (ipykernel)",
   "language": "python",
   "name": "python3"
  },
  "language_info": {
   "codemirror_mode": {
    "name": "ipython",
    "version": 3
   },
   "file_extension": ".py",
   "mimetype": "text/x-python",
   "name": "python",
   "nbconvert_exporter": "python",
   "pygments_lexer": "ipython3",
   "version": "3.11.4"
  }
 },
 "nbformat": 4,
 "nbformat_minor": 5
}
